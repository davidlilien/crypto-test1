{
 "cells": [
  {
   "cell_type": "code",
   "execution_count": 38,
   "id": "14ee583e",
   "metadata": {},
   "outputs": [
    {
     "name": "stdout",
     "output_type": "stream",
     "text": [
      "Configuration:\n",
      "- Symbole: AAPL\n",
      "- Date de fin: Aujourd'hui\n",
      "- Durée d'analyse: 10d\n",
      "- Intervalle: 15m\n",
      "- Moyenne mobile: 30 périodes\n",
      "\n",
      "Récupération des données AAPL...\n",
      "Téléchargement des données historiques AAPL (10d)...\n",
      "\n",
      "Données AAPL récupérées:\n",
      "Période: 2025-08-28 09:30 à 2025-09-11 15:30\n",
      "Nombre de périodes (15m): 259\n",
      "Prix minimum: $225.95\n",
      "Prix maximum: $241.32\n",
      "Prix de clôture le plus récent: $230.00\n",
      "\n",
      "Premières données:\n",
      "                                 Open        High         Low       Close  \\\n",
      "Datetime                                                                    \n",
      "2025-08-28 09:30:00-04:00  230.809998  230.880005  229.335007  230.410507   \n",
      "2025-08-28 09:45:00-04:00  230.440002  230.690002  229.679993  230.470001   \n",
      "2025-08-28 10:00:00-04:00  230.429993  230.899994  230.020004  230.690002   \n",
      "2025-08-28 10:15:00-04:00  230.705002  230.750000  230.279999  230.415802   \n",
      "2025-08-28 10:30:00-04:00  230.430099  230.990005  230.350006  230.975006   \n",
      "\n",
      "                            Volume  Dividends  Stock Splits  \n",
      "Datetime                                                     \n",
      "2025-08-28 09:30:00-04:00  4734123        0.0           0.0  \n",
      "2025-08-28 09:45:00-04:00  1382560        0.0           0.0  \n",
      "2025-08-28 10:00:00-04:00  1114843        0.0           0.0  \n",
      "2025-08-28 10:15:00-04:00   599889        0.0           0.0  \n",
      "2025-08-28 10:30:00-04:00   785934        0.0           0.0  \n",
      "\n",
      "Dernières données (récentes):\n",
      "                                 Open        High         Low       Close  \\\n",
      "Datetime                                                                    \n",
      "2025-09-11 14:30:00-04:00  229.464996  229.990005  229.440002  229.964996   \n",
      "2025-09-11 14:45:00-04:00  229.960007  230.150803  229.750000  229.857498   \n",
      "2025-09-11 15:00:00-04:00  229.869995  230.065002  229.410004  229.639999   \n",
      "2025-09-11 15:15:00-04:00  229.654999  229.910004  229.539993  229.850006   \n",
      "2025-09-11 15:30:00-04:00  230.000504  230.000504  230.000504  230.000504   \n",
      "\n",
      "                            Volume  Dividends  Stock Splits  \n",
      "Datetime                                                     \n",
      "2025-09-11 14:30:00-04:00   833183        0.0           0.0  \n",
      "2025-09-11 14:45:00-04:00  1002114        0.0           0.0  \n",
      "2025-09-11 15:00:00-04:00  1127398        0.0           0.0  \n",
      "2025-09-11 15:15:00-04:00   922111        0.0           0.0  \n",
      "2025-09-11 15:30:00-04:00        0        0.0           0.0  \n",
      "\n",
      "Colonnes disponibles: ['Open', 'High', 'Low', 'Close', 'Volume', 'Dividends', 'Stock Splits']\n",
      "\n",
      "Statistiques de base du prix de clôture:\n",
      "count    259.000000\n",
      "mean     233.785449\n",
      "std        4.266429\n",
      "min      226.184998\n",
      "25%      229.552299\n",
      "50%      233.570007\n",
      "75%      237.515900\n",
      "max      240.720001\n",
      "Name: Close, dtype: float64\n"
     ]
    }
   ],
   "source": [
    "# ===========================================\n",
    "# PARAMÈTRES DE CONFIGURATION\n",
    "# ===========================================\n",
    "\n",
    "# Symbole à analyser\n",
    "SYMBOLE = \"AAPL\"\n",
    "\n",
    "# Date de fin d'analyse (format YYYY-MM-DD)\n",
    "# Si None, utilise la date actuelle\n",
    "DATE_FIN = None  # Exemple: \"2024-12-31\" ou None pour aujourd'hui\n",
    "\n",
    "# Durée d'analyse (remonte dans le temps depuis DATE_FIN)\n",
    "# Options: \"1d\", \"5d\", \"1mo\", \"3mo\", \"6mo\", \"1y\", \"2y\", \"5y\", \"10y\", \"ytd\", \"max\"\n",
    "DUREE = \"10d\"\n",
    "\n",
    "# Intervalle des données\n",
    "# Options: \"1m\", \"2m\", \"5m\", \"15m\", \"30m\", \"60m\", \"90m\", \"1h\", \"1d\", \"5d\", \"1wk\", \"1mo\", \"3mo\"\n",
    "INTERVAL = \"15m\"\n",
    "\n",
    "# Période de la moyenne mobile (en nombre de périodes)\n",
    "MA_PERIODE = 30\n",
    "\n",
    "print(f\"Configuration:\")\n",
    "print(f\"- Symbole: {SYMBOLE}\")\n",
    "print(f\"- Date de fin: {DATE_FIN if DATE_FIN else 'Aujourd\\'hui'}\")\n",
    "print(f\"- Durée d'analyse: {DUREE}\")\n",
    "print(f\"- Intervalle: {INTERVAL}\")\n",
    "print(f\"- Moyenne mobile: {MA_PERIODE} périodes\")\n",
    "print()\n",
    "\n",
    "# ===========================================\n",
    "# RÉCUPÉRATION DES DONNÉES\n",
    "# ===========================================\n",
    "\n",
    "import pandas as pd\n",
    "import yfinance as yf\n",
    "from datetime import datetime, timedelta\n",
    "import plotly.graph_objects as go\n",
    "from plotly.subplots import make_subplots\n",
    "\n",
    "print(f\"Récupération des données {SYMBOLE}...\")\n",
    "\n",
    "# Récupération des données selon les paramètres configurés\n",
    "ticker = yf.Ticker(SYMBOLE)\n",
    "\n",
    "if DATE_FIN:\n",
    "    # Si une date de fin est spécifiée, calculer la date de début selon la durée\n",
    "    date_fin = pd.to_datetime(DATE_FIN)\n",
    "    \n",
    "    # Conversion de la durée en jours approximatifs\n",
    "    duree_map = {\n",
    "        \"1d\": 1, \"5d\": 5, \"1mo\": 30, \"3mo\": 90, \"6mo\": 180,\n",
    "        \"1y\": 365, \"2y\": 730, \"5y\": 1825, \"10y\": 3650\n",
    "    }\n",
    "    \n",
    "    if DUREE in duree_map:\n",
    "        jours = duree_map[DUREE]\n",
    "        date_debut = date_fin - timedelta(days=jours)\n",
    "        \n",
    "        print(f\"Téléchargement des données de {date_debut.strftime('%Y-%m-%d')} à {date_fin.strftime('%Y-%m-%d')}...\")\n",
    "        df_stock = ticker.history(start=date_debut.strftime('%Y-%m-%d'), \n",
    "                                  end=(date_fin + timedelta(days=1)).strftime('%Y-%m-%d'), \n",
    "                                  interval=INTERVAL)\n",
    "    else:\n",
    "        print(f\"Téléchargement des données jusqu'à {date_fin.strftime('%Y-%m-%d')} ({DUREE})...\")\n",
    "        df_stock = ticker.history(period=DUREE, end=date_fin.strftime('%Y-%m-%d'), interval=INTERVAL)\n",
    "else:\n",
    "    # Utilisation de la période normale si pas de date de fin spécifiée\n",
    "    print(f\"Téléchargement des données historiques {SYMBOLE} ({DUREE})...\")\n",
    "    df_stock = ticker.history(period=DUREE, interval=INTERVAL)\n",
    "\n",
    "# Vérification des données\n",
    "if df_stock.empty:\n",
    "    print(f\"Erreur: Aucune donnée récupérée pour {SYMBOLE}\")\n",
    "else:\n",
    "    print(f\"\\nDonnées {SYMBOLE} récupérées:\")\n",
    "    print(f\"Période: {df_stock.index.min().strftime('%Y-%m-%d %H:%M')} à {df_stock.index.max().strftime('%Y-%m-%d %H:%M')}\")\n",
    "    print(f\"Nombre de périodes ({INTERVAL}): {len(df_stock)}\")\n",
    "    print(f\"Prix minimum: ${df_stock['Low'].min():.2f}\")\n",
    "    print(f\"Prix maximum: ${df_stock['High'].max():.2f}\")\n",
    "    print(f\"Prix de clôture le plus récent: ${df_stock['Close'].iloc[-1]:.2f}\")\n",
    "    \n",
    "    # Affichage des premières et dernières lignes\n",
    "    print(f\"\\nPremières données:\")\n",
    "    print(df_stock.head())\n",
    "    print(f\"\\nDernières données (récentes):\")\n",
    "    print(df_stock.tail())\n",
    "    \n",
    "    # Informations sur les colonnes disponibles\n",
    "    print(f\"\\nColonnes disponibles: {list(df_stock.columns)}\")\n",
    "    \n",
    "    # Statistiques de base\n",
    "    print(f\"\\nStatistiques de base du prix de clôture:\")\n",
    "    print(df_stock['Close'].describe())"
   ]
  },
  {
   "cell_type": "code",
   "execution_count": 39,
   "id": "b7927153",
   "metadata": {},
   "outputs": [
    {
     "name": "stdout",
     "output_type": "stream",
     "text": [
      "Affichage du graphique AAPL avec moyenne mobile 30 périodes décalée de 15 périodes vers la gauche...\n",
      "Période analysée: 10d à aujourd'hui\n"
     ]
    },
    {
     "data": {
      "application/vnd.plotly.v1+json": {
       "config": {
        "displayModeBar": true,
        "displaylogo": false,
        "modeBarButtonsToRemove": [
         "pan2d",
         "lasso2d"
        ],
        "plotlyServerURL": "https://plot.ly"
       },
       "data": [
        {
         "line": {
          "color": "#1f77b4",
          "width": 1
         },
         "mode": "lines",
         "name": "AAPL",
         "type": "scatter",
         "x": [
          "2025-08-28T09:30:00-04:00",
          "2025-08-28T09:45:00-04:00",
          "2025-08-28T10:00:00-04:00",
          "2025-08-28T10:15:00-04:00",
          "2025-08-28T10:30:00-04:00",
          "2025-08-28T10:45:00-04:00",
          "2025-08-28T11:00:00-04:00",
          "2025-08-28T11:15:00-04:00",
          "2025-08-28T11:30:00-04:00",
          "2025-08-28T11:45:00-04:00",
          "2025-08-28T12:00:00-04:00",
          "2025-08-28T12:15:00-04:00",
          "2025-08-28T12:30:00-04:00",
          "2025-08-28T12:45:00-04:00",
          "2025-08-28T13:00:00-04:00",
          "2025-08-28T13:15:00-04:00",
          "2025-08-28T13:30:00-04:00",
          "2025-08-28T13:45:00-04:00",
          "2025-08-28T14:00:00-04:00",
          "2025-08-28T14:15:00-04:00",
          "2025-08-28T14:30:00-04:00",
          "2025-08-28T14:45:00-04:00",
          "2025-08-28T15:00:00-04:00",
          "2025-08-28T15:15:00-04:00",
          "2025-08-28T15:30:00-04:00",
          "2025-08-28T15:45:00-04:00",
          "2025-08-29T09:30:00-04:00",
          "2025-08-29T09:45:00-04:00",
          "2025-08-29T10:00:00-04:00",
          "2025-08-29T10:15:00-04:00",
          "2025-08-29T10:30:00-04:00",
          "2025-08-29T10:45:00-04:00",
          "2025-08-29T11:00:00-04:00",
          "2025-08-29T11:15:00-04:00",
          "2025-08-29T11:30:00-04:00",
          "2025-08-29T11:45:00-04:00",
          "2025-08-29T12:00:00-04:00",
          "2025-08-29T12:15:00-04:00",
          "2025-08-29T12:30:00-04:00",
          "2025-08-29T12:45:00-04:00",
          "2025-08-29T13:00:00-04:00",
          "2025-08-29T13:15:00-04:00",
          "2025-08-29T13:30:00-04:00",
          "2025-08-29T13:45:00-04:00",
          "2025-08-29T14:00:00-04:00",
          "2025-08-29T14:15:00-04:00",
          "2025-08-29T14:30:00-04:00",
          "2025-08-29T14:45:00-04:00",
          "2025-08-29T15:00:00-04:00",
          "2025-08-29T15:15:00-04:00",
          "2025-08-29T15:30:00-04:00",
          "2025-08-29T15:45:00-04:00",
          "2025-09-02T09:30:00-04:00",
          "2025-09-02T09:45:00-04:00",
          "2025-09-02T10:00:00-04:00",
          "2025-09-02T10:15:00-04:00",
          "2025-09-02T10:30:00-04:00",
          "2025-09-02T10:45:00-04:00",
          "2025-09-02T11:00:00-04:00",
          "2025-09-02T11:15:00-04:00",
          "2025-09-02T11:30:00-04:00",
          "2025-09-02T11:45:00-04:00",
          "2025-09-02T12:00:00-04:00",
          "2025-09-02T12:15:00-04:00",
          "2025-09-02T12:30:00-04:00",
          "2025-09-02T12:45:00-04:00",
          "2025-09-02T13:00:00-04:00",
          "2025-09-02T13:15:00-04:00",
          "2025-09-02T13:30:00-04:00",
          "2025-09-02T13:45:00-04:00",
          "2025-09-02T14:00:00-04:00",
          "2025-09-02T14:15:00-04:00",
          "2025-09-02T14:30:00-04:00",
          "2025-09-02T14:45:00-04:00",
          "2025-09-02T15:00:00-04:00",
          "2025-09-02T15:15:00-04:00",
          "2025-09-02T15:30:00-04:00",
          "2025-09-02T15:45:00-04:00",
          "2025-09-03T09:30:00-04:00",
          "2025-09-03T09:45:00-04:00",
          "2025-09-03T10:00:00-04:00",
          "2025-09-03T10:15:00-04:00",
          "2025-09-03T10:30:00-04:00",
          "2025-09-03T10:45:00-04:00",
          "2025-09-03T11:00:00-04:00",
          "2025-09-03T11:15:00-04:00",
          "2025-09-03T11:30:00-04:00",
          "2025-09-03T11:45:00-04:00",
          "2025-09-03T12:00:00-04:00",
          "2025-09-03T12:15:00-04:00",
          "2025-09-03T12:30:00-04:00",
          "2025-09-03T12:45:00-04:00",
          "2025-09-03T13:00:00-04:00",
          "2025-09-03T13:15:00-04:00",
          "2025-09-03T13:30:00-04:00",
          "2025-09-03T13:45:00-04:00",
          "2025-09-03T14:00:00-04:00",
          "2025-09-03T14:15:00-04:00",
          "2025-09-03T14:30:00-04:00",
          "2025-09-03T14:45:00-04:00",
          "2025-09-03T15:00:00-04:00",
          "2025-09-03T15:15:00-04:00",
          "2025-09-03T15:30:00-04:00",
          "2025-09-03T15:45:00-04:00",
          "2025-09-04T09:30:00-04:00",
          "2025-09-04T09:45:00-04:00",
          "2025-09-04T10:00:00-04:00",
          "2025-09-04T10:15:00-04:00",
          "2025-09-04T10:30:00-04:00",
          "2025-09-04T10:45:00-04:00",
          "2025-09-04T11:00:00-04:00",
          "2025-09-04T11:15:00-04:00",
          "2025-09-04T11:30:00-04:00",
          "2025-09-04T11:45:00-04:00",
          "2025-09-04T12:00:00-04:00",
          "2025-09-04T12:15:00-04:00",
          "2025-09-04T12:30:00-04:00",
          "2025-09-04T12:45:00-04:00",
          "2025-09-04T13:00:00-04:00",
          "2025-09-04T13:15:00-04:00",
          "2025-09-04T13:30:00-04:00",
          "2025-09-04T13:45:00-04:00",
          "2025-09-04T14:00:00-04:00",
          "2025-09-04T14:15:00-04:00",
          "2025-09-04T14:30:00-04:00",
          "2025-09-04T14:45:00-04:00",
          "2025-09-04T15:00:00-04:00",
          "2025-09-04T15:15:00-04:00",
          "2025-09-04T15:30:00-04:00",
          "2025-09-04T15:45:00-04:00",
          "2025-09-05T09:30:00-04:00",
          "2025-09-05T09:45:00-04:00",
          "2025-09-05T10:00:00-04:00",
          "2025-09-05T10:15:00-04:00",
          "2025-09-05T10:30:00-04:00",
          "2025-09-05T10:45:00-04:00",
          "2025-09-05T11:00:00-04:00",
          "2025-09-05T11:15:00-04:00",
          "2025-09-05T11:30:00-04:00",
          "2025-09-05T11:45:00-04:00",
          "2025-09-05T12:00:00-04:00",
          "2025-09-05T12:15:00-04:00",
          "2025-09-05T12:30:00-04:00",
          "2025-09-05T12:45:00-04:00",
          "2025-09-05T13:00:00-04:00",
          "2025-09-05T13:15:00-04:00",
          "2025-09-05T13:30:00-04:00",
          "2025-09-05T13:45:00-04:00",
          "2025-09-05T14:00:00-04:00",
          "2025-09-05T14:15:00-04:00",
          "2025-09-05T14:30:00-04:00",
          "2025-09-05T14:45:00-04:00",
          "2025-09-05T15:00:00-04:00",
          "2025-09-05T15:15:00-04:00",
          "2025-09-05T15:30:00-04:00",
          "2025-09-05T15:45:00-04:00",
          "2025-09-08T09:30:00-04:00",
          "2025-09-08T09:45:00-04:00",
          "2025-09-08T10:00:00-04:00",
          "2025-09-08T10:15:00-04:00",
          "2025-09-08T10:30:00-04:00",
          "2025-09-08T10:45:00-04:00",
          "2025-09-08T11:00:00-04:00",
          "2025-09-08T11:15:00-04:00",
          "2025-09-08T11:30:00-04:00",
          "2025-09-08T11:45:00-04:00",
          "2025-09-08T12:00:00-04:00",
          "2025-09-08T12:15:00-04:00",
          "2025-09-08T12:30:00-04:00",
          "2025-09-08T12:45:00-04:00",
          "2025-09-08T13:00:00-04:00",
          "2025-09-08T13:15:00-04:00",
          "2025-09-08T13:30:00-04:00",
          "2025-09-08T13:45:00-04:00",
          "2025-09-08T14:00:00-04:00",
          "2025-09-08T14:15:00-04:00",
          "2025-09-08T14:30:00-04:00",
          "2025-09-08T14:45:00-04:00",
          "2025-09-08T15:00:00-04:00",
          "2025-09-08T15:15:00-04:00",
          "2025-09-08T15:30:00-04:00",
          "2025-09-08T15:45:00-04:00",
          "2025-09-09T09:30:00-04:00",
          "2025-09-09T09:45:00-04:00",
          "2025-09-09T10:00:00-04:00",
          "2025-09-09T10:15:00-04:00",
          "2025-09-09T10:30:00-04:00",
          "2025-09-09T10:45:00-04:00",
          "2025-09-09T11:00:00-04:00",
          "2025-09-09T11:15:00-04:00",
          "2025-09-09T11:30:00-04:00",
          "2025-09-09T11:45:00-04:00",
          "2025-09-09T12:00:00-04:00",
          "2025-09-09T12:15:00-04:00",
          "2025-09-09T12:30:00-04:00",
          "2025-09-09T12:45:00-04:00",
          "2025-09-09T13:00:00-04:00",
          "2025-09-09T13:15:00-04:00",
          "2025-09-09T13:30:00-04:00",
          "2025-09-09T13:45:00-04:00",
          "2025-09-09T14:00:00-04:00",
          "2025-09-09T14:15:00-04:00",
          "2025-09-09T14:30:00-04:00",
          "2025-09-09T14:45:00-04:00",
          "2025-09-09T15:00:00-04:00",
          "2025-09-09T15:15:00-04:00",
          "2025-09-09T15:30:00-04:00",
          "2025-09-09T15:45:00-04:00",
          "2025-09-10T09:30:00-04:00",
          "2025-09-10T09:45:00-04:00",
          "2025-09-10T10:00:00-04:00",
          "2025-09-10T10:15:00-04:00",
          "2025-09-10T10:30:00-04:00",
          "2025-09-10T10:45:00-04:00",
          "2025-09-10T11:00:00-04:00",
          "2025-09-10T11:15:00-04:00",
          "2025-09-10T11:30:00-04:00",
          "2025-09-10T11:45:00-04:00",
          "2025-09-10T12:00:00-04:00",
          "2025-09-10T12:15:00-04:00",
          "2025-09-10T12:30:00-04:00",
          "2025-09-10T12:45:00-04:00",
          "2025-09-10T13:00:00-04:00",
          "2025-09-10T13:15:00-04:00",
          "2025-09-10T13:30:00-04:00",
          "2025-09-10T13:45:00-04:00",
          "2025-09-10T14:00:00-04:00",
          "2025-09-10T14:15:00-04:00",
          "2025-09-10T14:30:00-04:00",
          "2025-09-10T14:45:00-04:00",
          "2025-09-10T15:00:00-04:00",
          "2025-09-10T15:15:00-04:00",
          "2025-09-10T15:30:00-04:00",
          "2025-09-10T15:45:00-04:00",
          "2025-09-11T09:30:00-04:00",
          "2025-09-11T09:45:00-04:00",
          "2025-09-11T10:00:00-04:00",
          "2025-09-11T10:15:00-04:00",
          "2025-09-11T10:30:00-04:00",
          "2025-09-11T10:45:00-04:00",
          "2025-09-11T11:00:00-04:00",
          "2025-09-11T11:15:00-04:00",
          "2025-09-11T11:30:00-04:00",
          "2025-09-11T11:45:00-04:00",
          "2025-09-11T12:00:00-04:00",
          "2025-09-11T12:15:00-04:00",
          "2025-09-11T12:30:00-04:00",
          "2025-09-11T12:45:00-04:00",
          "2025-09-11T13:00:00-04:00",
          "2025-09-11T13:15:00-04:00",
          "2025-09-11T13:30:00-04:00",
          "2025-09-11T13:45:00-04:00",
          "2025-09-11T14:00:00-04:00",
          "2025-09-11T14:15:00-04:00",
          "2025-09-11T14:30:00-04:00",
          "2025-09-11T14:45:00-04:00",
          "2025-09-11T15:00:00-04:00",
          "2025-09-11T15:15:00-04:00",
          "2025-09-11T15:30:00-04:00"
         ],
         "y": {
          "bdata": "AAAA4CLNbEAAAABACs9sQAAAAIAU1mxAAAAAQE7NbEAAAABAM99sQAAAAECE62xAAAAAgHHtbEAAAABgZt5sQAAAAIDr6WxAAAAAgMLxbEAAAACAFPpsQAAAAKBHCW1AAAAAIIULbUAAAACAwg1tQAAAAIDCGW1AAAAAAAAgbUAAAABA4SJtQAAAAKBHJW1AAAAAAAAkbUAAAAAgah1tQAAAAODQHm1AAAAAANcbbUAAAABgZhptQAAAAEAzH21AAAAAQOEebUAAAAAgrg9tQAAAAEDhEm1AAAAAYGYSbUAAAABgjwptQAAAAEDoGW1AAAAAYGYWbUAAAAAAABxtQAAAAIA9Gm1AAAAAYLgebUAAAADgegRtQAAAAAC++GxAAAAAgLULbUAAAAAAABBtQAAAAOCjGG1AAAAAIIUbbUAAAADgUQhtQAAAAMD1AG1AAAAAYLgGbUAAAABgjwptQAAAAEDWC21AAAAAgMIFbUAAAABAyANtQAAAAMDMBG1AAAAAgBQObUAAAABgVgttQAAAAOBoFm1AAAAA4KMIbUAAAADgeqxsQAAAAIAUxmxAAAAAoHDFbEAAAABAM9NsQAAAAADXq2xAAAAAQDODbEAAAACAFH5sQAAAACCHemxAAAAAYLhubEAAAAAAS21sQAAAACCFe2xAAAAAQDN7bEAAAADgo4BsQAAAAOCMgGxAAAAAQOF+bEAAAADAHo1sQAAAACBsnmxAAAAAIIWTbEAAAABA4ZJsQAAAAMDMjGxAAAAAACmQbEAAAADASZJsQAAAAEAzm2xAAAAAgBSebEAAAADgo6RsQAAAAGC4tmxAAAAAAClQbUAAAACAFHZtQAAAAKCZeW1AAAAAYI+abUAAAABACqNtQAAAAOBRoG1AAAAA4KOIbUAAAAAgWoBtQAAAACCuh21AAAAAIK5zbUAAAADA9YhtQAAAACCuj21AAAAAYI+ebUAAAACAwqFtQAAAAOCjuG1AAAAAoKutbUAAAADgepxtQAAAAIDroW1AAAAAwPWgbUAAAADAHp1tQAAAAIDCpW1AAAAAACCebUAAAABA4aJtQAAAAMD1pG1AAAAAgD22bUAAAAAgrs9tQAAAAGAAy21AAAAA4KPwbUAAAABgmsFtQAAAAIAUtm1AAAAA4FGsbUAAAABgF69tQAAAACBcr21AAAAAwMysbUAAAAAghZ9tQAAAAMAerW1AAAAAoLKwbUAAAADAHqVtQAAAAMD1oG1AAAAA4FGwbUAAAACgcLltQAAAAKBHwW1AAAAAgBS2bUAAAADgo8RtQAAAAIDryW1AAAAAgOvBbUAAAAAgrr9tQAAAAEAzz21AAAAAgBTabUAAAABAi9ZtQAAAAMDM3G1AAAAAYLj2bUAAAADAzPRtQAAAAOBfAm5AAAAAQAoXbkAAAADAHultQAAAAOBR4G1AAAAAIK7fbUAAAACAH+1tQAAAAIDC+W1AAAAAgEgBbkAAAADA099tQAAAAGCP4m1AAAAA4KPYbUAAAAAgJu1tQAAAAGCP6m1AAAAAgD3ybUAAAAAAAPRtQAAAAAAA4G1AAAAAIK7bbUAAAADA9eBtQAAAAADX421AAAAAwPX4bUAAAABgj/5tQAAAACBc/21AAAAAoJn9bUAAAADgvP1tQAAAAKBw9W1AAAAAgBTybUAAAABAM+ttQAAAAIDC9W1AAAAAIFznbUAAAABA4eJtQAAAAMDM5G1AAAAAQOHibUAAAABgZtZtQAAAAKCZ0W1AAAAAwPXIbUAAAADAzLxtQAAAACBct21AAAAAYGaubUAAAAAgXJ9tQAAAAKBwjW1AAAAAIMm5bUAAAAAghbttQAAAAAAAuG1AAAAAoEe5bUAAAACgR6VtQAAAAADXm21AAAAAAACcbUAAAACAwpltQAAAACCFo21AAAAAANevbUAAAACgcL1tQAAAAKBwlW1AAAAAoJmZbUAAAACAwo1tQAAAAGDsiW1AAAAAACl8bUAAAACgcJFtQAAAAKDEhG1AAAAAQDOHbUAAAACAFH5tQAAAAIDCdW1AAAAAoF6BbUAAAAAAAIBtQAAAACBcf21AAAAAwNOTbUAAAACgmcFtQAAAAAAAuG1AAAAAYI+abUAAAADA9ZBtQAAAAIA9Ym1AAAAAQOpQbUAAAACAwjltQAAAAECtN21AAAAAIFxHbUAAAACA60ltQAAAAIA9Mm1AAAAAQDNLbUAAAABACqdsQAAAAGCWsWxAAAAAIK6nbEAAAADAdINsQAAAAIDreWxAAAAAIFx3bEAAAAAgrntsQAAAAKBHYWxAAAAA4HpYbEAAAADgUWhsQAAAACCud2xAAAAAoKJ3bEAAAADgUWBsQAAAAMAebWxAAAAAIK5vbEAAAACAwllsQAAAAIDCVWxAAAAA4ABWbEAAAADgHV1sQAAAAIDrYWxAAAAAgBRabEAAAADgelxsQAAAAMD1SGxAAAAAgOtFbEAAAABACk9sQAAAAMD1WGxAAAAAgBR+bEAAAACgcKFsQAAAAKDmn2xAAAAAgBSebEAAAADgo5RsQAAAAMAeoWxAAAAAYGaWbEAAAAAgrpdsQAAAAKBwlWxAAAAAwB6NbEAAAADAHolsQAAAACCFk2xAAAAAQOGSbEAAAAAAAJhsQAAAAIDCpWxAAAAAwB6vbEAAAADgo7hsQAAAAIDrwWxAAAAAgMKxbEAAAABguK5sQAAAAEDhvmxAAAAAoHC7bEAAAADgerRsQAAAAEAzu2xAAAAAIATAbEA=",
          "dtype": "f8"
         }
        },
        {
         "line": {
          "color": "red",
          "width": 1
         },
         "mode": "lines",
         "name": "MM 30 périodes (décalée -15)",
         "opacity": 0.9,
         "type": "scatter",
         "x": [
          "2025-08-28T09:30:00-04:00",
          "2025-08-28T09:45:00-04:00",
          "2025-08-28T10:00:00-04:00",
          "2025-08-28T10:15:00-04:00",
          "2025-08-28T10:30:00-04:00",
          "2025-08-28T10:45:00-04:00",
          "2025-08-28T11:00:00-04:00",
          "2025-08-28T11:15:00-04:00",
          "2025-08-28T11:30:00-04:00",
          "2025-08-28T11:45:00-04:00",
          "2025-08-28T12:00:00-04:00",
          "2025-08-28T12:15:00-04:00",
          "2025-08-28T12:30:00-04:00",
          "2025-08-28T12:45:00-04:00",
          "2025-08-28T13:00:00-04:00",
          "2025-08-28T13:15:00-04:00",
          "2025-08-28T13:30:00-04:00",
          "2025-08-28T13:45:00-04:00",
          "2025-08-28T14:00:00-04:00",
          "2025-08-28T14:15:00-04:00",
          "2025-08-28T14:30:00-04:00",
          "2025-08-28T14:45:00-04:00",
          "2025-08-28T15:00:00-04:00",
          "2025-08-28T15:15:00-04:00",
          "2025-08-28T15:30:00-04:00",
          "2025-08-28T15:45:00-04:00",
          "2025-08-29T09:30:00-04:00",
          "2025-08-29T09:45:00-04:00",
          "2025-08-29T10:00:00-04:00",
          "2025-08-29T10:15:00-04:00",
          "2025-08-29T10:30:00-04:00",
          "2025-08-29T10:45:00-04:00",
          "2025-08-29T11:00:00-04:00",
          "2025-08-29T11:15:00-04:00",
          "2025-08-29T11:30:00-04:00",
          "2025-08-29T11:45:00-04:00",
          "2025-08-29T12:00:00-04:00",
          "2025-08-29T12:15:00-04:00",
          "2025-08-29T12:30:00-04:00",
          "2025-08-29T12:45:00-04:00",
          "2025-08-29T13:00:00-04:00",
          "2025-08-29T13:15:00-04:00",
          "2025-08-29T13:30:00-04:00",
          "2025-08-29T13:45:00-04:00",
          "2025-08-29T14:00:00-04:00",
          "2025-08-29T14:15:00-04:00",
          "2025-08-29T14:30:00-04:00",
          "2025-08-29T14:45:00-04:00",
          "2025-08-29T15:00:00-04:00",
          "2025-08-29T15:15:00-04:00",
          "2025-08-29T15:30:00-04:00",
          "2025-08-29T15:45:00-04:00",
          "2025-09-02T09:30:00-04:00",
          "2025-09-02T09:45:00-04:00",
          "2025-09-02T10:00:00-04:00",
          "2025-09-02T10:15:00-04:00",
          "2025-09-02T10:30:00-04:00",
          "2025-09-02T10:45:00-04:00",
          "2025-09-02T11:00:00-04:00",
          "2025-09-02T11:15:00-04:00",
          "2025-09-02T11:30:00-04:00",
          "2025-09-02T11:45:00-04:00",
          "2025-09-02T12:00:00-04:00",
          "2025-09-02T12:15:00-04:00",
          "2025-09-02T12:30:00-04:00",
          "2025-09-02T12:45:00-04:00",
          "2025-09-02T13:00:00-04:00",
          "2025-09-02T13:15:00-04:00",
          "2025-09-02T13:30:00-04:00",
          "2025-09-02T13:45:00-04:00",
          "2025-09-02T14:00:00-04:00",
          "2025-09-02T14:15:00-04:00",
          "2025-09-02T14:30:00-04:00",
          "2025-09-02T14:45:00-04:00",
          "2025-09-02T15:00:00-04:00",
          "2025-09-02T15:15:00-04:00",
          "2025-09-02T15:30:00-04:00",
          "2025-09-02T15:45:00-04:00",
          "2025-09-03T09:30:00-04:00",
          "2025-09-03T09:45:00-04:00",
          "2025-09-03T10:00:00-04:00",
          "2025-09-03T10:15:00-04:00",
          "2025-09-03T10:30:00-04:00",
          "2025-09-03T10:45:00-04:00",
          "2025-09-03T11:00:00-04:00",
          "2025-09-03T11:15:00-04:00",
          "2025-09-03T11:30:00-04:00",
          "2025-09-03T11:45:00-04:00",
          "2025-09-03T12:00:00-04:00",
          "2025-09-03T12:15:00-04:00",
          "2025-09-03T12:30:00-04:00",
          "2025-09-03T12:45:00-04:00",
          "2025-09-03T13:00:00-04:00",
          "2025-09-03T13:15:00-04:00",
          "2025-09-03T13:30:00-04:00",
          "2025-09-03T13:45:00-04:00",
          "2025-09-03T14:00:00-04:00",
          "2025-09-03T14:15:00-04:00",
          "2025-09-03T14:30:00-04:00",
          "2025-09-03T14:45:00-04:00",
          "2025-09-03T15:00:00-04:00",
          "2025-09-03T15:15:00-04:00",
          "2025-09-03T15:30:00-04:00",
          "2025-09-03T15:45:00-04:00",
          "2025-09-04T09:30:00-04:00",
          "2025-09-04T09:45:00-04:00",
          "2025-09-04T10:00:00-04:00",
          "2025-09-04T10:15:00-04:00",
          "2025-09-04T10:30:00-04:00",
          "2025-09-04T10:45:00-04:00",
          "2025-09-04T11:00:00-04:00",
          "2025-09-04T11:15:00-04:00",
          "2025-09-04T11:30:00-04:00",
          "2025-09-04T11:45:00-04:00",
          "2025-09-04T12:00:00-04:00",
          "2025-09-04T12:15:00-04:00",
          "2025-09-04T12:30:00-04:00",
          "2025-09-04T12:45:00-04:00",
          "2025-09-04T13:00:00-04:00",
          "2025-09-04T13:15:00-04:00",
          "2025-09-04T13:30:00-04:00",
          "2025-09-04T13:45:00-04:00",
          "2025-09-04T14:00:00-04:00",
          "2025-09-04T14:15:00-04:00",
          "2025-09-04T14:30:00-04:00",
          "2025-09-04T14:45:00-04:00",
          "2025-09-04T15:00:00-04:00",
          "2025-09-04T15:15:00-04:00",
          "2025-09-04T15:30:00-04:00",
          "2025-09-04T15:45:00-04:00",
          "2025-09-05T09:30:00-04:00",
          "2025-09-05T09:45:00-04:00",
          "2025-09-05T10:00:00-04:00",
          "2025-09-05T10:15:00-04:00",
          "2025-09-05T10:30:00-04:00",
          "2025-09-05T10:45:00-04:00",
          "2025-09-05T11:00:00-04:00",
          "2025-09-05T11:15:00-04:00",
          "2025-09-05T11:30:00-04:00",
          "2025-09-05T11:45:00-04:00",
          "2025-09-05T12:00:00-04:00",
          "2025-09-05T12:15:00-04:00",
          "2025-09-05T12:30:00-04:00",
          "2025-09-05T12:45:00-04:00",
          "2025-09-05T13:00:00-04:00",
          "2025-09-05T13:15:00-04:00",
          "2025-09-05T13:30:00-04:00",
          "2025-09-05T13:45:00-04:00",
          "2025-09-05T14:00:00-04:00",
          "2025-09-05T14:15:00-04:00",
          "2025-09-05T14:30:00-04:00",
          "2025-09-05T14:45:00-04:00",
          "2025-09-05T15:00:00-04:00",
          "2025-09-05T15:15:00-04:00",
          "2025-09-05T15:30:00-04:00",
          "2025-09-05T15:45:00-04:00",
          "2025-09-08T09:30:00-04:00",
          "2025-09-08T09:45:00-04:00",
          "2025-09-08T10:00:00-04:00",
          "2025-09-08T10:15:00-04:00",
          "2025-09-08T10:30:00-04:00",
          "2025-09-08T10:45:00-04:00",
          "2025-09-08T11:00:00-04:00",
          "2025-09-08T11:15:00-04:00",
          "2025-09-08T11:30:00-04:00",
          "2025-09-08T11:45:00-04:00",
          "2025-09-08T12:00:00-04:00",
          "2025-09-08T12:15:00-04:00",
          "2025-09-08T12:30:00-04:00",
          "2025-09-08T12:45:00-04:00",
          "2025-09-08T13:00:00-04:00",
          "2025-09-08T13:15:00-04:00",
          "2025-09-08T13:30:00-04:00",
          "2025-09-08T13:45:00-04:00",
          "2025-09-08T14:00:00-04:00",
          "2025-09-08T14:15:00-04:00",
          "2025-09-08T14:30:00-04:00",
          "2025-09-08T14:45:00-04:00",
          "2025-09-08T15:00:00-04:00",
          "2025-09-08T15:15:00-04:00",
          "2025-09-08T15:30:00-04:00",
          "2025-09-08T15:45:00-04:00",
          "2025-09-09T09:30:00-04:00",
          "2025-09-09T09:45:00-04:00",
          "2025-09-09T10:00:00-04:00",
          "2025-09-09T10:15:00-04:00",
          "2025-09-09T10:30:00-04:00",
          "2025-09-09T10:45:00-04:00",
          "2025-09-09T11:00:00-04:00",
          "2025-09-09T11:15:00-04:00",
          "2025-09-09T11:30:00-04:00",
          "2025-09-09T11:45:00-04:00",
          "2025-09-09T12:00:00-04:00",
          "2025-09-09T12:15:00-04:00",
          "2025-09-09T12:30:00-04:00",
          "2025-09-09T12:45:00-04:00",
          "2025-09-09T13:00:00-04:00",
          "2025-09-09T13:15:00-04:00",
          "2025-09-09T13:30:00-04:00",
          "2025-09-09T13:45:00-04:00",
          "2025-09-09T14:00:00-04:00",
          "2025-09-09T14:15:00-04:00",
          "2025-09-09T14:30:00-04:00",
          "2025-09-09T14:45:00-04:00",
          "2025-09-09T15:00:00-04:00",
          "2025-09-09T15:15:00-04:00",
          "2025-09-09T15:30:00-04:00",
          "2025-09-09T15:45:00-04:00",
          "2025-09-10T09:30:00-04:00",
          "2025-09-10T09:45:00-04:00",
          "2025-09-10T10:00:00-04:00",
          "2025-09-10T10:15:00-04:00",
          "2025-09-10T10:30:00-04:00",
          "2025-09-10T10:45:00-04:00",
          "2025-09-10T11:00:00-04:00",
          "2025-09-10T11:15:00-04:00",
          "2025-09-10T11:30:00-04:00",
          "2025-09-10T11:45:00-04:00",
          "2025-09-10T12:00:00-04:00",
          "2025-09-10T12:15:00-04:00",
          "2025-09-10T12:30:00-04:00",
          "2025-09-10T12:45:00-04:00",
          "2025-09-10T13:00:00-04:00",
          "2025-09-10T13:15:00-04:00",
          "2025-09-10T13:30:00-04:00",
          "2025-09-10T13:45:00-04:00",
          "2025-09-10T14:00:00-04:00",
          "2025-09-10T14:15:00-04:00",
          "2025-09-10T14:30:00-04:00",
          "2025-09-10T14:45:00-04:00",
          "2025-09-10T15:00:00-04:00",
          "2025-09-10T15:15:00-04:00",
          "2025-09-10T15:30:00-04:00",
          "2025-09-10T15:45:00-04:00",
          "2025-09-11T09:30:00-04:00",
          "2025-09-11T09:45:00-04:00",
          "2025-09-11T10:00:00-04:00",
          "2025-09-11T10:15:00-04:00",
          "2025-09-11T10:30:00-04:00",
          "2025-09-11T10:45:00-04:00",
          "2025-09-11T11:00:00-04:00",
          "2025-09-11T11:15:00-04:00",
          "2025-09-11T11:30:00-04:00",
          "2025-09-11T11:45:00-04:00",
          "2025-09-11T12:00:00-04:00",
          "2025-09-11T12:15:00-04:00",
          "2025-09-11T12:30:00-04:00",
          "2025-09-11T12:45:00-04:00",
          "2025-09-11T13:00:00-04:00",
          "2025-09-11T13:15:00-04:00",
          "2025-09-11T13:30:00-04:00",
          "2025-09-11T13:45:00-04:00",
          "2025-09-11T14:00:00-04:00",
          "2025-09-11T14:15:00-04:00",
          "2025-09-11T14:30:00-04:00",
          "2025-09-11T14:45:00-04:00",
          "2025-09-11T15:00:00-04:00",
          "2025-09-11T15:15:00-04:00",
          "2025-09-11T15:30:00-04:00"
         ],
         "y": {
          "bdata": "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",
          "dtype": "f8"
         }
        }
       ],
       "layout": {
        "height": 600,
        "legend": {
         "bgcolor": "rgba(255, 255, 255, 0.8)",
         "bordercolor": "rgba(0, 0, 0, 0.2)",
         "borderwidth": 1,
         "x": 0.01,
         "y": 0.99
        },
        "margin": {
         "b": 50,
         "l": 50,
         "r": 50,
         "t": 80
        },
        "showlegend": true,
        "template": {
         "data": {
          "bar": [
           {
            "error_x": {
             "color": "#2a3f5f"
            },
            "error_y": {
             "color": "#2a3f5f"
            },
            "marker": {
             "line": {
              "color": "white",
              "width": 0.5
             },
             "pattern": {
              "fillmode": "overlay",
              "size": 10,
              "solidity": 0.2
             }
            },
            "type": "bar"
           }
          ],
          "barpolar": [
           {
            "marker": {
             "line": {
              "color": "white",
              "width": 0.5
             },
             "pattern": {
              "fillmode": "overlay",
              "size": 10,
              "solidity": 0.2
             }
            },
            "type": "barpolar"
           }
          ],
          "carpet": [
           {
            "aaxis": {
             "endlinecolor": "#2a3f5f",
             "gridcolor": "#C8D4E3",
             "linecolor": "#C8D4E3",
             "minorgridcolor": "#C8D4E3",
             "startlinecolor": "#2a3f5f"
            },
            "baxis": {
             "endlinecolor": "#2a3f5f",
             "gridcolor": "#C8D4E3",
             "linecolor": "#C8D4E3",
             "minorgridcolor": "#C8D4E3",
             "startlinecolor": "#2a3f5f"
            },
            "type": "carpet"
           }
          ],
          "choropleth": [
           {
            "colorbar": {
             "outlinewidth": 0,
             "ticks": ""
            },
            "type": "choropleth"
           }
          ],
          "contour": [
           {
            "colorbar": {
             "outlinewidth": 0,
             "ticks": ""
            },
            "colorscale": [
             [
              0,
              "#0d0887"
             ],
             [
              0.1111111111111111,
              "#46039f"
             ],
             [
              0.2222222222222222,
              "#7201a8"
             ],
             [
              0.3333333333333333,
              "#9c179e"
             ],
             [
              0.4444444444444444,
              "#bd3786"
             ],
             [
              0.5555555555555556,
              "#d8576b"
             ],
             [
              0.6666666666666666,
              "#ed7953"
             ],
             [
              0.7777777777777778,
              "#fb9f3a"
             ],
             [
              0.8888888888888888,
              "#fdca26"
             ],
             [
              1,
              "#f0f921"
             ]
            ],
            "type": "contour"
           }
          ],
          "contourcarpet": [
           {
            "colorbar": {
             "outlinewidth": 0,
             "ticks": ""
            },
            "type": "contourcarpet"
           }
          ],
          "heatmap": [
           {
            "colorbar": {
             "outlinewidth": 0,
             "ticks": ""
            },
            "colorscale": [
             [
              0,
              "#0d0887"
             ],
             [
              0.1111111111111111,
              "#46039f"
             ],
             [
              0.2222222222222222,
              "#7201a8"
             ],
             [
              0.3333333333333333,
              "#9c179e"
             ],
             [
              0.4444444444444444,
              "#bd3786"
             ],
             [
              0.5555555555555556,
              "#d8576b"
             ],
             [
              0.6666666666666666,
              "#ed7953"
             ],
             [
              0.7777777777777778,
              "#fb9f3a"
             ],
             [
              0.8888888888888888,
              "#fdca26"
             ],
             [
              1,
              "#f0f921"
             ]
            ],
            "type": "heatmap"
           }
          ],
          "histogram": [
           {
            "marker": {
             "pattern": {
              "fillmode": "overlay",
              "size": 10,
              "solidity": 0.2
             }
            },
            "type": "histogram"
           }
          ],
          "histogram2d": [
           {
            "colorbar": {
             "outlinewidth": 0,
             "ticks": ""
            },
            "colorscale": [
             [
              0,
              "#0d0887"
             ],
             [
              0.1111111111111111,
              "#46039f"
             ],
             [
              0.2222222222222222,
              "#7201a8"
             ],
             [
              0.3333333333333333,
              "#9c179e"
             ],
             [
              0.4444444444444444,
              "#bd3786"
             ],
             [
              0.5555555555555556,
              "#d8576b"
             ],
             [
              0.6666666666666666,
              "#ed7953"
             ],
             [
              0.7777777777777778,
              "#fb9f3a"
             ],
             [
              0.8888888888888888,
              "#fdca26"
             ],
             [
              1,
              "#f0f921"
             ]
            ],
            "type": "histogram2d"
           }
          ],
          "histogram2dcontour": [
           {
            "colorbar": {
             "outlinewidth": 0,
             "ticks": ""
            },
            "colorscale": [
             [
              0,
              "#0d0887"
             ],
             [
              0.1111111111111111,
              "#46039f"
             ],
             [
              0.2222222222222222,
              "#7201a8"
             ],
             [
              0.3333333333333333,
              "#9c179e"
             ],
             [
              0.4444444444444444,
              "#bd3786"
             ],
             [
              0.5555555555555556,
              "#d8576b"
             ],
             [
              0.6666666666666666,
              "#ed7953"
             ],
             [
              0.7777777777777778,
              "#fb9f3a"
             ],
             [
              0.8888888888888888,
              "#fdca26"
             ],
             [
              1,
              "#f0f921"
             ]
            ],
            "type": "histogram2dcontour"
           }
          ],
          "mesh3d": [
           {
            "colorbar": {
             "outlinewidth": 0,
             "ticks": ""
            },
            "type": "mesh3d"
           }
          ],
          "parcoords": [
           {
            "line": {
             "colorbar": {
              "outlinewidth": 0,
              "ticks": ""
             }
            },
            "type": "parcoords"
           }
          ],
          "pie": [
           {
            "automargin": true,
            "type": "pie"
           }
          ],
          "scatter": [
           {
            "fillpattern": {
             "fillmode": "overlay",
             "size": 10,
             "solidity": 0.2
            },
            "type": "scatter"
           }
          ],
          "scatter3d": [
           {
            "line": {
             "colorbar": {
              "outlinewidth": 0,
              "ticks": ""
             }
            },
            "marker": {
             "colorbar": {
              "outlinewidth": 0,
              "ticks": ""
             }
            },
            "type": "scatter3d"
           }
          ],
          "scattercarpet": [
           {
            "marker": {
             "colorbar": {
              "outlinewidth": 0,
              "ticks": ""
             }
            },
            "type": "scattercarpet"
           }
          ],
          "scattergeo": [
           {
            "marker": {
             "colorbar": {
              "outlinewidth": 0,
              "ticks": ""
             }
            },
            "type": "scattergeo"
           }
          ],
          "scattergl": [
           {
            "marker": {
             "colorbar": {
              "outlinewidth": 0,
              "ticks": ""
             }
            },
            "type": "scattergl"
           }
          ],
          "scattermap": [
           {
            "marker": {
             "colorbar": {
              "outlinewidth": 0,
              "ticks": ""
             }
            },
            "type": "scattermap"
           }
          ],
          "scattermapbox": [
           {
            "marker": {
             "colorbar": {
              "outlinewidth": 0,
              "ticks": ""
             }
            },
            "type": "scattermapbox"
           }
          ],
          "scatterpolar": [
           {
            "marker": {
             "colorbar": {
              "outlinewidth": 0,
              "ticks": ""
             }
            },
            "type": "scatterpolar"
           }
          ],
          "scatterpolargl": [
           {
            "marker": {
             "colorbar": {
              "outlinewidth": 0,
              "ticks": ""
             }
            },
            "type": "scatterpolargl"
           }
          ],
          "scatterternary": [
           {
            "marker": {
             "colorbar": {
              "outlinewidth": 0,
              "ticks": ""
             }
            },
            "type": "scatterternary"
           }
          ],
          "surface": [
           {
            "colorbar": {
             "outlinewidth": 0,
             "ticks": ""
            },
            "colorscale": [
             [
              0,
              "#0d0887"
             ],
             [
              0.1111111111111111,
              "#46039f"
             ],
             [
              0.2222222222222222,
              "#7201a8"
             ],
             [
              0.3333333333333333,
              "#9c179e"
             ],
             [
              0.4444444444444444,
              "#bd3786"
             ],
             [
              0.5555555555555556,
              "#d8576b"
             ],
             [
              0.6666666666666666,
              "#ed7953"
             ],
             [
              0.7777777777777778,
              "#fb9f3a"
             ],
             [
              0.8888888888888888,
              "#fdca26"
             ],
             [
              1,
              "#f0f921"
             ]
            ],
            "type": "surface"
           }
          ],
          "table": [
           {
            "cells": {
             "fill": {
              "color": "#EBF0F8"
             },
             "line": {
              "color": "white"
             }
            },
            "header": {
             "fill": {
              "color": "#C8D4E3"
             },
             "line": {
              "color": "white"
             }
            },
            "type": "table"
           }
          ]
         },
         "layout": {
          "annotationdefaults": {
           "arrowcolor": "#2a3f5f",
           "arrowhead": 0,
           "arrowwidth": 1
          },
          "autotypenumbers": "strict",
          "coloraxis": {
           "colorbar": {
            "outlinewidth": 0,
            "ticks": ""
           }
          },
          "colorscale": {
           "diverging": [
            [
             0,
             "#8e0152"
            ],
            [
             0.1,
             "#c51b7d"
            ],
            [
             0.2,
             "#de77ae"
            ],
            [
             0.3,
             "#f1b6da"
            ],
            [
             0.4,
             "#fde0ef"
            ],
            [
             0.5,
             "#f7f7f7"
            ],
            [
             0.6,
             "#e6f5d0"
            ],
            [
             0.7,
             "#b8e186"
            ],
            [
             0.8,
             "#7fbc41"
            ],
            [
             0.9,
             "#4d9221"
            ],
            [
             1,
             "#276419"
            ]
           ],
           "sequential": [
            [
             0,
             "#0d0887"
            ],
            [
             0.1111111111111111,
             "#46039f"
            ],
            [
             0.2222222222222222,
             "#7201a8"
            ],
            [
             0.3333333333333333,
             "#9c179e"
            ],
            [
             0.4444444444444444,
             "#bd3786"
            ],
            [
             0.5555555555555556,
             "#d8576b"
            ],
            [
             0.6666666666666666,
             "#ed7953"
            ],
            [
             0.7777777777777778,
             "#fb9f3a"
            ],
            [
             0.8888888888888888,
             "#fdca26"
            ],
            [
             1,
             "#f0f921"
            ]
           ],
           "sequentialminus": [
            [
             0,
             "#0d0887"
            ],
            [
             0.1111111111111111,
             "#46039f"
            ],
            [
             0.2222222222222222,
             "#7201a8"
            ],
            [
             0.3333333333333333,
             "#9c179e"
            ],
            [
             0.4444444444444444,
             "#bd3786"
            ],
            [
             0.5555555555555556,
             "#d8576b"
            ],
            [
             0.6666666666666666,
             "#ed7953"
            ],
            [
             0.7777777777777778,
             "#fb9f3a"
            ],
            [
             0.8888888888888888,
             "#fdca26"
            ],
            [
             1,
             "#f0f921"
            ]
           ]
          },
          "colorway": [
           "#636efa",
           "#EF553B",
           "#00cc96",
           "#ab63fa",
           "#FFA15A",
           "#19d3f3",
           "#FF6692",
           "#B6E880",
           "#FF97FF",
           "#FECB52"
          ],
          "font": {
           "color": "#2a3f5f"
          },
          "geo": {
           "bgcolor": "white",
           "lakecolor": "white",
           "landcolor": "white",
           "showlakes": true,
           "showland": true,
           "subunitcolor": "#C8D4E3"
          },
          "hoverlabel": {
           "align": "left"
          },
          "hovermode": "closest",
          "mapbox": {
           "style": "light"
          },
          "paper_bgcolor": "white",
          "plot_bgcolor": "white",
          "polar": {
           "angularaxis": {
            "gridcolor": "#EBF0F8",
            "linecolor": "#EBF0F8",
            "ticks": ""
           },
           "bgcolor": "white",
           "radialaxis": {
            "gridcolor": "#EBF0F8",
            "linecolor": "#EBF0F8",
            "ticks": ""
           }
          },
          "scene": {
           "xaxis": {
            "backgroundcolor": "white",
            "gridcolor": "#DFE8F3",
            "gridwidth": 2,
            "linecolor": "#EBF0F8",
            "showbackground": true,
            "ticks": "",
            "zerolinecolor": "#EBF0F8"
           },
           "yaxis": {
            "backgroundcolor": "white",
            "gridcolor": "#DFE8F3",
            "gridwidth": 2,
            "linecolor": "#EBF0F8",
            "showbackground": true,
            "ticks": "",
            "zerolinecolor": "#EBF0F8"
           },
           "zaxis": {
            "backgroundcolor": "white",
            "gridcolor": "#DFE8F3",
            "gridwidth": 2,
            "linecolor": "#EBF0F8",
            "showbackground": true,
            "ticks": "",
            "zerolinecolor": "#EBF0F8"
           }
          },
          "shapedefaults": {
           "line": {
            "color": "#2a3f5f"
           }
          },
          "ternary": {
           "aaxis": {
            "gridcolor": "#DFE8F3",
            "linecolor": "#A2B1C6",
            "ticks": ""
           },
           "baxis": {
            "gridcolor": "#DFE8F3",
            "linecolor": "#A2B1C6",
            "ticks": ""
           },
           "bgcolor": "white",
           "caxis": {
            "gridcolor": "#DFE8F3",
            "linecolor": "#A2B1C6",
            "ticks": ""
           }
          },
          "title": {
           "x": 0.05
          },
          "xaxis": {
           "automargin": true,
           "gridcolor": "#EBF0F8",
           "linecolor": "#EBF0F8",
           "ticks": "",
           "title": {
            "standoff": 15
           },
           "zerolinecolor": "#EBF0F8",
           "zerolinewidth": 2
          },
          "yaxis": {
           "automargin": true,
           "gridcolor": "#EBF0F8",
           "linecolor": "#EBF0F8",
           "ticks": "",
           "title": {
            "standoff": 15
           },
           "zerolinecolor": "#EBF0F8",
           "zerolinewidth": 2
          }
         }
        },
        "title": {
         "font": {
          "size": 16
         },
         "text": "AAPL - Prix et Moyenne Mobile 30 périodes décalée (10d à aujourd'hui)",
         "x": 0.5,
         "xanchor": "center"
        },
        "xaxis": {
         "rangeslider": {
          "visible": false
         },
         "title": {
          "text": "Date"
         }
        },
        "yaxis": {
         "title": {
          "text": "Prix (USD)"
         }
        }
       }
      }
     },
     "metadata": {},
     "output_type": "display_data"
    }
   ],
   "source": [
    "# Graphique prix avec moyenne mobile seulement\n",
    "import plotly.graph_objects as go\n",
    "import pandas as pd\n",
    "\n",
    "# Calcul de la moyenne mobile selon le paramètre configuré\n",
    "df_stock[f'ma_{MA_PERIODE}'] = df_stock['Close'].rolling(window=MA_PERIODE).mean()\n",
    "\n",
    "# Décalage de la moyenne mobile de PERIODE/2 vers la gauche\n",
    "decalage = MA_PERIODE // 2\n",
    "df_stock[f'ma_{MA_PERIODE}_shifted'] = df_stock[f'ma_{MA_PERIODE}'].shift(-decalage)\n",
    "\n",
    "# Création du graphique principal avec seulement le prix et la moyenne mobile\n",
    "fig_stock = go.Figure()\n",
    "\n",
    "# Ajout du prix de clôture en ligne\n",
    "fig_stock.add_trace(\n",
    "    go.Scatter(\n",
    "        x=df_stock.index,\n",
    "        y=df_stock['Close'],\n",
    "        mode='lines',\n",
    "        name=SYMBOLE,\n",
    "        line=dict(color='#1f77b4', width=1)\n",
    "    )\n",
    ")\n",
    "\n",
    "# Ajout de la moyenne mobile décalée\n",
    "fig_stock.add_trace(\n",
    "    go.Scatter(\n",
    "        x=df_stock.index,\n",
    "        y=df_stock[f'ma_{MA_PERIODE}_shifted'],\n",
    "        mode='lines',\n",
    "        name=f'MM {MA_PERIODE} périodes (décalée -{decalage})',\n",
    "        line=dict(color='red', width=1),\n",
    "        opacity=0.9\n",
    "    )\n",
    ")\n",
    "\n",
    "# Configuration du layout\n",
    "periode_text = f\"jusqu'à {DATE_FIN}\" if DATE_FIN else \"à aujourd'hui\"\n",
    "fig_stock.update_layout(\n",
    "    title={\n",
    "        'text': f\"{SYMBOLE} - Prix et Moyenne Mobile {MA_PERIODE} périodes décalée ({DUREE} {periode_text})\",\n",
    "        'x': 0.5,\n",
    "        'xanchor': 'center',\n",
    "        'font': {'size': 16}\n",
    "    },\n",
    "    height=600,\n",
    "    showlegend=True,\n",
    "    legend=dict(\n",
    "        x=0.01,\n",
    "        y=0.99,\n",
    "        bgcolor='rgba(255, 255, 255, 0.8)',\n",
    "        bordercolor='rgba(0, 0, 0, 0.2)',\n",
    "        borderwidth=1\n",
    "    ),\n",
    "    xaxis_rangeslider_visible=False,\n",
    "    template=\"plotly_white\",\n",
    "    margin=dict(l=50, r=50, t=80, b=50),\n",
    "    yaxis_title=\"Prix (USD)\",\n",
    "    xaxis_title=\"Date\"\n",
    ")\n",
    "\n",
    "# Affichage\n",
    "config = {\n",
    "    'displayModeBar': True,\n",
    "    'displaylogo': False,\n",
    "    'modeBarButtonsToRemove': ['pan2d', 'lasso2d']\n",
    "}\n",
    "\n",
    "print(f\"Affichage du graphique {SYMBOLE} avec moyenne mobile {MA_PERIODE} périodes décalée de {decalage} périodes vers la gauche...\")\n",
    "print(f\"Période analysée: {DUREE} {periode_text}\")\n",
    "fig_stock.show(config=config)"
   ]
  }
 ],
 "metadata": {
  "kernelspec": {
   "display_name": "venv",
   "language": "python",
   "name": "python3"
  },
  "language_info": {
   "codemirror_mode": {
    "name": "ipython",
    "version": 3
   },
   "file_extension": ".py",
   "mimetype": "text/x-python",
   "name": "python",
   "nbconvert_exporter": "python",
   "pygments_lexer": "ipython3",
   "version": "3.13.5"
  }
 },
 "nbformat": 4,
 "nbformat_minor": 5
}
