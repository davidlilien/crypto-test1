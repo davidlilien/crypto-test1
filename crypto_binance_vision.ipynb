{
 "cells": [
  {
   "cell_type": "markdown",
   "metadata": {},
   "source": [
    "# Analyse Cryptomonnaie avec Binance Vision\n",
    "\n",
    "Ce notebook utilise Binance Vision pour télécharger de gros datasets historiques de cryptomonnaies."
   ]
  },
  {
   "cell_type": "code",
   "execution_count": 92,
   "metadata": {},
   "outputs": [
    {
     "name": "stdout",
     "output_type": "stream",
     "text": [
      "Configuration:\n",
      "- Symbole: BTCUSDT\n",
      "- Durée d'analyse: 1 jours\n",
      "- Intervalle: 5m\n",
      "- Source: Binance Vision (données historiques)\n",
      "\n"
     ]
    }
   ],
   "source": [
    "# PARAMÈTRES DE CONFIGURATION\n",
    "\n",
    "# Durée d'analyse (en jours) - Binance Vision est optimisé pour de grandes périodes\n",
    "DUREE_JOURS = 1\n",
    "\n",
    "# Intervalle des données\n",
    "# Options: 1s, 1m, 3m, 5m, 15m, 30m, 1h, 2h, 4h, 6h, 8h, 12h, 1d, 3d, 1w, 1M\n",
    "INTERVAL = '5m'\n",
    "\n",
    "# Symbole à analyser\n",
    "SYMBOL = 'BTCUSDT'\n",
    "\n",
    "print(f\"Configuration:\")\n",
    "print(f\"- Symbole: {SYMBOL}\")\n",
    "print(f\"- Durée d'analyse: {DUREE_JOURS} jours\")\n",
    "print(f\"- Intervalle: {INTERVAL}\")\n",
    "print(f\"- Source: Binance Vision (données historiques)\")\n",
    "print()"
   ]
  },
  {
   "cell_type": "code",
   "execution_count": 93,
   "metadata": {},
   "outputs": [
    {
     "name": "stdout",
     "output_type": "stream",
     "text": [
      "Fonctions chargées avec succès.\n"
     ]
    }
   ],
   "source": [
    "# IMPORTS ET FONCTIONS\n",
    "\n",
    "import pandas as pd\n",
    "import requests\n",
    "from datetime import datetime, timedelta\n",
    "import time\n",
    "import os\n",
    "import zipfile\n",
    "from io import BytesIO\n",
    "import warnings\n",
    "warnings.filterwarnings('ignore')\n",
    "\n",
    "def download_binance_vision_data(symbol=SYMBOL, interval=INTERVAL, days_back=DUREE_JOURS):\n",
    "    \"\"\"\n",
    "    Télécharge les données historiques depuis Binance Vision pour de gros datasets\n",
    "    \"\"\"\n",
    "    print(f\"Utilisation de Binance Vision pour télécharger {symbol} - {interval}\")\n",
    "    print(f\"Période: {days_back} jours\")\n",
    "    print()\n",
    "    \n",
    "    # Calculer les dates nécessaires\n",
    "    end_date = datetime.now()\n",
    "    start_date = end_date - timedelta(days=days_back)\n",
    "    \n",
    "    all_data = []\n",
    "    current_date = start_date\n",
    "    success_count = 0\n",
    "    total_periods = 0\n",
    "    \n",
    "    while current_date <= end_date:\n",
    "        # Format de date pour l'URL Binance Vision\n",
    "        date_str = current_date.strftime('%Y-%m-%d')\n",
    "        \n",
    "        # URL pour les données journalières\n",
    "        url = f\"https://data.binance.vision/data/spot/daily/klines/{symbol}/{interval}/{symbol}-{interval}-{date_str}.zip\"\n",
    "        \n",
    "        print(f\"Téléchargement: {date_str}\", end=\" \")\n",
    "        \n",
    "        try:\n",
    "            response = requests.get(url, timeout=30)\n",
    "            \n",
    "            if response.status_code == 200:\n",
    "                # Extraire le fichier CSV du ZIP\n",
    "                with zipfile.ZipFile(BytesIO(response.content)) as zip_file:\n",
    "                    csv_filename = f\"{symbol}-{interval}-{date_str}.csv\"\n",
    "                    if csv_filename in zip_file.namelist():\n",
    "                        csv_content = zip_file.read(csv_filename)\n",
    "                        \n",
    "                        # Lire le CSV\n",
    "                        df_day = pd.read_csv(BytesIO(csv_content), header=None, names=[\n",
    "                            'timestamp', 'open', 'high', 'low', 'close', 'volume',\n",
    "                            'close_time', 'quote_asset_volume', 'number_of_trades',\n",
    "                            'taker_buy_base_asset_volume', 'taker_buy_quote_asset_volume', 'ignore'\n",
    "                        ])\n",
    "                        \n",
    "                        all_data.append(df_day)\n",
    "                        success_count += 1\n",
    "                        total_periods += len(df_day)\n",
    "                        print(f\"✓ ({len(df_day)} périodes)\")\n",
    "                    else:\n",
    "                        print(f\"⚠ Fichier CSV non trouvé\")\n",
    "            else:\n",
    "                print(f\"⚠ Non disponible (HTTP {response.status_code})\")\n",
    "                \n",
    "        except requests.exceptions.RequestException as e:\n",
    "            print(f\"✗ Erreur réseau\")\n",
    "        except zipfile.BadZipFile:\n",
    "            print(f\"✗ ZIP corrompu\")\n",
    "        except Exception as e:\n",
    "            print(f\"✗ Erreur: {str(e)[:50]}\")\n",
    "        \n",
    "        current_date += timedelta(days=1)\n",
    "        time.sleep(0.1)  # Pause pour éviter la surcharge\n",
    "    \n",
    "    print(f\"\\nRésumé du téléchargement:\")\n",
    "    print(f\"- Jours avec succès: {success_count}/{(end_date - start_date).days + 1}\")\n",
    "    print(f\"- Total des périodes: {total_periods}\")\n",
    "    \n",
    "    if all_data:\n",
    "        # Combiner toutes les données\n",
    "        combined_df = pd.concat(all_data, ignore_index=True)\n",
    "        return combined_df.to_dict('records')\n",
    "    else:\n",
    "        print(\"Aucune donnée récupérée via Binance Vision\")\n",
    "        return []\n",
    "\n",
    "def create_dataframe(data, symbol_name):\n",
    "    if not data:\n",
    "        print(f\"Aucune donnée disponible pour {symbol_name}\")\n",
    "        return pd.DataFrame()\n",
    "        \n",
    "    df = pd.DataFrame(data, columns=[\n",
    "        'timestamp', 'open', 'high', 'low', 'close', 'volume',\n",
    "        'close_time', 'quote_asset_volume', 'number_of_trades',\n",
    "        'taker_buy_base_asset_volume', 'taker_buy_quote_asset_volume', 'ignore'\n",
    "    ])\n",
    "    \n",
    "    # Conversion des types\n",
    "    for col in ['open', 'high', 'low', 'close', 'volume']:\n",
    "        df[col] = df[col].astype(float)\n",
    "    \n",
    "    # Gestion des timestamps - Binance Vision utilise différents formats\n",
    "    print(\"Conversion des timestamps...\")\n",
    "    timestamp_converted = False\n",
    "    \n",
    "    # Vérifier le format des timestamps en examinant quelques valeurs\n",
    "    sample_timestamps = df['timestamp'].head(3).astype(str)\n",
    "    print(f\"Échantillon de timestamps: {list(sample_timestamps)}\")\n",
    "    \n",
    "    try:\n",
    "        # Essai avec millisecondes (format standard)\n",
    "        df['timestamp'] = pd.to_datetime(df['timestamp'], unit='ms')\n",
    "        timestamp_converted = True\n",
    "        print(\"✓ Timestamps convertis depuis millisecondes\")\n",
    "    except (ValueError, pd.errors.OutOfBoundsDatetime, OverflowError):\n",
    "        try:\n",
    "            # Essai avec microsecondes (nouveau format depuis janvier 2025)\n",
    "            print(\"⚠ Tentative conversion depuis microsecondes...\")\n",
    "            df['timestamp'] = pd.to_datetime(df['timestamp'], unit='us')\n",
    "            timestamp_converted = True\n",
    "            print(\"✓ Timestamps convertis depuis microsecondes\")\n",
    "        except (ValueError, pd.errors.OutOfBoundsDatetime, OverflowError):\n",
    "            try:\n",
    "                # Essai avec secondes\n",
    "                print(\"⚠ Tentative conversion depuis secondes...\")\n",
    "                df['timestamp'] = pd.to_datetime(df['timestamp'], unit='s')\n",
    "                timestamp_converted = True\n",
    "                print(\"✓ Timestamps convertis depuis secondes\")\n",
    "            except (ValueError, pd.errors.OutOfBoundsDatetime, OverflowError):\n",
    "                try:\n",
    "                    # Si les valeurs sont trop grandes, diviser par 1000000 (microsecondes vers secondes)\n",
    "                    print(\"⚠ Tentative correction des timestamps (division par 1M)...\")\n",
    "                    df['timestamp'] = pd.to_datetime(df['timestamp'] / 1000000, unit='s')\n",
    "                    timestamp_converted = True\n",
    "                    print(\"✓ Timestamps corrigés et convertis\")\n",
    "                except (ValueError, pd.errors.OutOfBoundsDatetime, OverflowError):\n",
    "                    print(\"✗ Impossible de convertir les timestamps\")\n",
    "    \n",
    "    if not timestamp_converted:\n",
    "        print(f\"✗ Erreur: Impossible de traiter les timestamps pour {symbol_name}\")\n",
    "        return pd.DataFrame()\n",
    "    \n",
    "    # Vérifier la plausibilité des dates\n",
    "    min_date = df['timestamp'].min()\n",
    "    max_date = df['timestamp'].max()\n",
    "    \n",
    "    if min_date.year < 2009 or max_date.year > 2030:\n",
    "        print(f\"⚠ Dates suspectes détectées: {min_date} à {max_date}\")\n",
    "    \n",
    "    df.set_index('timestamp', inplace=True)\n",
    "    \n",
    "    # Supprimer les doublons et trier\n",
    "    df = df[~df.index.duplicated(keep='first')].sort_index()\n",
    "    \n",
    "    # Affichage des informations adaptées à l'intervalle\n",
    "    if len(df) > 0:\n",
    "        print(f\"\\nDonnées {symbol_name} traitées:\")\n",
    "        print(f\"Période: {df.index.min().strftime('%Y-%m-%d %H:%M')} à {df.index.max().strftime('%Y-%m-%d %H:%M')}\")\n",
    "        print(f\"Nombre de périodes ({INTERVAL}): {len(df):,}\")\n",
    "        \n",
    "        # Calculs selon l'intervalle\n",
    "        if INTERVAL.endswith('s'):\n",
    "            seconds_per_period = int(INTERVAL[:-1])\n",
    "            minutes = len(df) * seconds_per_period / 60\n",
    "            hours = minutes / 60\n",
    "            days = hours / 24\n",
    "            print(f\"Équivalent: {minutes:,.0f} minutes, {hours:,.1f} heures, {days:.1f} jours\")\n",
    "        elif INTERVAL.endswith('m'):\n",
    "            minutes_per_period = int(INTERVAL[:-1])\n",
    "            hours = len(df) * minutes_per_period / 60\n",
    "            days = hours / 24\n",
    "            print(f\"Équivalent: {hours:,.1f} heures, {days:.1f} jours\")\n",
    "        elif INTERVAL.endswith('h'):\n",
    "            hours_per_period = int(INTERVAL[:-1])\n",
    "            hours = len(df) * hours_per_period\n",
    "            days = hours / 24\n",
    "            print(f\"Équivalent: {hours:,.1f} heures, {days:.1f} jours\")\n",
    "        elif INTERVAL == '1d':\n",
    "            print(f\"Équivalent: {len(df)} jours\")\n",
    "        \n",
    "        print(f\"Prix minimum: ${df['low'].min():.2f}\")\n",
    "        print(f\"Prix maximum: ${df['high'].max():.2f}\")\n",
    "        print(f\"Volume total: {df['volume'].sum():,.2f} {symbol_name.replace('USDT', '')}\")\n",
    "    \n",
    "    return df\n",
    "\n",
    "print(\"Fonctions chargées avec succès.\")"
   ]
  },
  {
   "cell_type": "code",
   "execution_count": 94,
   "metadata": {},
   "outputs": [
    {
     "name": "stdout",
     "output_type": "stream",
     "text": [
      "=== Récupération BTCUSDT via Binance Vision ===\n",
      "\n",
      "Utilisation de Binance Vision pour télécharger BTCUSDT - 5m\n",
      "Période: 1 jours\n",
      "\n",
      "Téléchargement: 2025-09-13 ✓ (288 périodes)\n",
      "Téléchargement: 2025-09-14 ✓ (288 périodes)\n",
      "Téléchargement: 2025-09-14 ⚠ Non disponible (HTTP 404)\n",
      "\n",
      "Résumé du téléchargement:\n",
      "- Jours avec succès: 1/2\n",
      "- Total des périodes: 288\n",
      "Conversion des timestamps...\n",
      "Échantillon de timestamps: ['1757721600000000', '1757721900000000', '1757722200000000']\n",
      "⚠ Tentative conversion depuis microsecondes...\n",
      "✓ Timestamps convertis depuis microsecondes\n",
      "\n",
      "Données BTCUSDT traitées:\n",
      "Période: 2025-09-13 00:00 à 2025-09-13 23:55\n",
      "Nombre de périodes (5m): 288\n",
      "Équivalent: 24.0 heures, 1.0 jours\n",
      "Prix minimum: $115127.27\n",
      "Prix maximum: $116298.78\n",
      "Volume total: 8,269.40 BTC\n",
      "\n",
      "Premières lignes BTCUSDT (intervalle 5m):\n",
      "                          open       high        low      close    volume  \\\n",
      "timestamp                                                                   \n",
      "2025-09-13 00:00:00  116029.41  116118.52  116020.80  116020.82  63.75909   \n",
      "2025-09-13 00:05:00  116020.82  116040.00  115983.11  116000.00  59.72069   \n",
      "2025-09-13 00:10:00  116000.01  116011.22  115978.56  116011.22  24.44072   \n",
      "2025-09-13 00:15:00  116011.22  116039.99  115977.00  116032.74  36.50793   \n",
      "2025-09-13 00:20:00  116032.73  116080.12  115959.59  116080.11  38.00914   \n",
      "\n",
      "                           close_time  quote_asset_volume  number_of_trades  \\\n",
      "timestamp                                                                     \n",
      "2025-09-13 00:00:00  1757721899999999        7.400947e+06             10162   \n",
      "2025-09-13 00:05:00  1757722199999999        6.927804e+06              6333   \n",
      "2025-09-13 00:10:00  1757722499999999        2.834939e+06              4720   \n",
      "2025-09-13 00:15:00  1757722799999999        4.234894e+06              5022   \n",
      "2025-09-13 00:20:00  1757723099999999        4.409141e+06              7140   \n",
      "\n",
      "                     taker_buy_base_asset_volume  \\\n",
      "timestamp                                          \n",
      "2025-09-13 00:00:00                     11.87423   \n",
      "2025-09-13 00:05:00                     11.62779   \n",
      "2025-09-13 00:10:00                     16.35500   \n",
      "2025-09-13 00:15:00                     20.50701   \n",
      "2025-09-13 00:20:00                     19.40285   \n",
      "\n",
      "                     taker_buy_quote_asset_volume  ignore  \n",
      "timestamp                                                  \n",
      "2025-09-13 00:00:00                  1.378010e+06       0  \n",
      "2025-09-13 00:05:00                  1.348829e+06       0  \n",
      "2025-09-13 00:10:00                  1.897032e+06       0  \n",
      "2025-09-13 00:15:00                  2.378751e+06       0  \n",
      "2025-09-13 00:20:00                  2.250888e+06       0  \n",
      "\n",
      "Dernières lignes:\n",
      "                          open       high        low      close    volume  \\\n",
      "timestamp                                                                   \n",
      "2025-09-13 23:35:00  115868.26  115927.03  115868.25  115914.20   5.43485   \n",
      "2025-09-13 23:40:00  115914.21  115914.21  115889.27  115889.28   3.25486   \n",
      "2025-09-13 23:45:00  115889.28  115899.99  115889.27  115899.99   5.13907   \n",
      "2025-09-13 23:50:00  115899.98  115916.57  115899.98  115916.57  10.12518   \n",
      "2025-09-13 23:55:00  115916.56  115918.30  115916.56  115918.29   9.32900   \n",
      "\n",
      "                           close_time  quote_asset_volume  number_of_trades  \\\n",
      "timestamp                                                                     \n",
      "2025-09-13 23:35:00  1757806799999999        6.299083e+05              2560   \n",
      "2025-09-13 23:40:00  1757807099999999        3.772343e+05              1163   \n",
      "2025-09-13 23:45:00  1757807399999999        5.955699e+05               927   \n",
      "2025-09-13 23:50:00  1757807699999999        1.173640e+06               998   \n",
      "2025-09-13 23:55:00  1757807999999999        1.081398e+06               951   \n",
      "\n",
      "                     taker_buy_base_asset_volume  \\\n",
      "timestamp                                          \n",
      "2025-09-13 23:35:00                      2.15726   \n",
      "2025-09-13 23:40:00                      0.60794   \n",
      "2025-09-13 23:45:00                      2.98951   \n",
      "2025-09-13 23:50:00                      8.77465   \n",
      "2025-09-13 23:55:00                      6.59078   \n",
      "\n",
      "                     taker_buy_quote_asset_volume  ignore  \n",
      "timestamp                                                  \n",
      "2025-09-13 23:35:00                  2.500111e+05       0  \n",
      "2025-09-13 23:40:00                  7.045508e+04       0  \n",
      "2025-09-13 23:45:00                  3.464562e+05       0  \n",
      "2025-09-13 23:50:00                  1.017094e+06       0  \n",
      "2025-09-13 23:55:00                  7.639888e+05       0  \n",
      "⚠ Non disponible (HTTP 404)\n",
      "\n",
      "Résumé du téléchargement:\n",
      "- Jours avec succès: 1/2\n",
      "- Total des périodes: 288\n",
      "Conversion des timestamps...\n",
      "Échantillon de timestamps: ['1757721600000000', '1757721900000000', '1757722200000000']\n",
      "⚠ Tentative conversion depuis microsecondes...\n",
      "✓ Timestamps convertis depuis microsecondes\n",
      "\n",
      "Données BTCUSDT traitées:\n",
      "Période: 2025-09-13 00:00 à 2025-09-13 23:55\n",
      "Nombre de périodes (5m): 288\n",
      "Équivalent: 24.0 heures, 1.0 jours\n",
      "Prix minimum: $115127.27\n",
      "Prix maximum: $116298.78\n",
      "Volume total: 8,269.40 BTC\n",
      "\n",
      "Premières lignes BTCUSDT (intervalle 5m):\n",
      "                          open       high        low      close    volume  \\\n",
      "timestamp                                                                   \n",
      "2025-09-13 00:00:00  116029.41  116118.52  116020.80  116020.82  63.75909   \n",
      "2025-09-13 00:05:00  116020.82  116040.00  115983.11  116000.00  59.72069   \n",
      "2025-09-13 00:10:00  116000.01  116011.22  115978.56  116011.22  24.44072   \n",
      "2025-09-13 00:15:00  116011.22  116039.99  115977.00  116032.74  36.50793   \n",
      "2025-09-13 00:20:00  116032.73  116080.12  115959.59  116080.11  38.00914   \n",
      "\n",
      "                           close_time  quote_asset_volume  number_of_trades  \\\n",
      "timestamp                                                                     \n",
      "2025-09-13 00:00:00  1757721899999999        7.400947e+06             10162   \n",
      "2025-09-13 00:05:00  1757722199999999        6.927804e+06              6333   \n",
      "2025-09-13 00:10:00  1757722499999999        2.834939e+06              4720   \n",
      "2025-09-13 00:15:00  1757722799999999        4.234894e+06              5022   \n",
      "2025-09-13 00:20:00  1757723099999999        4.409141e+06              7140   \n",
      "\n",
      "                     taker_buy_base_asset_volume  \\\n",
      "timestamp                                          \n",
      "2025-09-13 00:00:00                     11.87423   \n",
      "2025-09-13 00:05:00                     11.62779   \n",
      "2025-09-13 00:10:00                     16.35500   \n",
      "2025-09-13 00:15:00                     20.50701   \n",
      "2025-09-13 00:20:00                     19.40285   \n",
      "\n",
      "                     taker_buy_quote_asset_volume  ignore  \n",
      "timestamp                                                  \n",
      "2025-09-13 00:00:00                  1.378010e+06       0  \n",
      "2025-09-13 00:05:00                  1.348829e+06       0  \n",
      "2025-09-13 00:10:00                  1.897032e+06       0  \n",
      "2025-09-13 00:15:00                  2.378751e+06       0  \n",
      "2025-09-13 00:20:00                  2.250888e+06       0  \n",
      "\n",
      "Dernières lignes:\n",
      "                          open       high        low      close    volume  \\\n",
      "timestamp                                                                   \n",
      "2025-09-13 23:35:00  115868.26  115927.03  115868.25  115914.20   5.43485   \n",
      "2025-09-13 23:40:00  115914.21  115914.21  115889.27  115889.28   3.25486   \n",
      "2025-09-13 23:45:00  115889.28  115899.99  115889.27  115899.99   5.13907   \n",
      "2025-09-13 23:50:00  115899.98  115916.57  115899.98  115916.57  10.12518   \n",
      "2025-09-13 23:55:00  115916.56  115918.30  115916.56  115918.29   9.32900   \n",
      "\n",
      "                           close_time  quote_asset_volume  number_of_trades  \\\n",
      "timestamp                                                                     \n",
      "2025-09-13 23:35:00  1757806799999999        6.299083e+05              2560   \n",
      "2025-09-13 23:40:00  1757807099999999        3.772343e+05              1163   \n",
      "2025-09-13 23:45:00  1757807399999999        5.955699e+05               927   \n",
      "2025-09-13 23:50:00  1757807699999999        1.173640e+06               998   \n",
      "2025-09-13 23:55:00  1757807999999999        1.081398e+06               951   \n",
      "\n",
      "                     taker_buy_base_asset_volume  \\\n",
      "timestamp                                          \n",
      "2025-09-13 23:35:00                      2.15726   \n",
      "2025-09-13 23:40:00                      0.60794   \n",
      "2025-09-13 23:45:00                      2.98951   \n",
      "2025-09-13 23:50:00                      8.77465   \n",
      "2025-09-13 23:55:00                      6.59078   \n",
      "\n",
      "                     taker_buy_quote_asset_volume  ignore  \n",
      "timestamp                                                  \n",
      "2025-09-13 23:35:00                  2.500111e+05       0  \n",
      "2025-09-13 23:40:00                  7.045508e+04       0  \n",
      "2025-09-13 23:45:00                  3.464562e+05       0  \n",
      "2025-09-13 23:50:00                  1.017094e+06       0  \n",
      "2025-09-13 23:55:00                  7.639888e+05       0  \n"
     ]
    }
   ],
   "source": [
    "# TÉLÉCHARGEMENT DES DONNÉES\n",
    "\n",
    "print(f\"=== Récupération {SYMBOL} via Binance Vision ===\\n\")\n",
    "\n",
    "# Téléchargement des données\n",
    "btc_data = download_binance_vision_data(SYMBOL, INTERVAL, DUREE_JOURS)\n",
    "\n",
    "# Création du DataFrame\n",
    "df_btc = create_dataframe(btc_data, SYMBOL)\n",
    "\n",
    "if len(df_btc) > 0:\n",
    "    print(f\"\\nPremières lignes {SYMBOL} (intervalle {INTERVAL}):\")\n",
    "    print(df_btc.head())\n",
    "    \n",
    "    print(f\"\\nDernières lignes:\")\n",
    "    print(df_btc.tail())\n",
    "else:\n",
    "    print(f\"\\n⚠ Aucune donnée disponible pour {SYMBOL}\")\n",
    "    print(\"Suggestions:\")\n",
    "    print(\"- Vérifiez que le symbole est correct (ex: BTCUSDT, ETHUSDT)\")\n",
    "    print(\"- Essayez avec une période plus récente\")\n",
    "    print(\"- Certains intervalles peuvent ne pas être disponibles pour toutes les dates\")"
   ]
  },
  {
   "cell_type": "code",
   "execution_count": 103,
   "metadata": {},
   "outputs": [
    {
     "data": {
      "application/vnd.plotly.v1+json": {
       "config": {
        "plotlyServerURL": "https://plot.ly"
       },
       "data": [
        {
         "line": {
          "color": "#00c851",
          "width": 1
         },
         "mode": "lines",
         "name": "BTCUSDT Close",
         "type": "scatter",
         "x": [
          "2025-09-13T00:00:00.000000000",
          "2025-09-13T00:05:00.000000000",
          "2025-09-13T00:10:00.000000000",
          "2025-09-13T00:15:00.000000000",
          "2025-09-13T00:20:00.000000000",
          "2025-09-13T00:25:00.000000000",
          "2025-09-13T00:30:00.000000000",
          "2025-09-13T00:35:00.000000000",
          "2025-09-13T00:40:00.000000000",
          "2025-09-13T00:45:00.000000000",
          "2025-09-13T00:50:00.000000000",
          "2025-09-13T00:55:00.000000000",
          "2025-09-13T01:00:00.000000000",
          "2025-09-13T01:05:00.000000000",
          "2025-09-13T01:10:00.000000000",
          "2025-09-13T01:15:00.000000000",
          "2025-09-13T01:20:00.000000000",
          "2025-09-13T01:25:00.000000000",
          "2025-09-13T01:30:00.000000000",
          "2025-09-13T01:35:00.000000000",
          "2025-09-13T01:40:00.000000000",
          "2025-09-13T01:45:00.000000000",
          "2025-09-13T01:50:00.000000000",
          "2025-09-13T01:55:00.000000000",
          "2025-09-13T02:00:00.000000000",
          "2025-09-13T02:05:00.000000000",
          "2025-09-13T02:10:00.000000000",
          "2025-09-13T02:15:00.000000000",
          "2025-09-13T02:20:00.000000000",
          "2025-09-13T02:25:00.000000000",
          "2025-09-13T02:30:00.000000000",
          "2025-09-13T02:35:00.000000000",
          "2025-09-13T02:40:00.000000000",
          "2025-09-13T02:45:00.000000000",
          "2025-09-13T02:50:00.000000000",
          "2025-09-13T02:55:00.000000000",
          "2025-09-13T03:00:00.000000000",
          "2025-09-13T03:05:00.000000000",
          "2025-09-13T03:10:00.000000000",
          "2025-09-13T03:15:00.000000000",
          "2025-09-13T03:20:00.000000000",
          "2025-09-13T03:25:00.000000000",
          "2025-09-13T03:30:00.000000000",
          "2025-09-13T03:35:00.000000000",
          "2025-09-13T03:40:00.000000000",
          "2025-09-13T03:45:00.000000000",
          "2025-09-13T03:50:00.000000000",
          "2025-09-13T03:55:00.000000000",
          "2025-09-13T04:00:00.000000000",
          "2025-09-13T04:05:00.000000000",
          "2025-09-13T04:10:00.000000000",
          "2025-09-13T04:15:00.000000000",
          "2025-09-13T04:20:00.000000000",
          "2025-09-13T04:25:00.000000000",
          "2025-09-13T04:30:00.000000000",
          "2025-09-13T04:35:00.000000000",
          "2025-09-13T04:40:00.000000000",
          "2025-09-13T04:45:00.000000000",
          "2025-09-13T04:50:00.000000000",
          "2025-09-13T04:55:00.000000000",
          "2025-09-13T05:00:00.000000000",
          "2025-09-13T05:05:00.000000000",
          "2025-09-13T05:10:00.000000000",
          "2025-09-13T05:15:00.000000000",
          "2025-09-13T05:20:00.000000000",
          "2025-09-13T05:25:00.000000000",
          "2025-09-13T05:30:00.000000000",
          "2025-09-13T05:35:00.000000000",
          "2025-09-13T05:40:00.000000000",
          "2025-09-13T05:45:00.000000000",
          "2025-09-13T05:50:00.000000000",
          "2025-09-13T05:55:00.000000000",
          "2025-09-13T06:00:00.000000000",
          "2025-09-13T06:05:00.000000000",
          "2025-09-13T06:10:00.000000000",
          "2025-09-13T06:15:00.000000000",
          "2025-09-13T06:20:00.000000000",
          "2025-09-13T06:25:00.000000000",
          "2025-09-13T06:30:00.000000000",
          "2025-09-13T06:35:00.000000000",
          "2025-09-13T06:40:00.000000000",
          "2025-09-13T06:45:00.000000000",
          "2025-09-13T06:50:00.000000000",
          "2025-09-13T06:55:00.000000000",
          "2025-09-13T07:00:00.000000000",
          "2025-09-13T07:05:00.000000000",
          "2025-09-13T07:10:00.000000000",
          "2025-09-13T07:15:00.000000000",
          "2025-09-13T07:20:00.000000000",
          "2025-09-13T07:25:00.000000000",
          "2025-09-13T07:30:00.000000000",
          "2025-09-13T07:35:00.000000000",
          "2025-09-13T07:40:00.000000000",
          "2025-09-13T07:45:00.000000000",
          "2025-09-13T07:50:00.000000000",
          "2025-09-13T07:55:00.000000000",
          "2025-09-13T08:00:00.000000000",
          "2025-09-13T08:05:00.000000000",
          "2025-09-13T08:10:00.000000000",
          "2025-09-13T08:15:00.000000000",
          "2025-09-13T08:20:00.000000000",
          "2025-09-13T08:25:00.000000000",
          "2025-09-13T08:30:00.000000000",
          "2025-09-13T08:35:00.000000000",
          "2025-09-13T08:40:00.000000000",
          "2025-09-13T08:45:00.000000000",
          "2025-09-13T08:50:00.000000000",
          "2025-09-13T08:55:00.000000000",
          "2025-09-13T09:00:00.000000000",
          "2025-09-13T09:05:00.000000000",
          "2025-09-13T09:10:00.000000000",
          "2025-09-13T09:15:00.000000000",
          "2025-09-13T09:20:00.000000000",
          "2025-09-13T09:25:00.000000000",
          "2025-09-13T09:30:00.000000000",
          "2025-09-13T09:35:00.000000000",
          "2025-09-13T09:40:00.000000000",
          "2025-09-13T09:45:00.000000000",
          "2025-09-13T09:50:00.000000000",
          "2025-09-13T09:55:00.000000000",
          "2025-09-13T10:00:00.000000000",
          "2025-09-13T10:05:00.000000000",
          "2025-09-13T10:10:00.000000000",
          "2025-09-13T10:15:00.000000000",
          "2025-09-13T10:20:00.000000000",
          "2025-09-13T10:25:00.000000000",
          "2025-09-13T10:30:00.000000000",
          "2025-09-13T10:35:00.000000000",
          "2025-09-13T10:40:00.000000000",
          "2025-09-13T10:45:00.000000000",
          "2025-09-13T10:50:00.000000000",
          "2025-09-13T10:55:00.000000000",
          "2025-09-13T11:00:00.000000000",
          "2025-09-13T11:05:00.000000000",
          "2025-09-13T11:10:00.000000000",
          "2025-09-13T11:15:00.000000000",
          "2025-09-13T11:20:00.000000000",
          "2025-09-13T11:25:00.000000000",
          "2025-09-13T11:30:00.000000000",
          "2025-09-13T11:35:00.000000000",
          "2025-09-13T11:40:00.000000000",
          "2025-09-13T11:45:00.000000000",
          "2025-09-13T11:50:00.000000000",
          "2025-09-13T11:55:00.000000000",
          "2025-09-13T12:00:00.000000000",
          "2025-09-13T12:05:00.000000000",
          "2025-09-13T12:10:00.000000000",
          "2025-09-13T12:15:00.000000000",
          "2025-09-13T12:20:00.000000000",
          "2025-09-13T12:25:00.000000000",
          "2025-09-13T12:30:00.000000000",
          "2025-09-13T12:35:00.000000000",
          "2025-09-13T12:40:00.000000000",
          "2025-09-13T12:45:00.000000000",
          "2025-09-13T12:50:00.000000000",
          "2025-09-13T12:55:00.000000000",
          "2025-09-13T13:00:00.000000000",
          "2025-09-13T13:05:00.000000000",
          "2025-09-13T13:10:00.000000000",
          "2025-09-13T13:15:00.000000000",
          "2025-09-13T13:20:00.000000000",
          "2025-09-13T13:25:00.000000000",
          "2025-09-13T13:30:00.000000000",
          "2025-09-13T13:35:00.000000000",
          "2025-09-13T13:40:00.000000000",
          "2025-09-13T13:45:00.000000000",
          "2025-09-13T13:50:00.000000000",
          "2025-09-13T13:55:00.000000000",
          "2025-09-13T14:00:00.000000000",
          "2025-09-13T14:05:00.000000000",
          "2025-09-13T14:10:00.000000000",
          "2025-09-13T14:15:00.000000000",
          "2025-09-13T14:20:00.000000000",
          "2025-09-13T14:25:00.000000000",
          "2025-09-13T14:30:00.000000000",
          "2025-09-13T14:35:00.000000000",
          "2025-09-13T14:40:00.000000000",
          "2025-09-13T14:45:00.000000000",
          "2025-09-13T14:50:00.000000000",
          "2025-09-13T14:55:00.000000000",
          "2025-09-13T15:00:00.000000000",
          "2025-09-13T15:05:00.000000000",
          "2025-09-13T15:10:00.000000000",
          "2025-09-13T15:15:00.000000000",
          "2025-09-13T15:20:00.000000000",
          "2025-09-13T15:25:00.000000000",
          "2025-09-13T15:30:00.000000000",
          "2025-09-13T15:35:00.000000000",
          "2025-09-13T15:40:00.000000000",
          "2025-09-13T15:45:00.000000000",
          "2025-09-13T15:50:00.000000000",
          "2025-09-13T15:55:00.000000000",
          "2025-09-13T16:00:00.000000000",
          "2025-09-13T16:05:00.000000000",
          "2025-09-13T16:10:00.000000000",
          "2025-09-13T16:15:00.000000000",
          "2025-09-13T16:20:00.000000000",
          "2025-09-13T16:25:00.000000000",
          "2025-09-13T16:30:00.000000000",
          "2025-09-13T16:35:00.000000000",
          "2025-09-13T16:40:00.000000000",
          "2025-09-13T16:45:00.000000000",
          "2025-09-13T16:50:00.000000000",
          "2025-09-13T16:55:00.000000000",
          "2025-09-13T17:00:00.000000000",
          "2025-09-13T17:05:00.000000000",
          "2025-09-13T17:10:00.000000000",
          "2025-09-13T17:15:00.000000000",
          "2025-09-13T17:20:00.000000000",
          "2025-09-13T17:25:00.000000000",
          "2025-09-13T17:30:00.000000000",
          "2025-09-13T17:35:00.000000000",
          "2025-09-13T17:40:00.000000000",
          "2025-09-13T17:45:00.000000000",
          "2025-09-13T17:50:00.000000000",
          "2025-09-13T17:55:00.000000000",
          "2025-09-13T18:00:00.000000000",
          "2025-09-13T18:05:00.000000000",
          "2025-09-13T18:10:00.000000000",
          "2025-09-13T18:15:00.000000000",
          "2025-09-13T18:20:00.000000000",
          "2025-09-13T18:25:00.000000000",
          "2025-09-13T18:30:00.000000000",
          "2025-09-13T18:35:00.000000000",
          "2025-09-13T18:40:00.000000000",
          "2025-09-13T18:45:00.000000000",
          "2025-09-13T18:50:00.000000000",
          "2025-09-13T18:55:00.000000000",
          "2025-09-13T19:00:00.000000000",
          "2025-09-13T19:05:00.000000000",
          "2025-09-13T19:10:00.000000000",
          "2025-09-13T19:15:00.000000000",
          "2025-09-13T19:20:00.000000000",
          "2025-09-13T19:25:00.000000000",
          "2025-09-13T19:30:00.000000000",
          "2025-09-13T19:35:00.000000000",
          "2025-09-13T19:40:00.000000000",
          "2025-09-13T19:45:00.000000000",
          "2025-09-13T19:50:00.000000000",
          "2025-09-13T19:55:00.000000000",
          "2025-09-13T20:00:00.000000000",
          "2025-09-13T20:05:00.000000000",
          "2025-09-13T20:10:00.000000000",
          "2025-09-13T20:15:00.000000000",
          "2025-09-13T20:20:00.000000000",
          "2025-09-13T20:25:00.000000000",
          "2025-09-13T20:30:00.000000000",
          "2025-09-13T20:35:00.000000000",
          "2025-09-13T20:40:00.000000000",
          "2025-09-13T20:45:00.000000000",
          "2025-09-13T20:50:00.000000000",
          "2025-09-13T20:55:00.000000000",
          "2025-09-13T21:00:00.000000000",
          "2025-09-13T21:05:00.000000000",
          "2025-09-13T21:10:00.000000000",
          "2025-09-13T21:15:00.000000000",
          "2025-09-13T21:20:00.000000000",
          "2025-09-13T21:25:00.000000000",
          "2025-09-13T21:30:00.000000000",
          "2025-09-13T21:35:00.000000000",
          "2025-09-13T21:40:00.000000000",
          "2025-09-13T21:45:00.000000000",
          "2025-09-13T21:50:00.000000000",
          "2025-09-13T21:55:00.000000000",
          "2025-09-13T22:00:00.000000000",
          "2025-09-13T22:05:00.000000000",
          "2025-09-13T22:10:00.000000000",
          "2025-09-13T22:15:00.000000000",
          "2025-09-13T22:20:00.000000000",
          "2025-09-13T22:25:00.000000000",
          "2025-09-13T22:30:00.000000000",
          "2025-09-13T22:35:00.000000000",
          "2025-09-13T22:40:00.000000000",
          "2025-09-13T22:45:00.000000000",
          "2025-09-13T22:50:00.000000000",
          "2025-09-13T22:55:00.000000000",
          "2025-09-13T23:00:00.000000000",
          "2025-09-13T23:05:00.000000000",
          "2025-09-13T23:10:00.000000000",
          "2025-09-13T23:15:00.000000000",
          "2025-09-13T23:20:00.000000000",
          "2025-09-13T23:25:00.000000000",
          "2025-09-13T23:30:00.000000000",
          "2025-09-13T23:35:00.000000000",
          "2025-09-13T23:40:00.000000000",
          "2025-09-13T23:45:00.000000000",
          "2025-09-13T23:50:00.000000000",
          "2025-09-13T23:55:00.000000000"
         ],
         "xaxis": "x",
         "y": {
          "bdata": "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",
          "dtype": "f8"
         },
         "yaxis": "y"
        },
        {
         "line": {
          "color": "blue",
          "width": 1
         },
         "mode": "lines",
         "name": "MA 10 (shifted)",
         "type": "scatter",
         "x": [
          "2025-09-13T00:00:00.000000000",
          "2025-09-13T00:05:00.000000000",
          "2025-09-13T00:10:00.000000000",
          "2025-09-13T00:15:00.000000000",
          "2025-09-13T00:20:00.000000000",
          "2025-09-13T00:25:00.000000000",
          "2025-09-13T00:30:00.000000000",
          "2025-09-13T00:35:00.000000000",
          "2025-09-13T00:40:00.000000000",
          "2025-09-13T00:45:00.000000000",
          "2025-09-13T00:50:00.000000000",
          "2025-09-13T00:55:00.000000000",
          "2025-09-13T01:00:00.000000000",
          "2025-09-13T01:05:00.000000000",
          "2025-09-13T01:10:00.000000000",
          "2025-09-13T01:15:00.000000000",
          "2025-09-13T01:20:00.000000000",
          "2025-09-13T01:25:00.000000000",
          "2025-09-13T01:30:00.000000000",
          "2025-09-13T01:35:00.000000000",
          "2025-09-13T01:40:00.000000000",
          "2025-09-13T01:45:00.000000000",
          "2025-09-13T01:50:00.000000000",
          "2025-09-13T01:55:00.000000000",
          "2025-09-13T02:00:00.000000000",
          "2025-09-13T02:05:00.000000000",
          "2025-09-13T02:10:00.000000000",
          "2025-09-13T02:15:00.000000000",
          "2025-09-13T02:20:00.000000000",
          "2025-09-13T02:25:00.000000000",
          "2025-09-13T02:30:00.000000000",
          "2025-09-13T02:35:00.000000000",
          "2025-09-13T02:40:00.000000000",
          "2025-09-13T02:45:00.000000000",
          "2025-09-13T02:50:00.000000000",
          "2025-09-13T02:55:00.000000000",
          "2025-09-13T03:00:00.000000000",
          "2025-09-13T03:05:00.000000000",
          "2025-09-13T03:10:00.000000000",
          "2025-09-13T03:15:00.000000000",
          "2025-09-13T03:20:00.000000000",
          "2025-09-13T03:25:00.000000000",
          "2025-09-13T03:30:00.000000000",
          "2025-09-13T03:35:00.000000000",
          "2025-09-13T03:40:00.000000000",
          "2025-09-13T03:45:00.000000000",
          "2025-09-13T03:50:00.000000000",
          "2025-09-13T03:55:00.000000000",
          "2025-09-13T04:00:00.000000000",
          "2025-09-13T04:05:00.000000000",
          "2025-09-13T04:10:00.000000000",
          "2025-09-13T04:15:00.000000000",
          "2025-09-13T04:20:00.000000000",
          "2025-09-13T04:25:00.000000000",
          "2025-09-13T04:30:00.000000000",
          "2025-09-13T04:35:00.000000000",
          "2025-09-13T04:40:00.000000000",
          "2025-09-13T04:45:00.000000000",
          "2025-09-13T04:50:00.000000000",
          "2025-09-13T04:55:00.000000000",
          "2025-09-13T05:00:00.000000000",
          "2025-09-13T05:05:00.000000000",
          "2025-09-13T05:10:00.000000000",
          "2025-09-13T05:15:00.000000000",
          "2025-09-13T05:20:00.000000000",
          "2025-09-13T05:25:00.000000000",
          "2025-09-13T05:30:00.000000000",
          "2025-09-13T05:35:00.000000000",
          "2025-09-13T05:40:00.000000000",
          "2025-09-13T05:45:00.000000000",
          "2025-09-13T05:50:00.000000000",
          "2025-09-13T05:55:00.000000000",
          "2025-09-13T06:00:00.000000000",
          "2025-09-13T06:05:00.000000000",
          "2025-09-13T06:10:00.000000000",
          "2025-09-13T06:15:00.000000000",
          "2025-09-13T06:20:00.000000000",
          "2025-09-13T06:25:00.000000000",
          "2025-09-13T06:30:00.000000000",
          "2025-09-13T06:35:00.000000000",
          "2025-09-13T06:40:00.000000000",
          "2025-09-13T06:45:00.000000000",
          "2025-09-13T06:50:00.000000000",
          "2025-09-13T06:55:00.000000000",
          "2025-09-13T07:00:00.000000000",
          "2025-09-13T07:05:00.000000000",
          "2025-09-13T07:10:00.000000000",
          "2025-09-13T07:15:00.000000000",
          "2025-09-13T07:20:00.000000000",
          "2025-09-13T07:25:00.000000000",
          "2025-09-13T07:30:00.000000000",
          "2025-09-13T07:35:00.000000000",
          "2025-09-13T07:40:00.000000000",
          "2025-09-13T07:45:00.000000000",
          "2025-09-13T07:50:00.000000000",
          "2025-09-13T07:55:00.000000000",
          "2025-09-13T08:00:00.000000000",
          "2025-09-13T08:05:00.000000000",
          "2025-09-13T08:10:00.000000000",
          "2025-09-13T08:15:00.000000000",
          "2025-09-13T08:20:00.000000000",
          "2025-09-13T08:25:00.000000000",
          "2025-09-13T08:30:00.000000000",
          "2025-09-13T08:35:00.000000000",
          "2025-09-13T08:40:00.000000000",
          "2025-09-13T08:45:00.000000000",
          "2025-09-13T08:50:00.000000000",
          "2025-09-13T08:55:00.000000000",
          "2025-09-13T09:00:00.000000000",
          "2025-09-13T09:05:00.000000000",
          "2025-09-13T09:10:00.000000000",
          "2025-09-13T09:15:00.000000000",
          "2025-09-13T09:20:00.000000000",
          "2025-09-13T09:25:00.000000000",
          "2025-09-13T09:30:00.000000000",
          "2025-09-13T09:35:00.000000000",
          "2025-09-13T09:40:00.000000000",
          "2025-09-13T09:45:00.000000000",
          "2025-09-13T09:50:00.000000000",
          "2025-09-13T09:55:00.000000000",
          "2025-09-13T10:00:00.000000000",
          "2025-09-13T10:05:00.000000000",
          "2025-09-13T10:10:00.000000000",
          "2025-09-13T10:15:00.000000000",
          "2025-09-13T10:20:00.000000000",
          "2025-09-13T10:25:00.000000000",
          "2025-09-13T10:30:00.000000000",
          "2025-09-13T10:35:00.000000000",
          "2025-09-13T10:40:00.000000000",
          "2025-09-13T10:45:00.000000000",
          "2025-09-13T10:50:00.000000000",
          "2025-09-13T10:55:00.000000000",
          "2025-09-13T11:00:00.000000000",
          "2025-09-13T11:05:00.000000000",
          "2025-09-13T11:10:00.000000000",
          "2025-09-13T11:15:00.000000000",
          "2025-09-13T11:20:00.000000000",
          "2025-09-13T11:25:00.000000000",
          "2025-09-13T11:30:00.000000000",
          "2025-09-13T11:35:00.000000000",
          "2025-09-13T11:40:00.000000000",
          "2025-09-13T11:45:00.000000000",
          "2025-09-13T11:50:00.000000000",
          "2025-09-13T11:55:00.000000000",
          "2025-09-13T12:00:00.000000000",
          "2025-09-13T12:05:00.000000000",
          "2025-09-13T12:10:00.000000000",
          "2025-09-13T12:15:00.000000000",
          "2025-09-13T12:20:00.000000000",
          "2025-09-13T12:25:00.000000000",
          "2025-09-13T12:30:00.000000000",
          "2025-09-13T12:35:00.000000000",
          "2025-09-13T12:40:00.000000000",
          "2025-09-13T12:45:00.000000000",
          "2025-09-13T12:50:00.000000000",
          "2025-09-13T12:55:00.000000000",
          "2025-09-13T13:00:00.000000000",
          "2025-09-13T13:05:00.000000000",
          "2025-09-13T13:10:00.000000000",
          "2025-09-13T13:15:00.000000000",
          "2025-09-13T13:20:00.000000000",
          "2025-09-13T13:25:00.000000000",
          "2025-09-13T13:30:00.000000000",
          "2025-09-13T13:35:00.000000000",
          "2025-09-13T13:40:00.000000000",
          "2025-09-13T13:45:00.000000000",
          "2025-09-13T13:50:00.000000000",
          "2025-09-13T13:55:00.000000000",
          "2025-09-13T14:00:00.000000000",
          "2025-09-13T14:05:00.000000000",
          "2025-09-13T14:10:00.000000000",
          "2025-09-13T14:15:00.000000000",
          "2025-09-13T14:20:00.000000000",
          "2025-09-13T14:25:00.000000000",
          "2025-09-13T14:30:00.000000000",
          "2025-09-13T14:35:00.000000000",
          "2025-09-13T14:40:00.000000000",
          "2025-09-13T14:45:00.000000000",
          "2025-09-13T14:50:00.000000000",
          "2025-09-13T14:55:00.000000000",
          "2025-09-13T15:00:00.000000000",
          "2025-09-13T15:05:00.000000000",
          "2025-09-13T15:10:00.000000000",
          "2025-09-13T15:15:00.000000000",
          "2025-09-13T15:20:00.000000000",
          "2025-09-13T15:25:00.000000000",
          "2025-09-13T15:30:00.000000000",
          "2025-09-13T15:35:00.000000000",
          "2025-09-13T15:40:00.000000000",
          "2025-09-13T15:45:00.000000000",
          "2025-09-13T15:50:00.000000000",
          "2025-09-13T15:55:00.000000000",
          "2025-09-13T16:00:00.000000000",
          "2025-09-13T16:05:00.000000000",
          "2025-09-13T16:10:00.000000000",
          "2025-09-13T16:15:00.000000000",
          "2025-09-13T16:20:00.000000000",
          "2025-09-13T16:25:00.000000000",
          "2025-09-13T16:30:00.000000000",
          "2025-09-13T16:35:00.000000000",
          "2025-09-13T16:40:00.000000000",
          "2025-09-13T16:45:00.000000000",
          "2025-09-13T16:50:00.000000000",
          "2025-09-13T16:55:00.000000000",
          "2025-09-13T17:00:00.000000000",
          "2025-09-13T17:05:00.000000000",
          "2025-09-13T17:10:00.000000000",
          "2025-09-13T17:15:00.000000000",
          "2025-09-13T17:20:00.000000000",
          "2025-09-13T17:25:00.000000000",
          "2025-09-13T17:30:00.000000000",
          "2025-09-13T17:35:00.000000000",
          "2025-09-13T17:40:00.000000000",
          "2025-09-13T17:45:00.000000000",
          "2025-09-13T17:50:00.000000000",
          "2025-09-13T17:55:00.000000000",
          "2025-09-13T18:00:00.000000000",
          "2025-09-13T18:05:00.000000000",
          "2025-09-13T18:10:00.000000000",
          "2025-09-13T18:15:00.000000000",
          "2025-09-13T18:20:00.000000000",
          "2025-09-13T18:25:00.000000000",
          "2025-09-13T18:30:00.000000000",
          "2025-09-13T18:35:00.000000000",
          "2025-09-13T18:40:00.000000000",
          "2025-09-13T18:45:00.000000000",
          "2025-09-13T18:50:00.000000000",
          "2025-09-13T18:55:00.000000000",
          "2025-09-13T19:00:00.000000000",
          "2025-09-13T19:05:00.000000000",
          "2025-09-13T19:10:00.000000000",
          "2025-09-13T19:15:00.000000000",
          "2025-09-13T19:20:00.000000000",
          "2025-09-13T19:25:00.000000000",
          "2025-09-13T19:30:00.000000000",
          "2025-09-13T19:35:00.000000000",
          "2025-09-13T19:40:00.000000000",
          "2025-09-13T19:45:00.000000000",
          "2025-09-13T19:50:00.000000000",
          "2025-09-13T19:55:00.000000000",
          "2025-09-13T20:00:00.000000000",
          "2025-09-13T20:05:00.000000000",
          "2025-09-13T20:10:00.000000000",
          "2025-09-13T20:15:00.000000000",
          "2025-09-13T20:20:00.000000000",
          "2025-09-13T20:25:00.000000000",
          "2025-09-13T20:30:00.000000000",
          "2025-09-13T20:35:00.000000000",
          "2025-09-13T20:40:00.000000000",
          "2025-09-13T20:45:00.000000000",
          "2025-09-13T20:50:00.000000000",
          "2025-09-13T20:55:00.000000000",
          "2025-09-13T21:00:00.000000000",
          "2025-09-13T21:05:00.000000000",
          "2025-09-13T21:10:00.000000000",
          "2025-09-13T21:15:00.000000000",
          "2025-09-13T21:20:00.000000000",
          "2025-09-13T21:25:00.000000000",
          "2025-09-13T21:30:00.000000000",
          "2025-09-13T21:35:00.000000000",
          "2025-09-13T21:40:00.000000000",
          "2025-09-13T21:45:00.000000000",
          "2025-09-13T21:50:00.000000000",
          "2025-09-13T21:55:00.000000000",
          "2025-09-13T22:00:00.000000000",
          "2025-09-13T22:05:00.000000000",
          "2025-09-13T22:10:00.000000000",
          "2025-09-13T22:15:00.000000000",
          "2025-09-13T22:20:00.000000000",
          "2025-09-13T22:25:00.000000000",
          "2025-09-13T22:30:00.000000000",
          "2025-09-13T22:35:00.000000000",
          "2025-09-13T22:40:00.000000000",
          "2025-09-13T22:45:00.000000000",
          "2025-09-13T22:50:00.000000000",
          "2025-09-13T22:55:00.000000000",
          "2025-09-13T23:00:00.000000000",
          "2025-09-13T23:05:00.000000000",
          "2025-09-13T23:10:00.000000000",
          "2025-09-13T23:15:00.000000000",
          "2025-09-13T23:20:00.000000000",
          "2025-09-13T23:25:00.000000000",
          "2025-09-13T23:30:00.000000000",
          "2025-09-13T23:35:00.000000000",
          "2025-09-13T23:40:00.000000000",
          "2025-09-13T23:45:00.000000000",
          "2025-09-13T23:50:00.000000000",
          "2025-09-13T23:55:00.000000000"
         ],
         "xaxis": "x",
         "y": {
          "bdata": "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",
          "dtype": "f8"
         },
         "yaxis": "y"
        },
        {
         "line": {
          "color": "red",
          "width": 1
         },
         "mode": "lines",
         "name": "Close - MA (shifted)",
         "type": "scatter",
         "x": [
          "2025-09-13T00:00:00.000000000",
          "2025-09-13T00:05:00.000000000",
          "2025-09-13T00:10:00.000000000",
          "2025-09-13T00:15:00.000000000",
          "2025-09-13T00:20:00.000000000",
          "2025-09-13T00:25:00.000000000",
          "2025-09-13T00:30:00.000000000",
          "2025-09-13T00:35:00.000000000",
          "2025-09-13T00:40:00.000000000",
          "2025-09-13T00:45:00.000000000",
          "2025-09-13T00:50:00.000000000",
          "2025-09-13T00:55:00.000000000",
          "2025-09-13T01:00:00.000000000",
          "2025-09-13T01:05:00.000000000",
          "2025-09-13T01:10:00.000000000",
          "2025-09-13T01:15:00.000000000",
          "2025-09-13T01:20:00.000000000",
          "2025-09-13T01:25:00.000000000",
          "2025-09-13T01:30:00.000000000",
          "2025-09-13T01:35:00.000000000",
          "2025-09-13T01:40:00.000000000",
          "2025-09-13T01:45:00.000000000",
          "2025-09-13T01:50:00.000000000",
          "2025-09-13T01:55:00.000000000",
          "2025-09-13T02:00:00.000000000",
          "2025-09-13T02:05:00.000000000",
          "2025-09-13T02:10:00.000000000",
          "2025-09-13T02:15:00.000000000",
          "2025-09-13T02:20:00.000000000",
          "2025-09-13T02:25:00.000000000",
          "2025-09-13T02:30:00.000000000",
          "2025-09-13T02:35:00.000000000",
          "2025-09-13T02:40:00.000000000",
          "2025-09-13T02:45:00.000000000",
          "2025-09-13T02:50:00.000000000",
          "2025-09-13T02:55:00.000000000",
          "2025-09-13T03:00:00.000000000",
          "2025-09-13T03:05:00.000000000",
          "2025-09-13T03:10:00.000000000",
          "2025-09-13T03:15:00.000000000",
          "2025-09-13T03:20:00.000000000",
          "2025-09-13T03:25:00.000000000",
          "2025-09-13T03:30:00.000000000",
          "2025-09-13T03:35:00.000000000",
          "2025-09-13T03:40:00.000000000",
          "2025-09-13T03:45:00.000000000",
          "2025-09-13T03:50:00.000000000",
          "2025-09-13T03:55:00.000000000",
          "2025-09-13T04:00:00.000000000",
          "2025-09-13T04:05:00.000000000",
          "2025-09-13T04:10:00.000000000",
          "2025-09-13T04:15:00.000000000",
          "2025-09-13T04:20:00.000000000",
          "2025-09-13T04:25:00.000000000",
          "2025-09-13T04:30:00.000000000",
          "2025-09-13T04:35:00.000000000",
          "2025-09-13T04:40:00.000000000",
          "2025-09-13T04:45:00.000000000",
          "2025-09-13T04:50:00.000000000",
          "2025-09-13T04:55:00.000000000",
          "2025-09-13T05:00:00.000000000",
          "2025-09-13T05:05:00.000000000",
          "2025-09-13T05:10:00.000000000",
          "2025-09-13T05:15:00.000000000",
          "2025-09-13T05:20:00.000000000",
          "2025-09-13T05:25:00.000000000",
          "2025-09-13T05:30:00.000000000",
          "2025-09-13T05:35:00.000000000",
          "2025-09-13T05:40:00.000000000",
          "2025-09-13T05:45:00.000000000",
          "2025-09-13T05:50:00.000000000",
          "2025-09-13T05:55:00.000000000",
          "2025-09-13T06:00:00.000000000",
          "2025-09-13T06:05:00.000000000",
          "2025-09-13T06:10:00.000000000",
          "2025-09-13T06:15:00.000000000",
          "2025-09-13T06:20:00.000000000",
          "2025-09-13T06:25:00.000000000",
          "2025-09-13T06:30:00.000000000",
          "2025-09-13T06:35:00.000000000",
          "2025-09-13T06:40:00.000000000",
          "2025-09-13T06:45:00.000000000",
          "2025-09-13T06:50:00.000000000",
          "2025-09-13T06:55:00.000000000",
          "2025-09-13T07:00:00.000000000",
          "2025-09-13T07:05:00.000000000",
          "2025-09-13T07:10:00.000000000",
          "2025-09-13T07:15:00.000000000",
          "2025-09-13T07:20:00.000000000",
          "2025-09-13T07:25:00.000000000",
          "2025-09-13T07:30:00.000000000",
          "2025-09-13T07:35:00.000000000",
          "2025-09-13T07:40:00.000000000",
          "2025-09-13T07:45:00.000000000",
          "2025-09-13T07:50:00.000000000",
          "2025-09-13T07:55:00.000000000",
          "2025-09-13T08:00:00.000000000",
          "2025-09-13T08:05:00.000000000",
          "2025-09-13T08:10:00.000000000",
          "2025-09-13T08:15:00.000000000",
          "2025-09-13T08:20:00.000000000",
          "2025-09-13T08:25:00.000000000",
          "2025-09-13T08:30:00.000000000",
          "2025-09-13T08:35:00.000000000",
          "2025-09-13T08:40:00.000000000",
          "2025-09-13T08:45:00.000000000",
          "2025-09-13T08:50:00.000000000",
          "2025-09-13T08:55:00.000000000",
          "2025-09-13T09:00:00.000000000",
          "2025-09-13T09:05:00.000000000",
          "2025-09-13T09:10:00.000000000",
          "2025-09-13T09:15:00.000000000",
          "2025-09-13T09:20:00.000000000",
          "2025-09-13T09:25:00.000000000",
          "2025-09-13T09:30:00.000000000",
          "2025-09-13T09:35:00.000000000",
          "2025-09-13T09:40:00.000000000",
          "2025-09-13T09:45:00.000000000",
          "2025-09-13T09:50:00.000000000",
          "2025-09-13T09:55:00.000000000",
          "2025-09-13T10:00:00.000000000",
          "2025-09-13T10:05:00.000000000",
          "2025-09-13T10:10:00.000000000",
          "2025-09-13T10:15:00.000000000",
          "2025-09-13T10:20:00.000000000",
          "2025-09-13T10:25:00.000000000",
          "2025-09-13T10:30:00.000000000",
          "2025-09-13T10:35:00.000000000",
          "2025-09-13T10:40:00.000000000",
          "2025-09-13T10:45:00.000000000",
          "2025-09-13T10:50:00.000000000",
          "2025-09-13T10:55:00.000000000",
          "2025-09-13T11:00:00.000000000",
          "2025-09-13T11:05:00.000000000",
          "2025-09-13T11:10:00.000000000",
          "2025-09-13T11:15:00.000000000",
          "2025-09-13T11:20:00.000000000",
          "2025-09-13T11:25:00.000000000",
          "2025-09-13T11:30:00.000000000",
          "2025-09-13T11:35:00.000000000",
          "2025-09-13T11:40:00.000000000",
          "2025-09-13T11:45:00.000000000",
          "2025-09-13T11:50:00.000000000",
          "2025-09-13T11:55:00.000000000",
          "2025-09-13T12:00:00.000000000",
          "2025-09-13T12:05:00.000000000",
          "2025-09-13T12:10:00.000000000",
          "2025-09-13T12:15:00.000000000",
          "2025-09-13T12:20:00.000000000",
          "2025-09-13T12:25:00.000000000",
          "2025-09-13T12:30:00.000000000",
          "2025-09-13T12:35:00.000000000",
          "2025-09-13T12:40:00.000000000",
          "2025-09-13T12:45:00.000000000",
          "2025-09-13T12:50:00.000000000",
          "2025-09-13T12:55:00.000000000",
          "2025-09-13T13:00:00.000000000",
          "2025-09-13T13:05:00.000000000",
          "2025-09-13T13:10:00.000000000",
          "2025-09-13T13:15:00.000000000",
          "2025-09-13T13:20:00.000000000",
          "2025-09-13T13:25:00.000000000",
          "2025-09-13T13:30:00.000000000",
          "2025-09-13T13:35:00.000000000",
          "2025-09-13T13:40:00.000000000",
          "2025-09-13T13:45:00.000000000",
          "2025-09-13T13:50:00.000000000",
          "2025-09-13T13:55:00.000000000",
          "2025-09-13T14:00:00.000000000",
          "2025-09-13T14:05:00.000000000",
          "2025-09-13T14:10:00.000000000",
          "2025-09-13T14:15:00.000000000",
          "2025-09-13T14:20:00.000000000",
          "2025-09-13T14:25:00.000000000",
          "2025-09-13T14:30:00.000000000",
          "2025-09-13T14:35:00.000000000",
          "2025-09-13T14:40:00.000000000",
          "2025-09-13T14:45:00.000000000",
          "2025-09-13T14:50:00.000000000",
          "2025-09-13T14:55:00.000000000",
          "2025-09-13T15:00:00.000000000",
          "2025-09-13T15:05:00.000000000",
          "2025-09-13T15:10:00.000000000",
          "2025-09-13T15:15:00.000000000",
          "2025-09-13T15:20:00.000000000",
          "2025-09-13T15:25:00.000000000",
          "2025-09-13T15:30:00.000000000",
          "2025-09-13T15:35:00.000000000",
          "2025-09-13T15:40:00.000000000",
          "2025-09-13T15:45:00.000000000",
          "2025-09-13T15:50:00.000000000",
          "2025-09-13T15:55:00.000000000",
          "2025-09-13T16:00:00.000000000",
          "2025-09-13T16:05:00.000000000",
          "2025-09-13T16:10:00.000000000",
          "2025-09-13T16:15:00.000000000",
          "2025-09-13T16:20:00.000000000",
          "2025-09-13T16:25:00.000000000",
          "2025-09-13T16:30:00.000000000",
          "2025-09-13T16:35:00.000000000",
          "2025-09-13T16:40:00.000000000",
          "2025-09-13T16:45:00.000000000",
          "2025-09-13T16:50:00.000000000",
          "2025-09-13T16:55:00.000000000",
          "2025-09-13T17:00:00.000000000",
          "2025-09-13T17:05:00.000000000",
          "2025-09-13T17:10:00.000000000",
          "2025-09-13T17:15:00.000000000",
          "2025-09-13T17:20:00.000000000",
          "2025-09-13T17:25:00.000000000",
          "2025-09-13T17:30:00.000000000",
          "2025-09-13T17:35:00.000000000",
          "2025-09-13T17:40:00.000000000",
          "2025-09-13T17:45:00.000000000",
          "2025-09-13T17:50:00.000000000",
          "2025-09-13T17:55:00.000000000",
          "2025-09-13T18:00:00.000000000",
          "2025-09-13T18:05:00.000000000",
          "2025-09-13T18:10:00.000000000",
          "2025-09-13T18:15:00.000000000",
          "2025-09-13T18:20:00.000000000",
          "2025-09-13T18:25:00.000000000",
          "2025-09-13T18:30:00.000000000",
          "2025-09-13T18:35:00.000000000",
          "2025-09-13T18:40:00.000000000",
          "2025-09-13T18:45:00.000000000",
          "2025-09-13T18:50:00.000000000",
          "2025-09-13T18:55:00.000000000",
          "2025-09-13T19:00:00.000000000",
          "2025-09-13T19:05:00.000000000",
          "2025-09-13T19:10:00.000000000",
          "2025-09-13T19:15:00.000000000",
          "2025-09-13T19:20:00.000000000",
          "2025-09-13T19:25:00.000000000",
          "2025-09-13T19:30:00.000000000",
          "2025-09-13T19:35:00.000000000",
          "2025-09-13T19:40:00.000000000",
          "2025-09-13T19:45:00.000000000",
          "2025-09-13T19:50:00.000000000",
          "2025-09-13T19:55:00.000000000",
          "2025-09-13T20:00:00.000000000",
          "2025-09-13T20:05:00.000000000",
          "2025-09-13T20:10:00.000000000",
          "2025-09-13T20:15:00.000000000",
          "2025-09-13T20:20:00.000000000",
          "2025-09-13T20:25:00.000000000",
          "2025-09-13T20:30:00.000000000",
          "2025-09-13T20:35:00.000000000",
          "2025-09-13T20:40:00.000000000",
          "2025-09-13T20:45:00.000000000",
          "2025-09-13T20:50:00.000000000",
          "2025-09-13T20:55:00.000000000",
          "2025-09-13T21:00:00.000000000",
          "2025-09-13T21:05:00.000000000",
          "2025-09-13T21:10:00.000000000",
          "2025-09-13T21:15:00.000000000",
          "2025-09-13T21:20:00.000000000",
          "2025-09-13T21:25:00.000000000",
          "2025-09-13T21:30:00.000000000",
          "2025-09-13T21:35:00.000000000",
          "2025-09-13T21:40:00.000000000",
          "2025-09-13T21:45:00.000000000",
          "2025-09-13T21:50:00.000000000",
          "2025-09-13T21:55:00.000000000",
          "2025-09-13T22:00:00.000000000",
          "2025-09-13T22:05:00.000000000",
          "2025-09-13T22:10:00.000000000",
          "2025-09-13T22:15:00.000000000",
          "2025-09-13T22:20:00.000000000",
          "2025-09-13T22:25:00.000000000",
          "2025-09-13T22:30:00.000000000",
          "2025-09-13T22:35:00.000000000",
          "2025-09-13T22:40:00.000000000",
          "2025-09-13T22:45:00.000000000",
          "2025-09-13T22:50:00.000000000",
          "2025-09-13T22:55:00.000000000",
          "2025-09-13T23:00:00.000000000",
          "2025-09-13T23:05:00.000000000",
          "2025-09-13T23:10:00.000000000",
          "2025-09-13T23:15:00.000000000",
          "2025-09-13T23:20:00.000000000",
          "2025-09-13T23:25:00.000000000",
          "2025-09-13T23:30:00.000000000",
          "2025-09-13T23:35:00.000000000",
          "2025-09-13T23:40:00.000000000",
          "2025-09-13T23:45:00.000000000",
          "2025-09-13T23:50:00.000000000",
          "2025-09-13T23:55:00.000000000"
         ],
         "xaxis": "x",
         "y": {
          "bdata": "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",
          "dtype": "f8"
         },
         "yaxis": "y2"
        }
       ],
       "layout": {
        "height": 700,
        "hovermode": "x unified",
        "legend": {
         "orientation": "h",
         "x": 1,
         "xanchor": "right",
         "y": 1.02,
         "yanchor": "bottom"
        },
        "margin": {
         "b": 120,
         "l": 60,
         "r": 60,
         "t": 80
        },
        "shapes": [
         {
          "line": {
           "color": "gray",
           "dash": "dot",
           "width": 1
          },
          "type": "line",
          "x0": 0,
          "x1": 1,
          "xref": "x domain",
          "y0": 0,
          "y1": 0,
          "yref": "y2"
         }
        ],
        "showlegend": true,
        "template": {
         "data": {
          "bar": [
           {
            "error_x": {
             "color": "#2a3f5f"
            },
            "error_y": {
             "color": "#2a3f5f"
            },
            "marker": {
             "line": {
              "color": "#E5ECF6",
              "width": 0.5
             },
             "pattern": {
              "fillmode": "overlay",
              "size": 10,
              "solidity": 0.2
             }
            },
            "type": "bar"
           }
          ],
          "barpolar": [
           {
            "marker": {
             "line": {
              "color": "#E5ECF6",
              "width": 0.5
             },
             "pattern": {
              "fillmode": "overlay",
              "size": 10,
              "solidity": 0.2
             }
            },
            "type": "barpolar"
           }
          ],
          "carpet": [
           {
            "aaxis": {
             "endlinecolor": "#2a3f5f",
             "gridcolor": "white",
             "linecolor": "white",
             "minorgridcolor": "white",
             "startlinecolor": "#2a3f5f"
            },
            "baxis": {
             "endlinecolor": "#2a3f5f",
             "gridcolor": "white",
             "linecolor": "white",
             "minorgridcolor": "white",
             "startlinecolor": "#2a3f5f"
            },
            "type": "carpet"
           }
          ],
          "choropleth": [
           {
            "colorbar": {
             "outlinewidth": 0,
             "ticks": ""
            },
            "type": "choropleth"
           }
          ],
          "contour": [
           {
            "colorbar": {
             "outlinewidth": 0,
             "ticks": ""
            },
            "colorscale": [
             [
              0,
              "#0d0887"
             ],
             [
              0.1111111111111111,
              "#46039f"
             ],
             [
              0.2222222222222222,
              "#7201a8"
             ],
             [
              0.3333333333333333,
              "#9c179e"
             ],
             [
              0.4444444444444444,
              "#bd3786"
             ],
             [
              0.5555555555555556,
              "#d8576b"
             ],
             [
              0.6666666666666666,
              "#ed7953"
             ],
             [
              0.7777777777777778,
              "#fb9f3a"
             ],
             [
              0.8888888888888888,
              "#fdca26"
             ],
             [
              1,
              "#f0f921"
             ]
            ],
            "type": "contour"
           }
          ],
          "contourcarpet": [
           {
            "colorbar": {
             "outlinewidth": 0,
             "ticks": ""
            },
            "type": "contourcarpet"
           }
          ],
          "heatmap": [
           {
            "colorbar": {
             "outlinewidth": 0,
             "ticks": ""
            },
            "colorscale": [
             [
              0,
              "#0d0887"
             ],
             [
              0.1111111111111111,
              "#46039f"
             ],
             [
              0.2222222222222222,
              "#7201a8"
             ],
             [
              0.3333333333333333,
              "#9c179e"
             ],
             [
              0.4444444444444444,
              "#bd3786"
             ],
             [
              0.5555555555555556,
              "#d8576b"
             ],
             [
              0.6666666666666666,
              "#ed7953"
             ],
             [
              0.7777777777777778,
              "#fb9f3a"
             ],
             [
              0.8888888888888888,
              "#fdca26"
             ],
             [
              1,
              "#f0f921"
             ]
            ],
            "type": "heatmap"
           }
          ],
          "histogram": [
           {
            "marker": {
             "pattern": {
              "fillmode": "overlay",
              "size": 10,
              "solidity": 0.2
             }
            },
            "type": "histogram"
           }
          ],
          "histogram2d": [
           {
            "colorbar": {
             "outlinewidth": 0,
             "ticks": ""
            },
            "colorscale": [
             [
              0,
              "#0d0887"
             ],
             [
              0.1111111111111111,
              "#46039f"
             ],
             [
              0.2222222222222222,
              "#7201a8"
             ],
             [
              0.3333333333333333,
              "#9c179e"
             ],
             [
              0.4444444444444444,
              "#bd3786"
             ],
             [
              0.5555555555555556,
              "#d8576b"
             ],
             [
              0.6666666666666666,
              "#ed7953"
             ],
             [
              0.7777777777777778,
              "#fb9f3a"
             ],
             [
              0.8888888888888888,
              "#fdca26"
             ],
             [
              1,
              "#f0f921"
             ]
            ],
            "type": "histogram2d"
           }
          ],
          "histogram2dcontour": [
           {
            "colorbar": {
             "outlinewidth": 0,
             "ticks": ""
            },
            "colorscale": [
             [
              0,
              "#0d0887"
             ],
             [
              0.1111111111111111,
              "#46039f"
             ],
             [
              0.2222222222222222,
              "#7201a8"
             ],
             [
              0.3333333333333333,
              "#9c179e"
             ],
             [
              0.4444444444444444,
              "#bd3786"
             ],
             [
              0.5555555555555556,
              "#d8576b"
             ],
             [
              0.6666666666666666,
              "#ed7953"
             ],
             [
              0.7777777777777778,
              "#fb9f3a"
             ],
             [
              0.8888888888888888,
              "#fdca26"
             ],
             [
              1,
              "#f0f921"
             ]
            ],
            "type": "histogram2dcontour"
           }
          ],
          "mesh3d": [
           {
            "colorbar": {
             "outlinewidth": 0,
             "ticks": ""
            },
            "type": "mesh3d"
           }
          ],
          "parcoords": [
           {
            "line": {
             "colorbar": {
              "outlinewidth": 0,
              "ticks": ""
             }
            },
            "type": "parcoords"
           }
          ],
          "pie": [
           {
            "automargin": true,
            "type": "pie"
           }
          ],
          "scatter": [
           {
            "fillpattern": {
             "fillmode": "overlay",
             "size": 10,
             "solidity": 0.2
            },
            "type": "scatter"
           }
          ],
          "scatter3d": [
           {
            "line": {
             "colorbar": {
              "outlinewidth": 0,
              "ticks": ""
             }
            },
            "marker": {
             "colorbar": {
              "outlinewidth": 0,
              "ticks": ""
             }
            },
            "type": "scatter3d"
           }
          ],
          "scattercarpet": [
           {
            "marker": {
             "colorbar": {
              "outlinewidth": 0,
              "ticks": ""
             }
            },
            "type": "scattercarpet"
           }
          ],
          "scattergeo": [
           {
            "marker": {
             "colorbar": {
              "outlinewidth": 0,
              "ticks": ""
             }
            },
            "type": "scattergeo"
           }
          ],
          "scattergl": [
           {
            "marker": {
             "colorbar": {
              "outlinewidth": 0,
              "ticks": ""
             }
            },
            "type": "scattergl"
           }
          ],
          "scattermap": [
           {
            "marker": {
             "colorbar": {
              "outlinewidth": 0,
              "ticks": ""
             }
            },
            "type": "scattermap"
           }
          ],
          "scattermapbox": [
           {
            "marker": {
             "colorbar": {
              "outlinewidth": 0,
              "ticks": ""
             }
            },
            "type": "scattermapbox"
           }
          ],
          "scatterpolar": [
           {
            "marker": {
             "colorbar": {
              "outlinewidth": 0,
              "ticks": ""
             }
            },
            "type": "scatterpolar"
           }
          ],
          "scatterpolargl": [
           {
            "marker": {
             "colorbar": {
              "outlinewidth": 0,
              "ticks": ""
             }
            },
            "type": "scatterpolargl"
           }
          ],
          "scatterternary": [
           {
            "marker": {
             "colorbar": {
              "outlinewidth": 0,
              "ticks": ""
             }
            },
            "type": "scatterternary"
           }
          ],
          "surface": [
           {
            "colorbar": {
             "outlinewidth": 0,
             "ticks": ""
            },
            "colorscale": [
             [
              0,
              "#0d0887"
             ],
             [
              0.1111111111111111,
              "#46039f"
             ],
             [
              0.2222222222222222,
              "#7201a8"
             ],
             [
              0.3333333333333333,
              "#9c179e"
             ],
             [
              0.4444444444444444,
              "#bd3786"
             ],
             [
              0.5555555555555556,
              "#d8576b"
             ],
             [
              0.6666666666666666,
              "#ed7953"
             ],
             [
              0.7777777777777778,
              "#fb9f3a"
             ],
             [
              0.8888888888888888,
              "#fdca26"
             ],
             [
              1,
              "#f0f921"
             ]
            ],
            "type": "surface"
           }
          ],
          "table": [
           {
            "cells": {
             "fill": {
              "color": "#EBF0F8"
             },
             "line": {
              "color": "white"
             }
            },
            "header": {
             "fill": {
              "color": "#C8D4E3"
             },
             "line": {
              "color": "white"
             }
            },
            "type": "table"
           }
          ]
         },
         "layout": {
          "annotationdefaults": {
           "arrowcolor": "#2a3f5f",
           "arrowhead": 0,
           "arrowwidth": 1
          },
          "autotypenumbers": "strict",
          "coloraxis": {
           "colorbar": {
            "outlinewidth": 0,
            "ticks": ""
           }
          },
          "colorscale": {
           "diverging": [
            [
             0,
             "#8e0152"
            ],
            [
             0.1,
             "#c51b7d"
            ],
            [
             0.2,
             "#de77ae"
            ],
            [
             0.3,
             "#f1b6da"
            ],
            [
             0.4,
             "#fde0ef"
            ],
            [
             0.5,
             "#f7f7f7"
            ],
            [
             0.6,
             "#e6f5d0"
            ],
            [
             0.7,
             "#b8e186"
            ],
            [
             0.8,
             "#7fbc41"
            ],
            [
             0.9,
             "#4d9221"
            ],
            [
             1,
             "#276419"
            ]
           ],
           "sequential": [
            [
             0,
             "#0d0887"
            ],
            [
             0.1111111111111111,
             "#46039f"
            ],
            [
             0.2222222222222222,
             "#7201a8"
            ],
            [
             0.3333333333333333,
             "#9c179e"
            ],
            [
             0.4444444444444444,
             "#bd3786"
            ],
            [
             0.5555555555555556,
             "#d8576b"
            ],
            [
             0.6666666666666666,
             "#ed7953"
            ],
            [
             0.7777777777777778,
             "#fb9f3a"
            ],
            [
             0.8888888888888888,
             "#fdca26"
            ],
            [
             1,
             "#f0f921"
            ]
           ],
           "sequentialminus": [
            [
             0,
             "#0d0887"
            ],
            [
             0.1111111111111111,
             "#46039f"
            ],
            [
             0.2222222222222222,
             "#7201a8"
            ],
            [
             0.3333333333333333,
             "#9c179e"
            ],
            [
             0.4444444444444444,
             "#bd3786"
            ],
            [
             0.5555555555555556,
             "#d8576b"
            ],
            [
             0.6666666666666666,
             "#ed7953"
            ],
            [
             0.7777777777777778,
             "#fb9f3a"
            ],
            [
             0.8888888888888888,
             "#fdca26"
            ],
            [
             1,
             "#f0f921"
            ]
           ]
          },
          "colorway": [
           "#636efa",
           "#EF553B",
           "#00cc96",
           "#ab63fa",
           "#FFA15A",
           "#19d3f3",
           "#FF6692",
           "#B6E880",
           "#FF97FF",
           "#FECB52"
          ],
          "font": {
           "color": "#2a3f5f"
          },
          "geo": {
           "bgcolor": "white",
           "lakecolor": "white",
           "landcolor": "#E5ECF6",
           "showlakes": true,
           "showland": true,
           "subunitcolor": "white"
          },
          "hoverlabel": {
           "align": "left"
          },
          "hovermode": "closest",
          "mapbox": {
           "style": "light"
          },
          "paper_bgcolor": "white",
          "plot_bgcolor": "#E5ECF6",
          "polar": {
           "angularaxis": {
            "gridcolor": "white",
            "linecolor": "white",
            "ticks": ""
           },
           "bgcolor": "#E5ECF6",
           "radialaxis": {
            "gridcolor": "white",
            "linecolor": "white",
            "ticks": ""
           }
          },
          "scene": {
           "xaxis": {
            "backgroundcolor": "#E5ECF6",
            "gridcolor": "white",
            "gridwidth": 2,
            "linecolor": "white",
            "showbackground": true,
            "ticks": "",
            "zerolinecolor": "white"
           },
           "yaxis": {
            "backgroundcolor": "#E5ECF6",
            "gridcolor": "white",
            "gridwidth": 2,
            "linecolor": "white",
            "showbackground": true,
            "ticks": "",
            "zerolinecolor": "white"
           },
           "zaxis": {
            "backgroundcolor": "#E5ECF6",
            "gridcolor": "white",
            "gridwidth": 2,
            "linecolor": "white",
            "showbackground": true,
            "ticks": "",
            "zerolinecolor": "white"
           }
          },
          "shapedefaults": {
           "line": {
            "color": "#2a3f5f"
           }
          },
          "ternary": {
           "aaxis": {
            "gridcolor": "white",
            "linecolor": "white",
            "ticks": ""
           },
           "baxis": {
            "gridcolor": "white",
            "linecolor": "white",
            "ticks": ""
           },
           "bgcolor": "#E5ECF6",
           "caxis": {
            "gridcolor": "white",
            "linecolor": "white",
            "ticks": ""
           }
          },
          "title": {
           "x": 0.05
          },
          "xaxis": {
           "automargin": true,
           "gridcolor": "white",
           "linecolor": "white",
           "ticks": "",
           "title": {
            "standoff": 15
           },
           "zerolinecolor": "white",
           "zerolinewidth": 2
          },
          "yaxis": {
           "automargin": true,
           "gridcolor": "white",
           "linecolor": "white",
           "ticks": "",
           "title": {
            "standoff": 15
           },
           "zerolinecolor": "white",
           "zerolinewidth": 2
          }
         }
        },
        "title": {
         "text": "BTCUSDT - Close, MA 10 & Diff (5m)"
        },
        "xaxis": {
         "anchor": "y",
         "domain": [
          0,
          0.94
         ],
         "nticks": 8,
         "range": [
          "2025-09-13T00:00:00",
          "2025-09-13T23:55:00"
         ],
         "showgrid": false,
         "showticklabels": true,
         "tickangle": -45,
         "tickfont": {
          "size": 10
         },
         "tickformat": "%Y-%m-%d\n%H:%M",
         "ticks": "outside",
         "title": {
          "standoff": 40,
          "text": "Time"
         },
         "type": "date"
        },
        "yaxis": {
         "anchor": "x",
         "domain": [
          0,
          1
         ],
         "title": {
          "text": "Price (USDT)"
         }
        },
        "yaxis2": {
         "anchor": "x",
         "overlaying": "y",
         "side": "right",
         "title": {
          "text": "Diff (USDT)"
         }
        }
       }
      }
     },
     "metadata": {},
     "output_type": "display_data"
    }
   ],
   "source": [
    "# VISUALISATION INTERACTIVE\n",
    "\n",
    "import plotly.graph_objects as go\n",
    "from plotly.subplots import make_subplots\n",
    "import numpy as np\n",
    "\n",
    "# Paramètre de moyenne mobile (modifiable)\n",
    "MA_PERIOD = 10\n",
    "\n",
    "if len(df_btc) > 0:\n",
    "    # Calculer la moyenne mobile sur les MA_PERIOD dernières périodes\n",
    "    df_btc[f'ma_{MA_PERIOD}'] = df_btc['close'].rolling(window=MA_PERIOD).mean()\n",
    "    # Décalage vers la gauche pour aligner (la fin des données n'est pas importante)\n",
    "    decalage = MA_PERIOD // 2\n",
    "    df_btc[f'ma_{MA_PERIOD}_shifted'] = df_btc[f'ma_{MA_PERIOD}'].shift(-decalage)\n",
    "\n",
    "    # Calculer la différence entre close et la MA décalée\n",
    "    df_btc['diff_close_ma'] = df_btc['close'] - df_btc[f'ma_{MA_PERIOD}_shifted']\n",
    "\n",
    "    # (FFT supprimée — nous conservons seulement la série des différences)\n",
    "    difference_values = df_btc['diff_close_ma'].dropna().values\n",
    "\n",
    "    # --- Création d'un seul subplot avec deux axes Y (price + diff) ---\n",
    "    fig = make_subplots(\n",
    "        rows=1,\n",
    "        cols=1,\n",
    "        shared_xaxes=True,\n",
    "        specs=[[{\"secondary_y\": True}]],\n",
    "    )\n",
    "\n",
    "    # Prix + MA sur l'axe Y principal\n",
    "    fig.add_trace(\n",
    "        go.Scatter(x=df_btc.index, y=df_btc['close'], mode='lines', name=f\"{SYMBOL} Close\", line=dict(color='#00c851', width=1)),\n",
    "        row=1,\n",
    "        col=1,\n",
    "        secondary_y=False,\n",
    "    )\n",
    "    fig.add_trace(\n",
    "        go.Scatter(x=df_btc.index, y=df_btc[f'ma_{MA_PERIOD}_shifted'], mode='lines', name=f\"MA {MA_PERIOD} (shifted)\", line=dict(color='blue', width=1)),\n",
    "        row=1,\n",
    "        col=1,\n",
    "        secondary_y=False,\n",
    "    )\n",
    "\n",
    "    # Différence sur l'axe Y secondaire\n",
    "    fig.add_trace(\n",
    "        go.Scatter(x=df_btc.index, y=df_btc['diff_close_ma'], mode='lines', name='Close - MA (shifted)', line=dict(color='red', width=1)),\n",
    "        row=1,\n",
    "        col=1,\n",
    "        secondary_y=True,\n",
    "    )\n",
    "\n",
    "    # Ajouter une ligne horizontale fine et pointillée (plus serrée) à y=0 sur l'axe Y secondaire\n",
    "    try:\n",
    "        # prefer add_hline when available; use 'dot' pour points serrés et width=1\n",
    "        fig.add_hline(y=0, line=dict(color='gray', dash='dot', width=1), row=1, col=1, secondary_y=True)\n",
    "    except Exception:\n",
    "        # Fallback: ajouter comme shape en référant explicitement à yaxis secondaire (y2)\n",
    "        try:\n",
    "            fig.add_shape(\n",
    "                type='line',\n",
    "                x0=df_btc.index.min(), x1=df_btc.index.max(),\n",
    "                y0=0, y1=0,\n",
    "                xref='x', yref='y2',\n",
    "                line=dict(color='gray', dash='dot', width=1),\n",
    "                layer='below'\n",
    "            )\n",
    "        except Exception:\n",
    "            # Si tout échoue, on ignore silencieusement pour ne pas briser l'affichage\n",
    "            pass\n",
    "\n",
    "    # Layout improvements\n",
    "    fig.update_layout(\n",
    "        height=700,\n",
    "        showlegend=True,\n",
    "        legend=dict(orientation='h', yanchor='bottom', y=1.02, xanchor='right', x=1),\n",
    "        hovermode='x unified',\n",
    "        title_text=f\"{SYMBOL} - Close, MA {MA_PERIOD} & Diff ({INTERVAL})\",\n",
    "        margin=dict(l=60, r=60, t=80, b=120),\n",
    "    )\n",
    "\n",
    "    # Axis labels: primary Y = Price, secondary Y = Diff\n",
    "    fig.update_yaxes(title_text='Price (USDT)', row=1, col=1, secondary_y=False)\n",
    "    fig.update_yaxes(title_text='Diff (USDT)', row=1, col=1, secondary_y=True)\n",
    "\n",
    "    # Configure X-axis appearance for datetime subplot\n",
    "    # augmenter title_standoff pour réserver plus d'espace vertical pour le label\n",
    "    date_xargs = dict(type='date', tickformat=\"%Y-%m-%d\\n%H:%M\", tickangle=-45, tickfont=dict(size=10), nticks=8, ticks='outside', showgrid=False, showticklabels=True, title_standoff=40)\n",
    "    try:\n",
    "        x0 = df_btc.index.min()\n",
    "        x1 = df_btc.index.max()\n",
    "        fig.update_xaxes(range=[x0, x1], title_text='Time', **date_xargs, row=1, col=1)\n",
    "    except Exception:\n",
    "        # Fallback: still apply formatting without range\n",
    "        fig.update_xaxes(title_text='Time', **date_xargs, row=1, col=1)\n",
    "\n",
    "    # Affichage simple\n",
    "    try:\n",
    "        fig.show(renderer='vscode')\n",
    "    except Exception as e:\n",
    "        print(\"Erreur: impossible d'afficher la figure avec le renderer 'vscode'.\")\n",
    "        print(\"Détail: \", str(e))\n"
   ]
  }
 ],
 "metadata": {
  "kernelspec": {
   "display_name": "venv",
   "language": "python",
   "name": "python3"
  },
  "language_info": {
   "codemirror_mode": {
    "name": "ipython",
    "version": 3
   },
   "file_extension": ".py",
   "mimetype": "text/x-python",
   "name": "python",
   "nbconvert_exporter": "python",
   "pygments_lexer": "ipython3",
   "version": "3.13.5"
  }
 },
 "nbformat": 4,
 "nbformat_minor": 4
}
