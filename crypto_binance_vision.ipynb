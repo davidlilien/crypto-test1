{
 "cells": [
  {
   "cell_type": "markdown",
   "metadata": {},
   "source": [
    "# Analyse Cryptomonnaie avec Binance Vision\n",
    "\n",
    "Ce notebook utilise Binance Vision pour télécharger de gros datasets historiques de cryptomonnaies."
   ]
  },
  {
   "cell_type": "code",
   "execution_count": 33,
   "metadata": {},
   "outputs": [
    {
     "name": "stdout",
     "output_type": "stream",
     "text": [
      "Configuration:\n",
      "- Symbole: BTCUSDT\n",
      "- Durée d'analyse: 2 jours\n",
      "- Intervalle: 1h\n",
      "- Date de fin: 2025-01-01\n",
      "- Source: Binance Vision (données historiques)\n",
      "\n"
     ]
    }
   ],
   "source": [
    "# PARAMÈTRES DE CONFIGURATION\n",
    "\n",
    "# Durée d'analyse (en jours) - Binance Vision est optimisé pour de grandes périodes\n",
    "DUREE_JOURS = 2\n",
    "\n",
    "# Intervalle des données\n",
    "# Options: 1s, 1m, 3m, 5m, 15m, 30m, 1h, 2h, 4h, 6h, 8h, 12h, 1d, 3d, 1w, 1M\n",
    "INTERVAL = '1h'\n",
    "\n",
    "# Symbole à analyser\n",
    "SYMBOL = 'BTCUSDT'\n",
    "\n",
    "# Date de fin (format YYYY-MM-DD) — par défaut aujourd'hui\n",
    "from datetime import datetime\n",
    "END_DATE = \"2025-01-01\"\n",
    "\n",
    "if END_DATE == None:\n",
    "  END_DATE = datetime.now().strftime('%Y-%m-%d')\n",
    "\n",
    "print(f\"Configuration:\")\n",
    "print(f\"- Symbole: {SYMBOL}\")\n",
    "print(f\"- Durée d'analyse: {DUREE_JOURS} jours\")\n",
    "print(f\"- Intervalle: {INTERVAL}\")\n",
    "print(f\"- Date de fin: {END_DATE}\")\n",
    "print(f\"- Source: Binance Vision (données historiques)\")\n",
    "print()"
   ]
  },
  {
   "cell_type": "code",
   "execution_count": 34,
   "metadata": {},
   "outputs": [
    {
     "name": "stdout",
     "output_type": "stream",
     "text": [
      "Fonctions chargées avec succès.\n"
     ]
    }
   ],
   "source": [
    "# IMPORTS ET FONCTIONS\n",
    "\n",
    "import pandas as pd\n",
    "import requests\n",
    "from datetime import datetime, timedelta\n",
    "import time\n",
    "import os\n",
    "import zipfile\n",
    "from io import BytesIO\n",
    "import warnings\n",
    "warnings.filterwarnings('ignore')\n",
    "\n",
    "def download_binance_vision_data(symbol=SYMBOL, interval=INTERVAL, days_back=DUREE_JOURS, end_date_str=None):\n",
    "    \"\"\"\n",
    "    Télécharge les données historiques depuis Binance Vision pour de gros datasets.\n",
    "    Cette version parallélise les téléchargements journaliers avec ThreadPoolExecutor\n",
    "    pour accélérer la récupération tout en conservant les logs et la robustesse.\n",
    "\n",
    "    Paramètres:\n",
    "    - symbol, interval, days_back: inchangés\n",
    "    - end_date_str: optionnel, chaîne 'YYYY-MM-DD'. Si fournie, la fenêtre de téléchargement\n",
    "      sera calculée depuis cette date (inclusive) vers l'arrière `days_back` jours.\n",
    "      Si None, on utilise la valeur globale `END_DATE` si définie, sinon la date courante.\n",
    "    \"\"\"\n",
    "    # Résolution de la date de fin\n",
    "    if end_date_str is None:\n",
    "        try:\n",
    "            end_date_str = END_DATE  # variable globale définie dans la cellule de config\n",
    "        except NameError:\n",
    "            end_date_str = None\n",
    "\n",
    "    if end_date_str:\n",
    "        try:\n",
    "            end_date = datetime.strptime(end_date_str, '%Y-%m-%d')\n",
    "        except Exception:\n",
    "            print(f\"Format END_DATE invalide: {end_date_str}. Utilisation de datetime.now().\")\n",
    "            end_date = datetime.now()\n",
    "    else:\n",
    "        end_date = datetime.now()\n",
    "\n",
    "    print(f\"Utilisation de Binance Vision pour télécharger {symbol} - {interval}\")\n",
    "    print(f\"Période: {days_back} jours (fin: {end_date.strftime('%Y-%m-%d')})\")\n",
    "    print()\n",
    "\n",
    "    # Calculer la date de début\n",
    "    start_date = end_date - timedelta(days=days_back)\n",
    "\n",
    "    # Construire la liste des dates à télécharger\n",
    "    dates = []\n",
    "    current_date = start_date\n",
    "    while current_date <= end_date:\n",
    "        dates.append(current_date.strftime('%Y-%m-%d'))\n",
    "        current_date += timedelta(days=1)\n",
    "\n",
    "    all_data = []\n",
    "    success_count = 0\n",
    "    total_periods = 0\n",
    "\n",
    "    from concurrent.futures import ThreadPoolExecutor, as_completed\n",
    "\n",
    "    def fetch_for_date(date_str):\n",
    "        \"\"\"Télécharge et retourne un tuple (date_str, df_day or None, error_message or None, periods_count)\"\"\"\n",
    "        url = f\"https://data.binance.vision/data/spot/daily/klines/{symbol}/{interval}/{symbol}-{interval}-{date_str}.zip\"\n",
    "        try:\n",
    "            # Petite trace locale (renvoyée pour agrégation)\n",
    "            resp = requests.get(url, timeout=30)\n",
    "            if resp.status_code == 200:\n",
    "                with zipfile.ZipFile(BytesIO(resp.content)) as zip_file:\n",
    "                    csv_filename = f\"{symbol}-{interval}-{date_str}.csv\"\n",
    "                    if csv_filename in zip_file.namelist():\n",
    "                        csv_content = zip_file.read(csv_filename)\n",
    "                        df_day = pd.read_csv(BytesIO(csv_content), header=None, names=[\n",
    "                            'timestamp', 'open', 'high', 'low', 'close', 'volume',\n",
    "                            'close_time', 'quote_asset_volume', 'number_of_trades',\n",
    "                            'taker_buy_base_asset_volume', 'taker_buy_quote_asset_volume', 'ignore'\n",
    "                        ])\n",
    "                        return (date_str, df_day, None, len(df_day))\n",
    "                    else:\n",
    "                        return (date_str, None, 'CSV not found in ZIP', 0)\n",
    "            else:\n",
    "                return (date_str, None, f'HTTP {resp.status_code}', 0)\n",
    "        except requests.exceptions.RequestException:\n",
    "            return (date_str, None, 'Network error', 0)\n",
    "        except zipfile.BadZipFile:\n",
    "            return (date_str, None, 'Bad ZIP', 0)\n",
    "        except Exception as e:\n",
    "            return (date_str, None, str(e)[:200], 0)\n",
    "\n",
    "    # Paramètres de parallélisme: limiter le nombre de threads raisonnablement\n",
    "    max_workers = min(12, max(4, len(dates)))\n",
    "\n",
    "    print(f\"Lancement des téléchargements en parallèle ({len(dates)} jours, up to {max_workers} workers)\")\n",
    "\n",
    "    with ThreadPoolExecutor(max_workers=max_workers) as exe:\n",
    "        future_to_date = {exe.submit(fetch_for_date, d): d for d in dates}\n",
    "        for fut in as_completed(future_to_date):\n",
    "            date_str = future_to_date[fut]\n",
    "            print(f\"Téléchargement: {date_str}\", end=\" \")\n",
    "            try:\n",
    "                d, df_day, err, periods = fut.result()\n",
    "                if df_day is not None:\n",
    "                    # --- Normalisation des timestamps: uniformiser en microsecondes (us) ---\n",
    "                    try:\n",
    "                        # S'assurer que la colonne 'timestamp' existe et est numérique\n",
    "                        if 'timestamp' not in df_day.columns:\n",
    "                            # si les colonnes sont indexées numériquement, la première colonne est le timestamp\n",
    "                            df_day.rename(columns={0: 'timestamp'}, inplace=True)\n",
    "                        df_day['timestamp'] = pd.to_numeric(df_day['timestamp'], errors='coerce')\n",
    "                    except Exception:\n",
    "                        pass\n",
    "\n",
    "                    try:\n",
    "                        # Détecter les timestamps inférieurs au seuil (2025-01-01)\n",
    "                        threshold_dt = datetime(2025, 1, 1)\n",
    "                        # Seuil en millisecondes correspondant à 2025-01-01\n",
    "                        threshold_ms = int(threshold_dt.timestamp() * 1000)\n",
    "\n",
    "                        # Heuristique: si la majorité des timestamps sont < threshold_ms*10, ils sont probablement en ms\n",
    "                        max_ts = pd.to_numeric(df_day['timestamp'], errors='coerce').max()\n",
    "                        if pd.notna(max_ts):\n",
    "                            # Si le maximum observé est inférieur à threshold_ms * 10, on suppose que les valeurs sont en ms\n",
    "                            if max_ts < threshold_ms * 10:\n",
    "                                mask_ms = pd.to_numeric(df_day['timestamp'], errors='coerce') < (threshold_ms * 10)\n",
    "                                if mask_ms.any():\n",
    "                                    df_day.loc[mask_ms, 'timestamp'] = pd.to_numeric(df_day.loc[mask_ms, 'timestamp'], errors='coerce') * 1000\n",
    "                                    print(f\"✓ Normalisation timestamps: {mask_ms.sum()} valeurs multipliées par 1000 (ms -> us)\")\n",
    "                    except Exception as e:\n",
    "                        print(f\"⚠ Erreur lors de la normalisation des timestamps: {e}\")\n",
    "\n",
    "                    all_data.append(df_day)\n",
    "                    success_count += 1\n",
    "                    total_periods += periods\n",
    "                    print(f\"✓ ({periods} périodes)\")\n",
    "                else:\n",
    "                    print(f\"⚠ {err}\")\n",
    "            except Exception as e:\n",
    "                print(f\"✗ Erreur: {str(e)[:80]}\")\n",
    "\n",
    "    # Petit délai global pour rester poli si nécessaire\n",
    "    time.sleep(0.1)\n",
    "\n",
    "    print(f\"\\nRésumé du téléchargement:\")\n",
    "    print(f\"- Jours avec succès: {success_count}/{len(dates)}\")\n",
    "    print(f\"- Total des périodes: {total_periods}\")\n",
    "\n",
    "    if all_data:\n",
    "        # Combiner toutes les données\n",
    "        combined_df = pd.concat(all_data, ignore_index=True)\n",
    "        return combined_df.to_dict('records')\n",
    "    else:\n",
    "        print(\"Aucune donnée récupérée via Binance Vision\")\n",
    "        return []\n",
    "\n",
    "\n",
    "def create_dataframe(data, symbol_name):\n",
    "    if not data:\n",
    "        print(f\"Aucune donnée disponible pour {symbol_name}\")\n",
    "        return pd.DataFrame()\n",
    "        \n",
    "    df = pd.DataFrame(data, columns=[\n",
    "        'timestamp', 'open', 'high', 'low', 'close', 'volume',\n",
    "        'close_time', 'quote_asset_volume', 'number_of_trades',\n",
    "        'taker_buy_base_asset_volume', 'taker_buy_quote_asset_volume', 'ignore'\n",
    "    ])\n",
    "    \n",
    "    # Conversion des types\n",
    "    for col in ['open', 'high', 'low', 'close', 'volume']:\n",
    "        df[col] = df[col].astype(float)\n",
    "    \n",
    "    # Gestion des timestamps - Binance Vision utilise différents formats\n",
    "    print(\"Conversion des timestamps...\")\n",
    "    timestamp_converted = False\n",
    "    \n",
    "    # Vérifier le format des timestamps en examinant quelques valeurs\n",
    "    sample_timestamps = df['timestamp'].head(3).astype(str)\n",
    "    print(f\"Échantillon de timestamps: {list(sample_timestamps)}\")\n",
    "    \n",
    "    try:\n",
    "        # Essai avec microsecondes (format attendu après normalisation)\n",
    "        df['timestamp'] = pd.to_datetime(df['timestamp'], unit='us')\n",
    "        timestamp_converted = True\n",
    "        print(\"✓ Timestamps convertis depuis microsecondes\")\n",
    "    except (ValueError, pd.errors.OutOfBoundsDatetime, OverflowError):\n",
    "        try:\n",
    "            # Essai avec millisecondes (fallback)\n",
    "            print(\"⚠ Tentative conversion depuis millisecondes...\")\n",
    "            df['timestamp'] = pd.to_datetime(df['timestamp'], unit='ms')\n",
    "            timestamp_converted = True\n",
    "            print(\"✓ Timestamps convertis depuis millisecondes\")\n",
    "        except (ValueError, pd.errors.OutOfBoundsDatetime, OverflowError):\n",
    "            try:\n",
    "                # Essai avec secondes\n",
    "                print(\"⚠ Tentative conversion depuis secondes...\")\n",
    "                df['timestamp'] = pd.to_datetime(df['timestamp'], unit='s')\n",
    "                timestamp_converted = True\n",
    "                print(\"✓ Timestamps convertis depuis secondes\")\n",
    "            except (ValueError, pd.errors.OutOfBoundsDatetime, OverflowError):\n",
    "                try:\n",
    "                    # Si les valeurs sont trop grandes, diviser par 1000000 (microsecondes vers secondes)\n",
    "                    print(\"⚠ Tentative correction des timestamps (division par 1M)...\")\n",
    "                    df['timestamp'] = pd.to_datetime(df['timestamp'] / 1000000, unit='s')\n",
    "                    timestamp_converted = True\n",
    "                    print(\"✓ Timestamps corrigés et convertis\")\n",
    "                except (ValueError, pd.errors.OutOfBoundsDatetime, OverflowError):\n",
    "                    print(\"✗ Impossible de convertir les timestamps\")\n",
    "\n",
    "    if not timestamp_converted:\n",
    "        print(f\"✗ Erreur: Impossible de traiter les timestamps pour {symbol_name}\")\n",
    "        return pd.DataFrame()\n",
    "    \n",
    "    # Vérifier la plausibilité des dates\n",
    "    min_date = df['timestamp'].min()\n",
    "    max_date = df['timestamp'].max()\n",
    "    \n",
    "    if min_date.year < 2009 or max_date.year > 2030:\n",
    "        print(f\"⚠ Dates suspectes détectées: {min_date} à {max_date}\")\n",
    "    \n",
    "    df.set_index('timestamp', inplace=True)\n",
    "    \n",
    "    # Supprimer les doublons et trier\n",
    "    df = df[~df.index.duplicated(keep='first')].sort_index()\n",
    "    \n",
    "    # Affichage des informations adaptées à l'intervalle\n",
    "    if len(df) > 0:\n",
    "        print(f\"\\nDonnées {symbol_name} traitées:\")\n",
    "        print(f\"Période: {df.index.min().strftime('%Y-%m-%d %H:%M')} à {df.index.max().strftime('%Y-%m-%d %H:%M')}\")\n",
    "        print(f\"Nombre de périodes ({INTERVAL}): {len(df):,}\")\n",
    "        \n",
    "        # Calculs selon l'intervalle\n",
    "        if INTERVAL.endswith('s'):\n",
    "            seconds_per_period = int(INTERVAL[:-1])\n",
    "            minutes = len(df) * seconds_per_period / 60\n",
    "            hours = minutes / 60\n",
    "            days = hours / 24\n",
    "            print(f\"Équivalent: {minutes:,.0f} minutes, {hours:,.1f} heures, {days:.1f} jours\")\n",
    "        elif INTERVAL.endswith('m'):\n",
    "            minutes_per_period = int(INTERVAL[:-1])\n",
    "            hours = len(df) * minutes_per_period / 60\n",
    "            days = hours / 24\n",
    "            print(f\"Équivalent: {hours:,.1f} heures, {days:.1f} jours\")\n",
    "        elif INTERVAL.endswith('h'):\n",
    "            hours_per_period = int(INTERVAL[:-1])\n",
    "            hours = len(df) * hours_per_period\n",
    "            days = hours / 24\n",
    "            print(f\"Équivalent: {hours:,.1f} heures, {days:.1f} jours\")\n",
    "        elif INTERVAL == '1d':\n",
    "            print(f\"Équivalent: {len(df)} jours\")\n",
    "        \n",
    "        print(f\"Prix minimum: ${df['low'].min():.2f}\")\n",
    "        print(f\"Prix maximum: ${df['high'].max():.2f}\")\n",
    "        print(f\"Volume total: {df['volume'].sum():,.2f} {symbol_name.replace('USDT', '')}\")\n",
    "    \n",
    "    return df\n",
    "\n",
    "print(\"Fonctions chargées avec succès.\")"
   ]
  },
  {
   "cell_type": "code",
   "execution_count": 35,
   "metadata": {},
   "outputs": [
    {
     "name": "stdout",
     "output_type": "stream",
     "text": [
      "=== Récupération BTCUSDT via Binance Vision ===\n",
      "\n",
      "Utilisation de Binance Vision pour télécharger BTCUSDT - 1h\n",
      "Période: 2 jours (fin: 2025-01-01)\n",
      "\n",
      "Lancement des téléchargements en parallèle (3 jours, up to 4 workers)\n",
      "Téléchargement: 2024-12-31 ✓ Normalisation timestamps: 24 valeurs multipliées par 1000 (ms -> us)\n",
      "✓ (24 périodes)\n",
      "Téléchargement: 2024-12-30 ✓ Normalisation timestamps: 24 valeurs multipliées par 1000 (ms -> us)\n",
      "✓ (24 périodes)\n",
      "Téléchargement: 2025-01-01 ✓ (24 périodes)\n",
      "\n",
      "Résumé du téléchargement:\n",
      "- Jours avec succès: 3/3\n",
      "- Total des périodes: 72\n",
      "Conversion des timestamps...\n",
      "Échantillon de timestamps: ['1735603200000000', '1735606800000000', '1735610400000000']\n",
      "✓ Timestamps convertis depuis microsecondes\n",
      "\n",
      "Données BTCUSDT traitées:\n",
      "Période: 2024-12-30 00:00 à 2025-01-01 23:00\n",
      "Nombre de périodes (1h): 72\n",
      "Équivalent: 72.0 heures, 3.0 jours\n",
      "Prix minimum: $91530.45\n",
      "Prix maximum: $96250.00\n",
      "Volume total: 57,604.78 BTC\n",
      "\n",
      "Premières lignes BTCUSDT (intervalle 1h):\n",
      "                         open      high       low     close      volume  \\\n",
      "timestamp                                                                 \n",
      "2024-12-30 00:00:00  93738.19  93908.24  93500.00  93583.96   575.76998   \n",
      "2024-12-30 01:00:00  93583.96  94274.29  93368.93  93948.42  1152.47209   \n",
      "2024-12-30 02:00:00  93948.41  93973.61  93413.72  93906.41   767.45195   \n",
      "2024-12-30 03:00:00  93906.41  94080.00  93639.87  93722.71   402.93622   \n",
      "2024-12-30 04:00:00  93722.72  93979.45  93264.14  93280.26   563.78609   \n",
      "\n",
      "                        close_time  quote_asset_volume  number_of_trades  \\\n",
      "timestamp                                                                  \n",
      "2024-12-30 00:00:00  1735520399999        5.392065e+07            233984   \n",
      "2024-12-30 01:00:00  1735523999999        1.080514e+08            304680   \n",
      "2024-12-30 02:00:00  1735527599999        7.187391e+07            211542   \n",
      "2024-12-30 03:00:00  1735531199999        3.782605e+07            131417   \n",
      "2024-12-30 04:00:00  1735534799999        5.277304e+07            158805   \n",
      "\n",
      "                     taker_buy_base_asset_volume  \\\n",
      "timestamp                                          \n",
      "2024-12-30 00:00:00                    282.22693   \n",
      "2024-12-30 01:00:00                    593.42738   \n",
      "2024-12-30 02:00:00                    383.20947   \n",
      "2024-12-30 03:00:00                    178.44192   \n",
      "2024-12-30 04:00:00                    254.79091   \n",
      "\n",
      "                     taker_buy_quote_asset_volume  ignore  \n",
      "timestamp                                                  \n",
      "2024-12-30 00:00:00                  2.643290e+07       0  \n",
      "2024-12-30 01:00:00                  5.564789e+07       0  \n",
      "2024-12-30 02:00:00                  3.588932e+07       0  \n",
      "2024-12-30 03:00:00                  1.675352e+07       0  \n",
      "2024-12-30 04:00:00                  2.386642e+07       0  \n",
      "\n",
      "Dernières lignes:\n",
      "                         open      high       low     close     volume  \\\n",
      "timestamp                                                                \n",
      "2025-01-01 19:00:00  94340.06  94823.75  94148.34  94627.07  545.12372   \n",
      "2025-01-01 20:00:00  94627.08  94852.70  94579.83  94786.23  424.42468   \n",
      "2025-01-01 21:00:00  94786.23  95151.15  94687.87  94978.48  636.81156   \n",
      "2025-01-01 22:00:00  94978.48  94997.32  94685.81  94802.98  409.77402   \n",
      "2025-01-01 23:00:00  94802.99  94952.29  94542.00  94591.79  436.90784   \n",
      "\n",
      "                           close_time  quote_asset_volume  number_of_trades  \\\n",
      "timestamp                                                                     \n",
      "2025-01-01 19:00:00  1735761599999999        5.150289e+07             85002   \n",
      "2025-01-01 20:00:00  1735765199999999        4.021011e+07             59241   \n",
      "2025-01-01 21:00:00  1735768799999999        6.042524e+07             85265   \n",
      "2025-01-01 22:00:00  1735772399999999        3.885635e+07             49494   \n",
      "2025-01-01 23:00:00  1735775999999999        4.137695e+07             68059   \n",
      "\n",
      "                     taker_buy_base_asset_volume  \\\n",
      "timestamp                                          \n",
      "2025-01-01 19:00:00                    269.56099   \n",
      "2025-01-01 20:00:00                    191.94445   \n",
      "2025-01-01 21:00:00                    363.03885   \n",
      "2025-01-01 22:00:00                    186.53449   \n",
      "2025-01-01 23:00:00                    200.46010   \n",
      "\n",
      "                     taker_buy_quote_asset_volume  ignore  \n",
      "timestamp                                                  \n",
      "2025-01-01 19:00:00                  2.547306e+07       0  \n",
      "2025-01-01 20:00:00                  1.818626e+07       0  \n",
      "2025-01-01 21:00:00                  3.445008e+07       0  \n",
      "2025-01-01 22:00:00                  1.768734e+07       0  \n",
      "2025-01-01 23:00:00                  1.898329e+07       0  \n",
      "Téléchargement: 2024-12-31 ✓ Normalisation timestamps: 24 valeurs multipliées par 1000 (ms -> us)\n",
      "✓ (24 périodes)\n",
      "Téléchargement: 2024-12-30 ✓ Normalisation timestamps: 24 valeurs multipliées par 1000 (ms -> us)\n",
      "✓ (24 périodes)\n",
      "Téléchargement: 2025-01-01 ✓ (24 périodes)\n",
      "\n",
      "Résumé du téléchargement:\n",
      "- Jours avec succès: 3/3\n",
      "- Total des périodes: 72\n",
      "Conversion des timestamps...\n",
      "Échantillon de timestamps: ['1735603200000000', '1735606800000000', '1735610400000000']\n",
      "✓ Timestamps convertis depuis microsecondes\n",
      "\n",
      "Données BTCUSDT traitées:\n",
      "Période: 2024-12-30 00:00 à 2025-01-01 23:00\n",
      "Nombre de périodes (1h): 72\n",
      "Équivalent: 72.0 heures, 3.0 jours\n",
      "Prix minimum: $91530.45\n",
      "Prix maximum: $96250.00\n",
      "Volume total: 57,604.78 BTC\n",
      "\n",
      "Premières lignes BTCUSDT (intervalle 1h):\n",
      "                         open      high       low     close      volume  \\\n",
      "timestamp                                                                 \n",
      "2024-12-30 00:00:00  93738.19  93908.24  93500.00  93583.96   575.76998   \n",
      "2024-12-30 01:00:00  93583.96  94274.29  93368.93  93948.42  1152.47209   \n",
      "2024-12-30 02:00:00  93948.41  93973.61  93413.72  93906.41   767.45195   \n",
      "2024-12-30 03:00:00  93906.41  94080.00  93639.87  93722.71   402.93622   \n",
      "2024-12-30 04:00:00  93722.72  93979.45  93264.14  93280.26   563.78609   \n",
      "\n",
      "                        close_time  quote_asset_volume  number_of_trades  \\\n",
      "timestamp                                                                  \n",
      "2024-12-30 00:00:00  1735520399999        5.392065e+07            233984   \n",
      "2024-12-30 01:00:00  1735523999999        1.080514e+08            304680   \n",
      "2024-12-30 02:00:00  1735527599999        7.187391e+07            211542   \n",
      "2024-12-30 03:00:00  1735531199999        3.782605e+07            131417   \n",
      "2024-12-30 04:00:00  1735534799999        5.277304e+07            158805   \n",
      "\n",
      "                     taker_buy_base_asset_volume  \\\n",
      "timestamp                                          \n",
      "2024-12-30 00:00:00                    282.22693   \n",
      "2024-12-30 01:00:00                    593.42738   \n",
      "2024-12-30 02:00:00                    383.20947   \n",
      "2024-12-30 03:00:00                    178.44192   \n",
      "2024-12-30 04:00:00                    254.79091   \n",
      "\n",
      "                     taker_buy_quote_asset_volume  ignore  \n",
      "timestamp                                                  \n",
      "2024-12-30 00:00:00                  2.643290e+07       0  \n",
      "2024-12-30 01:00:00                  5.564789e+07       0  \n",
      "2024-12-30 02:00:00                  3.588932e+07       0  \n",
      "2024-12-30 03:00:00                  1.675352e+07       0  \n",
      "2024-12-30 04:00:00                  2.386642e+07       0  \n",
      "\n",
      "Dernières lignes:\n",
      "                         open      high       low     close     volume  \\\n",
      "timestamp                                                                \n",
      "2025-01-01 19:00:00  94340.06  94823.75  94148.34  94627.07  545.12372   \n",
      "2025-01-01 20:00:00  94627.08  94852.70  94579.83  94786.23  424.42468   \n",
      "2025-01-01 21:00:00  94786.23  95151.15  94687.87  94978.48  636.81156   \n",
      "2025-01-01 22:00:00  94978.48  94997.32  94685.81  94802.98  409.77402   \n",
      "2025-01-01 23:00:00  94802.99  94952.29  94542.00  94591.79  436.90784   \n",
      "\n",
      "                           close_time  quote_asset_volume  number_of_trades  \\\n",
      "timestamp                                                                     \n",
      "2025-01-01 19:00:00  1735761599999999        5.150289e+07             85002   \n",
      "2025-01-01 20:00:00  1735765199999999        4.021011e+07             59241   \n",
      "2025-01-01 21:00:00  1735768799999999        6.042524e+07             85265   \n",
      "2025-01-01 22:00:00  1735772399999999        3.885635e+07             49494   \n",
      "2025-01-01 23:00:00  1735775999999999        4.137695e+07             68059   \n",
      "\n",
      "                     taker_buy_base_asset_volume  \\\n",
      "timestamp                                          \n",
      "2025-01-01 19:00:00                    269.56099   \n",
      "2025-01-01 20:00:00                    191.94445   \n",
      "2025-01-01 21:00:00                    363.03885   \n",
      "2025-01-01 22:00:00                    186.53449   \n",
      "2025-01-01 23:00:00                    200.46010   \n",
      "\n",
      "                     taker_buy_quote_asset_volume  ignore  \n",
      "timestamp                                                  \n",
      "2025-01-01 19:00:00                  2.547306e+07       0  \n",
      "2025-01-01 20:00:00                  1.818626e+07       0  \n",
      "2025-01-01 21:00:00                  3.445008e+07       0  \n",
      "2025-01-01 22:00:00                  1.768734e+07       0  \n",
      "2025-01-01 23:00:00                  1.898329e+07       0  \n"
     ]
    }
   ],
   "source": [
    "# TÉLÉCHARGEMENT DES DONNÉES\n",
    "\n",
    "print(f\"=== Récupération {SYMBOL} via Binance Vision ===\\n\")\n",
    "\n",
    "# Téléchargement des données\n",
    "btc_data = download_binance_vision_data(SYMBOL, INTERVAL, DUREE_JOURS)\n",
    "\n",
    "# Création du DataFrame\n",
    "df_btc = create_dataframe(btc_data, SYMBOL)\n",
    "\n",
    "if len(df_btc) > 0:\n",
    "    print(f\"\\nPremières lignes {SYMBOL} (intervalle {INTERVAL}):\")\n",
    "    print(df_btc.head())\n",
    "    \n",
    "    print(f\"\\nDernières lignes:\")\n",
    "    print(df_btc.tail())\n",
    "else:\n",
    "    print(f\"\\n⚠ Aucune donnée disponible pour {SYMBOL}\")\n",
    "    print(\"Suggestions:\")\n",
    "    print(\"- Vérifiez que le symbole est correct (ex: BTCUSDT, ETHUSDT)\")\n",
    "    print(\"- Essayez avec une période plus récente\")\n",
    "    print(\"- Certains intervalles peuvent ne pas être disponibles pour toutes les dates\")"
   ]
  },
  {
   "cell_type": "code",
   "execution_count": 36,
   "metadata": {},
   "outputs": [
    {
     "data": {
      "application/vnd.plotly.v1+json": {
       "config": {
        "plotlyServerURL": "https://plot.ly"
       },
       "data": [
        {
         "line": {
          "color": "#00c851",
          "width": 1
         },
         "mode": "lines",
         "name": "BTCUSDT Close",
         "type": "scatter",
         "x": [
          "2024-12-30T00:00:00.000000000",
          "2024-12-30T01:00:00.000000000",
          "2024-12-30T02:00:00.000000000",
          "2024-12-30T03:00:00.000000000",
          "2024-12-30T04:00:00.000000000",
          "2024-12-30T05:00:00.000000000",
          "2024-12-30T06:00:00.000000000",
          "2024-12-30T07:00:00.000000000",
          "2024-12-30T08:00:00.000000000",
          "2024-12-30T09:00:00.000000000",
          "2024-12-30T10:00:00.000000000",
          "2024-12-30T11:00:00.000000000",
          "2024-12-30T12:00:00.000000000",
          "2024-12-30T13:00:00.000000000",
          "2024-12-30T14:00:00.000000000",
          "2024-12-30T15:00:00.000000000",
          "2024-12-30T16:00:00.000000000",
          "2024-12-30T17:00:00.000000000",
          "2024-12-30T18:00:00.000000000",
          "2024-12-30T19:00:00.000000000",
          "2024-12-30T20:00:00.000000000",
          "2024-12-30T21:00:00.000000000",
          "2024-12-30T22:00:00.000000000",
          "2024-12-30T23:00:00.000000000",
          "2024-12-31T00:00:00.000000000",
          "2024-12-31T01:00:00.000000000",
          "2024-12-31T02:00:00.000000000",
          "2024-12-31T03:00:00.000000000",
          "2024-12-31T04:00:00.000000000",
          "2024-12-31T05:00:00.000000000",
          "2024-12-31T06:00:00.000000000",
          "2024-12-31T07:00:00.000000000",
          "2024-12-31T08:00:00.000000000",
          "2024-12-31T09:00:00.000000000",
          "2024-12-31T10:00:00.000000000",
          "2024-12-31T11:00:00.000000000",
          "2024-12-31T12:00:00.000000000",
          "2024-12-31T13:00:00.000000000",
          "2024-12-31T14:00:00.000000000",
          "2024-12-31T15:00:00.000000000",
          "2024-12-31T16:00:00.000000000",
          "2024-12-31T17:00:00.000000000",
          "2024-12-31T18:00:00.000000000",
          "2024-12-31T19:00:00.000000000",
          "2024-12-31T20:00:00.000000000",
          "2024-12-31T21:00:00.000000000",
          "2024-12-31T22:00:00.000000000",
          "2024-12-31T23:00:00.000000000",
          "2025-01-01T00:00:00.000000000",
          "2025-01-01T01:00:00.000000000",
          "2025-01-01T02:00:00.000000000",
          "2025-01-01T03:00:00.000000000",
          "2025-01-01T04:00:00.000000000",
          "2025-01-01T05:00:00.000000000",
          "2025-01-01T06:00:00.000000000",
          "2025-01-01T07:00:00.000000000",
          "2025-01-01T08:00:00.000000000",
          "2025-01-01T09:00:00.000000000",
          "2025-01-01T10:00:00.000000000",
          "2025-01-01T11:00:00.000000000",
          "2025-01-01T12:00:00.000000000",
          "2025-01-01T13:00:00.000000000",
          "2025-01-01T14:00:00.000000000",
          "2025-01-01T15:00:00.000000000",
          "2025-01-01T16:00:00.000000000",
          "2025-01-01T17:00:00.000000000",
          "2025-01-01T18:00:00.000000000",
          "2025-01-01T19:00:00.000000000",
          "2025-01-01T20:00:00.000000000",
          "2025-01-01T21:00:00.000000000",
          "2025-01-01T22:00:00.000000000",
          "2025-01-01T23:00:00.000000000"
         ],
         "xaxis": "x",
         "y": {
          "bdata": "w/UoXP/Y9kCF61G4xu/2QPYoXI8m7fZAw/UoXKvh9kCPwvUoBMb2QK5H4XrY2PZAPQrXo9Ts9kBmZmZmOuL2QClcj8Kx6fZAmpmZmUXs9kAfhetRFOb2QNejcD0y7vZApHA9Cmvj9kAfhetRiKD2QHE9Cte/bvZAw/UoXCN+9kCamZmZiX32QHsUrkeN6PZAcT0K138X90A9CtejEA33QM3MzMwsCPdAAAAAAMB69kAAAAAADKf2QM3MzMyAp/ZAAAAAACCS9kDsUbgeOZH2QJqZmZnFk/ZACtejcNmV9kAAAAAAAJL2QHsUrkdBm/ZAAAAAAACp9kAAAAAAzKv2QEjhehTW7vZASOF6FH709kCkcD0KG/r2QBSuR+GKAfdAmpmZmb0U90C4HoXrMVb3QIXrUbjyW/dAAAAAAEBL90CF61G4Rin3QKRwPQqP+vZAFK5H4Trr9kBI4XoUbv32QD0K16PA1/ZAFK5H4brs9kAK16NwDdP2QAAAAACA2PZA16NwPRIM90BxPQrXe9r2QPYoXI8u+fZAPQrXo+Do9kD2KFyPHtf2QB+F61EA5vZAexSuR9nj9kCamZmZQd/2QMP1KFxHz/ZAXI/C9VDO9kDhehSu48j2QNejcD1K0PZAj8L1KMzn9kCPwvUo/PT2QNejcD3+/fZApHA9Cg8O90BxPQrXp/j2QJqZmZn9+/ZAXI/C9UAI90DsUbgeMRr3QOF6FK4jJPdA4XoUricw90DhehSuLyX3QD0K16P8F/dA",
          "dtype": "f8"
         },
         "yaxis": "y"
        },
        {
         "line": {
          "color": "blue",
          "width": 1
         },
         "mode": "lines",
         "name": "MA 5 (shifted)",
         "type": "scatter",
         "x": [
          "2024-12-30T00:00:00.000000000",
          "2024-12-30T01:00:00.000000000",
          "2024-12-30T02:00:00.000000000",
          "2024-12-30T03:00:00.000000000",
          "2024-12-30T04:00:00.000000000",
          "2024-12-30T05:00:00.000000000",
          "2024-12-30T06:00:00.000000000",
          "2024-12-30T07:00:00.000000000",
          "2024-12-30T08:00:00.000000000",
          "2024-12-30T09:00:00.000000000",
          "2024-12-30T10:00:00.000000000",
          "2024-12-30T11:00:00.000000000",
          "2024-12-30T12:00:00.000000000",
          "2024-12-30T13:00:00.000000000",
          "2024-12-30T14:00:00.000000000",
          "2024-12-30T15:00:00.000000000",
          "2024-12-30T16:00:00.000000000",
          "2024-12-30T17:00:00.000000000",
          "2024-12-30T18:00:00.000000000",
          "2024-12-30T19:00:00.000000000",
          "2024-12-30T20:00:00.000000000",
          "2024-12-30T21:00:00.000000000",
          "2024-12-30T22:00:00.000000000",
          "2024-12-30T23:00:00.000000000",
          "2024-12-31T00:00:00.000000000",
          "2024-12-31T01:00:00.000000000",
          "2024-12-31T02:00:00.000000000",
          "2024-12-31T03:00:00.000000000",
          "2024-12-31T04:00:00.000000000",
          "2024-12-31T05:00:00.000000000",
          "2024-12-31T06:00:00.000000000",
          "2024-12-31T07:00:00.000000000",
          "2024-12-31T08:00:00.000000000",
          "2024-12-31T09:00:00.000000000",
          "2024-12-31T10:00:00.000000000",
          "2024-12-31T11:00:00.000000000",
          "2024-12-31T12:00:00.000000000",
          "2024-12-31T13:00:00.000000000",
          "2024-12-31T14:00:00.000000000",
          "2024-12-31T15:00:00.000000000",
          "2024-12-31T16:00:00.000000000",
          "2024-12-31T17:00:00.000000000",
          "2024-12-31T18:00:00.000000000",
          "2024-12-31T19:00:00.000000000",
          "2024-12-31T20:00:00.000000000",
          "2024-12-31T21:00:00.000000000",
          "2024-12-31T22:00:00.000000000",
          "2024-12-31T23:00:00.000000000",
          "2025-01-01T00:00:00.000000000",
          "2025-01-01T01:00:00.000000000",
          "2025-01-01T02:00:00.000000000",
          "2025-01-01T03:00:00.000000000",
          "2025-01-01T04:00:00.000000000",
          "2025-01-01T05:00:00.000000000",
          "2025-01-01T06:00:00.000000000",
          "2025-01-01T07:00:00.000000000",
          "2025-01-01T08:00:00.000000000",
          "2025-01-01T09:00:00.000000000",
          "2025-01-01T10:00:00.000000000",
          "2025-01-01T11:00:00.000000000",
          "2025-01-01T12:00:00.000000000",
          "2025-01-01T13:00:00.000000000",
          "2025-01-01T14:00:00.000000000",
          "2025-01-01T15:00:00.000000000",
          "2025-01-01T16:00:00.000000000",
          "2025-01-01T17:00:00.000000000",
          "2025-01-01T18:00:00.000000000",
          "2025-01-01T19:00:00.000000000",
          "2025-01-01T20:00:00.000000000",
          "2025-01-01T21:00:00.000000000",
          "2025-01-01T22:00:00.000000000",
          "2025-01-01T23:00:00.000000000"
         ],
         "xaxis": "x",
         "y": {
          "bdata": "AAAAAAAA+H8AAAAAAAD4f4PAyqGF3/ZA5dAi233f9kCkcD0K5972QIcW2c633PZAm8QgsFLe9kA3iUFg+eX2QOj7qfGe6PZAoBov3eTo9kATg8DKIen2QESLbOd/2vZA1XjpJmXB9kDC9Shcm6z2QB5aZDsTlvZASOF6FBqX9kC/nxov5a72QOf7qfGOzvZAUI2Xbirq9kDKoUW2m+n2QOXQItuB3PZA+FPjpRvG9kDrUbgeha32QFg5tMi6lfZARIts57ua9kCtHFpkS5f2QFCNl27+kvZAzvdT49GU9kAGgZVDk5n2QE5iEFhhnvZA8/3UeC2w9kA1XrpJ4MP2QD4K16PY1vZAdZMYBI7o9kBh5dAii/32QHe+nxo3EvdA6iYxCOgm90DJdr6fIjf3QEa28/0UP/dArkfhetg590BaZDvfcyT3QIGVQ4uMEfdAjZduEnP69kB2vp8aV+72QPLSTWJw5vZAIbByaLHi9kCkcD0Kn+X2QBWuR+Eq5vZA2/l+aqjo9kDm0CLbBe32QEoMAiu/7PZAi2zn+yHl9kD0/dR4Aef2QEjhehTS4fZAlkOLbLPc9kARWDm08Nr2QARWDi0e1fZA46WbxDTR9kBI4XoU6tL2QD0K16N02vZAVg4tsv3j9kBKDAIr0/H2QM73U+Pl+fZAnu+nxu/99kCUGARWygH3QDIIrBxuB/dAPgrXo9gL90DtfD818hb3QJZDi2wvH/dAXI/C9VQi90AAAAAAAAD4fwAAAAAAAPh/",
          "dtype": "f8"
         },
         "yaxis": "y"
        },
        {
         "line": {
          "color": "red",
          "width": 1
         },
         "mode": "lines",
         "name": "Close - MA (shifted)",
         "type": "scatter",
         "x": [
          "2024-12-30T00:00:00.000000000",
          "2024-12-30T01:00:00.000000000",
          "2024-12-30T02:00:00.000000000",
          "2024-12-30T03:00:00.000000000",
          "2024-12-30T04:00:00.000000000",
          "2024-12-30T05:00:00.000000000",
          "2024-12-30T06:00:00.000000000",
          "2024-12-30T07:00:00.000000000",
          "2024-12-30T08:00:00.000000000",
          "2024-12-30T09:00:00.000000000",
          "2024-12-30T10:00:00.000000000",
          "2024-12-30T11:00:00.000000000",
          "2024-12-30T12:00:00.000000000",
          "2024-12-30T13:00:00.000000000",
          "2024-12-30T14:00:00.000000000",
          "2024-12-30T15:00:00.000000000",
          "2024-12-30T16:00:00.000000000",
          "2024-12-30T17:00:00.000000000",
          "2024-12-30T18:00:00.000000000",
          "2024-12-30T19:00:00.000000000",
          "2024-12-30T20:00:00.000000000",
          "2024-12-30T21:00:00.000000000",
          "2024-12-30T22:00:00.000000000",
          "2024-12-30T23:00:00.000000000",
          "2024-12-31T00:00:00.000000000",
          "2024-12-31T01:00:00.000000000",
          "2024-12-31T02:00:00.000000000",
          "2024-12-31T03:00:00.000000000",
          "2024-12-31T04:00:00.000000000",
          "2024-12-31T05:00:00.000000000",
          "2024-12-31T06:00:00.000000000",
          "2024-12-31T07:00:00.000000000",
          "2024-12-31T08:00:00.000000000",
          "2024-12-31T09:00:00.000000000",
          "2024-12-31T10:00:00.000000000",
          "2024-12-31T11:00:00.000000000",
          "2024-12-31T12:00:00.000000000",
          "2024-12-31T13:00:00.000000000",
          "2024-12-31T14:00:00.000000000",
          "2024-12-31T15:00:00.000000000",
          "2024-12-31T16:00:00.000000000",
          "2024-12-31T17:00:00.000000000",
          "2024-12-31T18:00:00.000000000",
          "2024-12-31T19:00:00.000000000",
          "2024-12-31T20:00:00.000000000",
          "2024-12-31T21:00:00.000000000",
          "2024-12-31T22:00:00.000000000",
          "2024-12-31T23:00:00.000000000",
          "2025-01-01T00:00:00.000000000",
          "2025-01-01T01:00:00.000000000",
          "2025-01-01T02:00:00.000000000",
          "2025-01-01T03:00:00.000000000",
          "2025-01-01T04:00:00.000000000",
          "2025-01-01T05:00:00.000000000",
          "2025-01-01T06:00:00.000000000",
          "2025-01-01T07:00:00.000000000",
          "2025-01-01T08:00:00.000000000",
          "2025-01-01T09:00:00.000000000",
          "2025-01-01T10:00:00.000000000",
          "2025-01-01T11:00:00.000000000",
          "2025-01-01T12:00:00.000000000",
          "2025-01-01T13:00:00.000000000",
          "2025-01-01T14:00:00.000000000",
          "2025-01-01T15:00:00.000000000",
          "2025-01-01T16:00:00.000000000",
          "2025-01-01T17:00:00.000000000",
          "2025-01-01T18:00:00.000000000",
          "2025-01-01T19:00:00.000000000",
          "2025-01-01T20:00:00.000000000",
          "2025-01-01T21:00:00.000000000",
          "2025-01-01T22:00:00.000000000",
          "2025-01-01T23:00:00.000000000"
         ],
         "xaxis": "x",
         "y": {
          "bdata": "AAAAAAAA+H8AAAAAAAD4fwDm0CLbQWtAAPAmMQhsQUAAFa5H4eJ4wADIdr6f+k7AAESLbOcDbUAAiBbZzvdNwAAQBFYOLTFAAND3U+MFS0AAoO+nxmtIwACTGARWsnNAgOf7qfECgUAARuF6FCZowIBWDi2yqYPAAIXrUbj2eMCAEoPAyq2IwACUGARW/nlAgBBYObSqhkCAObTIdrqBQAD0/dR41YVAAP7UeOnWksAArEfheuRZwAB1kxgExnFAAIgW2c43YcAABCuHFklYwABAiUFg5ShAAMDz/dR4MEAAGARWDk1ewACYbhKDAEnAAMz3U+O1XMAANV66SRR4wAAK16Nw/XdAAKabxCDgZ0AA6KWbxIBLwABjEFg5rHDAAFCNl24qcsAA76fGSw9/QAA/NV663XxAAFK4HoVncUAArBxaZEtTQADdJAaB/XbAAPLSTWJwbsAApEW28y1uQABqke18X23AAOb7qfESZEAAmpmZmZFywAAqXI/CVWvAAP7UeOm0gUAAdZMYBIpywABYObTI3mhAAJDtfD/1TUAA/Knx0sVvwABcj8L1uFBAAJRDi2yXXEAAJAaBlUNRQAAEgZVDW1fAADi0yHYeR8AAzszMzAxkwADMzMzMVGTAAMihRbZzTkAAKLKd70dJQAAksHJoYVBAAAaBlUMfcEAARrbz/URiwAAw3SQG4WbAABDXo3C9TMAA+KfGS/dJQAAs3SQG0VNAAArXo3Cla0AAAAAAAAD4fwAAAAAAAPh/",
          "dtype": "f8"
         },
         "yaxis": "y2"
        }
       ],
       "layout": {
        "height": 800,
        "hovermode": "x unified",
        "legend": {
         "orientation": "h",
         "x": 1,
         "xanchor": "right",
         "y": 1.02,
         "yanchor": "bottom"
        },
        "margin": {
         "b": 120,
         "l": 60,
         "r": 60,
         "t": 80
        },
        "shapes": [
         {
          "line": {
           "color": "gray",
           "dash": "dot",
           "width": 1
          },
          "type": "line",
          "x0": 0,
          "x1": 1,
          "xref": "x domain",
          "y0": 0,
          "y1": 0,
          "yref": "y2"
         }
        ],
        "showlegend": false,
        "template": {
         "data": {
          "bar": [
           {
            "error_x": {
             "color": "#2a3f5f"
            },
            "error_y": {
             "color": "#2a3f5f"
            },
            "marker": {
             "line": {
              "color": "#E5ECF6",
              "width": 0.5
             },
             "pattern": {
              "fillmode": "overlay",
              "size": 10,
              "solidity": 0.2
             }
            },
            "type": "bar"
           }
          ],
          "barpolar": [
           {
            "marker": {
             "line": {
              "color": "#E5ECF6",
              "width": 0.5
             },
             "pattern": {
              "fillmode": "overlay",
              "size": 10,
              "solidity": 0.2
             }
            },
            "type": "barpolar"
           }
          ],
          "carpet": [
           {
            "aaxis": {
             "endlinecolor": "#2a3f5f",
             "gridcolor": "white",
             "linecolor": "white",
             "minorgridcolor": "white",
             "startlinecolor": "#2a3f5f"
            },
            "baxis": {
             "endlinecolor": "#2a3f5f",
             "gridcolor": "white",
             "linecolor": "white",
             "minorgridcolor": "white",
             "startlinecolor": "#2a3f5f"
            },
            "type": "carpet"
           }
          ],
          "choropleth": [
           {
            "colorbar": {
             "outlinewidth": 0,
             "ticks": ""
            },
            "type": "choropleth"
           }
          ],
          "contour": [
           {
            "colorbar": {
             "outlinewidth": 0,
             "ticks": ""
            },
            "colorscale": [
             [
              0,
              "#0d0887"
             ],
             [
              0.1111111111111111,
              "#46039f"
             ],
             [
              0.2222222222222222,
              "#7201a8"
             ],
             [
              0.3333333333333333,
              "#9c179e"
             ],
             [
              0.4444444444444444,
              "#bd3786"
             ],
             [
              0.5555555555555556,
              "#d8576b"
             ],
             [
              0.6666666666666666,
              "#ed7953"
             ],
             [
              0.7777777777777778,
              "#fb9f3a"
             ],
             [
              0.8888888888888888,
              "#fdca26"
             ],
             [
              1,
              "#f0f921"
             ]
            ],
            "type": "contour"
           }
          ],
          "contourcarpet": [
           {
            "colorbar": {
             "outlinewidth": 0,
             "ticks": ""
            },
            "type": "contourcarpet"
           }
          ],
          "heatmap": [
           {
            "colorbar": {
             "outlinewidth": 0,
             "ticks": ""
            },
            "colorscale": [
             [
              0,
              "#0d0887"
             ],
             [
              0.1111111111111111,
              "#46039f"
             ],
             [
              0.2222222222222222,
              "#7201a8"
             ],
             [
              0.3333333333333333,
              "#9c179e"
             ],
             [
              0.4444444444444444,
              "#bd3786"
             ],
             [
              0.5555555555555556,
              "#d8576b"
             ],
             [
              0.6666666666666666,
              "#ed7953"
             ],
             [
              0.7777777777777778,
              "#fb9f3a"
             ],
             [
              0.8888888888888888,
              "#fdca26"
             ],
             [
              1,
              "#f0f921"
             ]
            ],
            "type": "heatmap"
           }
          ],
          "histogram": [
           {
            "marker": {
             "pattern": {
              "fillmode": "overlay",
              "size": 10,
              "solidity": 0.2
             }
            },
            "type": "histogram"
           }
          ],
          "histogram2d": [
           {
            "colorbar": {
             "outlinewidth": 0,
             "ticks": ""
            },
            "colorscale": [
             [
              0,
              "#0d0887"
             ],
             [
              0.1111111111111111,
              "#46039f"
             ],
             [
              0.2222222222222222,
              "#7201a8"
             ],
             [
              0.3333333333333333,
              "#9c179e"
             ],
             [
              0.4444444444444444,
              "#bd3786"
             ],
             [
              0.5555555555555556,
              "#d8576b"
             ],
             [
              0.6666666666666666,
              "#ed7953"
             ],
             [
              0.7777777777777778,
              "#fb9f3a"
             ],
             [
              0.8888888888888888,
              "#fdca26"
             ],
             [
              1,
              "#f0f921"
             ]
            ],
            "type": "histogram2d"
           }
          ],
          "histogram2dcontour": [
           {
            "colorbar": {
             "outlinewidth": 0,
             "ticks": ""
            },
            "colorscale": [
             [
              0,
              "#0d0887"
             ],
             [
              0.1111111111111111,
              "#46039f"
             ],
             [
              0.2222222222222222,
              "#7201a8"
             ],
             [
              0.3333333333333333,
              "#9c179e"
             ],
             [
              0.4444444444444444,
              "#bd3786"
             ],
             [
              0.5555555555555556,
              "#d8576b"
             ],
             [
              0.6666666666666666,
              "#ed7953"
             ],
             [
              0.7777777777777778,
              "#fb9f3a"
             ],
             [
              0.8888888888888888,
              "#fdca26"
             ],
             [
              1,
              "#f0f921"
             ]
            ],
            "type": "histogram2dcontour"
           }
          ],
          "mesh3d": [
           {
            "colorbar": {
             "outlinewidth": 0,
             "ticks": ""
            },
            "type": "mesh3d"
           }
          ],
          "parcoords": [
           {
            "line": {
             "colorbar": {
              "outlinewidth": 0,
              "ticks": ""
             }
            },
            "type": "parcoords"
           }
          ],
          "pie": [
           {
            "automargin": true,
            "type": "pie"
           }
          ],
          "scatter": [
           {
            "fillpattern": {
             "fillmode": "overlay",
             "size": 10,
             "solidity": 0.2
            },
            "type": "scatter"
           }
          ],
          "scatter3d": [
           {
            "line": {
             "colorbar": {
              "outlinewidth": 0,
              "ticks": ""
             }
            },
            "marker": {
             "colorbar": {
              "outlinewidth": 0,
              "ticks": ""
             }
            },
            "type": "scatter3d"
           }
          ],
          "scattercarpet": [
           {
            "marker": {
             "colorbar": {
              "outlinewidth": 0,
              "ticks": ""
             }
            },
            "type": "scattercarpet"
           }
          ],
          "scattergeo": [
           {
            "marker": {
             "colorbar": {
              "outlinewidth": 0,
              "ticks": ""
             }
            },
            "type": "scattergeo"
           }
          ],
          "scattergl": [
           {
            "marker": {
             "colorbar": {
              "outlinewidth": 0,
              "ticks": ""
             }
            },
            "type": "scattergl"
           }
          ],
          "scattermap": [
           {
            "marker": {
             "colorbar": {
              "outlinewidth": 0,
              "ticks": ""
             }
            },
            "type": "scattermap"
           }
          ],
          "scattermapbox": [
           {
            "marker": {
             "colorbar": {
              "outlinewidth": 0,
              "ticks": ""
             }
            },
            "type": "scattermapbox"
           }
          ],
          "scatterpolar": [
           {
            "marker": {
             "colorbar": {
              "outlinewidth": 0,
              "ticks": ""
             }
            },
            "type": "scatterpolar"
           }
          ],
          "scatterpolargl": [
           {
            "marker": {
             "colorbar": {
              "outlinewidth": 0,
              "ticks": ""
             }
            },
            "type": "scatterpolargl"
           }
          ],
          "scatterternary": [
           {
            "marker": {
             "colorbar": {
              "outlinewidth": 0,
              "ticks": ""
             }
            },
            "type": "scatterternary"
           }
          ],
          "surface": [
           {
            "colorbar": {
             "outlinewidth": 0,
             "ticks": ""
            },
            "colorscale": [
             [
              0,
              "#0d0887"
             ],
             [
              0.1111111111111111,
              "#46039f"
             ],
             [
              0.2222222222222222,
              "#7201a8"
             ],
             [
              0.3333333333333333,
              "#9c179e"
             ],
             [
              0.4444444444444444,
              "#bd3786"
             ],
             [
              0.5555555555555556,
              "#d8576b"
             ],
             [
              0.6666666666666666,
              "#ed7953"
             ],
             [
              0.7777777777777778,
              "#fb9f3a"
             ],
             [
              0.8888888888888888,
              "#fdca26"
             ],
             [
              1,
              "#f0f921"
             ]
            ],
            "type": "surface"
           }
          ],
          "table": [
           {
            "cells": {
             "fill": {
              "color": "#EBF0F8"
             },
             "line": {
              "color": "white"
             }
            },
            "header": {
             "fill": {
              "color": "#C8D4E3"
             },
             "line": {
              "color": "white"
             }
            },
            "type": "table"
           }
          ]
         },
         "layout": {
          "annotationdefaults": {
           "arrowcolor": "#2a3f5f",
           "arrowhead": 0,
           "arrowwidth": 1
          },
          "autotypenumbers": "strict",
          "coloraxis": {
           "colorbar": {
            "outlinewidth": 0,
            "ticks": ""
           }
          },
          "colorscale": {
           "diverging": [
            [
             0,
             "#8e0152"
            ],
            [
             0.1,
             "#c51b7d"
            ],
            [
             0.2,
             "#de77ae"
            ],
            [
             0.3,
             "#f1b6da"
            ],
            [
             0.4,
             "#fde0ef"
            ],
            [
             0.5,
             "#f7f7f7"
            ],
            [
             0.6,
             "#e6f5d0"
            ],
            [
             0.7,
             "#b8e186"
            ],
            [
             0.8,
             "#7fbc41"
            ],
            [
             0.9,
             "#4d9221"
            ],
            [
             1,
             "#276419"
            ]
           ],
           "sequential": [
            [
             0,
             "#0d0887"
            ],
            [
             0.1111111111111111,
             "#46039f"
            ],
            [
             0.2222222222222222,
             "#7201a8"
            ],
            [
             0.3333333333333333,
             "#9c179e"
            ],
            [
             0.4444444444444444,
             "#bd3786"
            ],
            [
             0.5555555555555556,
             "#d8576b"
            ],
            [
             0.6666666666666666,
             "#ed7953"
            ],
            [
             0.7777777777777778,
             "#fb9f3a"
            ],
            [
             0.8888888888888888,
             "#fdca26"
            ],
            [
             1,
             "#f0f921"
            ]
           ],
           "sequentialminus": [
            [
             0,
             "#0d0887"
            ],
            [
             0.1111111111111111,
             "#46039f"
            ],
            [
             0.2222222222222222,
             "#7201a8"
            ],
            [
             0.3333333333333333,
             "#9c179e"
            ],
            [
             0.4444444444444444,
             "#bd3786"
            ],
            [
             0.5555555555555556,
             "#d8576b"
            ],
            [
             0.6666666666666666,
             "#ed7953"
            ],
            [
             0.7777777777777778,
             "#fb9f3a"
            ],
            [
             0.8888888888888888,
             "#fdca26"
            ],
            [
             1,
             "#f0f921"
            ]
           ]
          },
          "colorway": [
           "#636efa",
           "#EF553B",
           "#00cc96",
           "#ab63fa",
           "#FFA15A",
           "#19d3f3",
           "#FF6692",
           "#B6E880",
           "#FF97FF",
           "#FECB52"
          ],
          "font": {
           "color": "#2a3f5f"
          },
          "geo": {
           "bgcolor": "white",
           "lakecolor": "white",
           "landcolor": "#E5ECF6",
           "showlakes": true,
           "showland": true,
           "subunitcolor": "white"
          },
          "hoverlabel": {
           "align": "left"
          },
          "hovermode": "closest",
          "mapbox": {
           "style": "light"
          },
          "paper_bgcolor": "white",
          "plot_bgcolor": "#E5ECF6",
          "polar": {
           "angularaxis": {
            "gridcolor": "white",
            "linecolor": "white",
            "ticks": ""
           },
           "bgcolor": "#E5ECF6",
           "radialaxis": {
            "gridcolor": "white",
            "linecolor": "white",
            "ticks": ""
           }
          },
          "scene": {
           "xaxis": {
            "backgroundcolor": "#E5ECF6",
            "gridcolor": "white",
            "gridwidth": 2,
            "linecolor": "white",
            "showbackground": true,
            "ticks": "",
            "zerolinecolor": "white"
           },
           "yaxis": {
            "backgroundcolor": "#E5ECF6",
            "gridcolor": "white",
            "gridwidth": 2,
            "linecolor": "white",
            "showbackground": true,
            "ticks": "",
            "zerolinecolor": "white"
           },
           "zaxis": {
            "backgroundcolor": "#E5ECF6",
            "gridcolor": "white",
            "gridwidth": 2,
            "linecolor": "white",
            "showbackground": true,
            "ticks": "",
            "zerolinecolor": "white"
           }
          },
          "shapedefaults": {
           "line": {
            "color": "#2a3f5f"
           }
          },
          "ternary": {
           "aaxis": {
            "gridcolor": "white",
            "linecolor": "white",
            "ticks": ""
           },
           "baxis": {
            "gridcolor": "white",
            "linecolor": "white",
            "ticks": ""
           },
           "bgcolor": "#E5ECF6",
           "caxis": {
            "gridcolor": "white",
            "linecolor": "white",
            "ticks": ""
           }
          },
          "title": {
           "x": 0.05
          },
          "xaxis": {
           "automargin": true,
           "gridcolor": "white",
           "linecolor": "white",
           "ticks": "",
           "title": {
            "standoff": 15
           },
           "zerolinecolor": "white",
           "zerolinewidth": 2
          },
          "yaxis": {
           "automargin": true,
           "gridcolor": "white",
           "linecolor": "white",
           "ticks": "",
           "title": {
            "standoff": 15
           },
           "zerolinecolor": "white",
           "zerolinewidth": 2
          }
         }
        },
        "title": {
         "text": "BTCUSDT (2d @ 1h) - Close, MA 5, Diff"
        },
        "xaxis": {
         "anchor": "y",
         "domain": [
          0,
          0.94
         ],
         "nticks": 8,
         "range": [
          "2024-12-30T00:00:00",
          "2025-01-01T23:00:00"
         ],
         "showgrid": false,
         "showticklabels": true,
         "tickangle": -45,
         "tickfont": {
          "size": 10
         },
         "tickformat": "%Y-%m-%d\n%H:%M",
         "ticks": "outside",
         "title": {
          "standoff": 40,
          "text": "Time"
         },
         "type": "date"
        },
        "yaxis": {
         "anchor": "x",
         "domain": [
          0,
          1
         ],
         "title": {
          "text": "Price"
         }
        },
        "yaxis2": {
         "anchor": "x",
         "overlaying": "y",
         "side": "right",
         "title": {
          "text": "Diff"
         }
        }
       }
      }
     },
     "metadata": {},
     "output_type": "display_data"
    }
   ],
   "source": [
    "# VISUALISATION INTERACTIVE\n",
    "\n",
    "import plotly.graph_objects as go\n",
    "from plotly.subplots import make_subplots\n",
    "import numpy as np\n",
    "\n",
    "# Paramètre de moyenne mobile (modifiable)\n",
    "MA_PERIOD = 5\n",
    "\n",
    "if len(df_btc) > 0:\n",
    "    # Calculer la moyenne mobile sur les MA_PERIOD dernières périodes\n",
    "    df_btc[f'ma_{MA_PERIOD}'] = df_btc['close'].rolling(window=MA_PERIOD).mean()\n",
    "    # Décalage vers la gauche pour aligner (la fin des données n'est pas importante)\n",
    "    decalage = MA_PERIOD // 2\n",
    "    df_btc[f'ma_{MA_PERIOD}_shifted'] = df_btc[f'ma_{MA_PERIOD}'].shift(-decalage)\n",
    "\n",
    "    # Calculer la différence entre close et la MA décalée\n",
    "    df_btc['diff_close_ma'] = df_btc['close'] - df_btc[f'ma_{MA_PERIOD}_shifted']\n",
    "\n",
    "    # (FFT supprimée — nous conservons seulement la série des différences)\n",
    "    difference_values = df_btc['diff_close_ma'].dropna().values\n",
    "\n",
    "    # --- Création d'un seul subplot avec deux axes Y (price + diff) ---\n",
    "    fig = make_subplots(\n",
    "        rows=1,\n",
    "        cols=1,\n",
    "        shared_xaxes=True,\n",
    "        specs=[[{\"secondary_y\": True}]],\n",
    "    )\n",
    "\n",
    "    # Prix + MA sur l'axe Y principal\n",
    "    fig.add_trace(\n",
    "        go.Scatter(x=df_btc.index, y=df_btc['close'], mode='lines', name=f\"{SYMBOL} Close\", line=dict(color='#00c851', width=1)),\n",
    "        row=1,\n",
    "        col=1,\n",
    "        secondary_y=False,\n",
    "    )\n",
    "    fig.add_trace(\n",
    "        go.Scatter(x=df_btc.index, y=df_btc[f'ma_{MA_PERIOD}_shifted'], mode='lines', name=f\"MA {MA_PERIOD} (shifted)\", line=dict(color='blue', width=1)),\n",
    "        row=1,\n",
    "        col=1,\n",
    "        secondary_y=False,\n",
    "    )\n",
    "\n",
    "    # Différence sur l'axe Y secondaire\n",
    "    fig.add_trace(\n",
    "        go.Scatter(x=df_btc.index, y=df_btc['diff_close_ma'], mode='lines', name='Close - MA (shifted)', line=dict(color='red', width=1)),\n",
    "        row=1,\n",
    "        col=1,\n",
    "        secondary_y=True,\n",
    "    )\n",
    "\n",
    "    # Ajouter une ligne horizontale fine et pointillée (plus serrée) à y=0 sur l'axe Y secondaire\n",
    "    try:\n",
    "        # prefer add_hline when available; use 'dot' pour points serrés et width=1\n",
    "        fig.add_hline(y=0, line=dict(color='gray', dash='dot', width=1), row=1, col=1, secondary_y=True)\n",
    "    except Exception:\n",
    "        # Fallback: ajouter comme shape en référant explicitement à yaxis secondaire (y2)\n",
    "        try:\n",
    "            fig.add_shape(\n",
    "                type='line',\n",
    "                x0=df_btc.index.min(), x1=df_btc.index.max(),\n",
    "                y0=0, y1=0,\n",
    "                xref='x', yref='y2',\n",
    "                line=dict(color='gray', dash='dot', width=1),\n",
    "                layer='below'\n",
    "            )\n",
    "        except Exception:\n",
    "            # Si tout échoue, on ignore silencieusement pour ne pas briser l'affichage\n",
    "            pass\n",
    "\n",
    "    # Layout improvements\n",
    "    fig.update_layout(\n",
    "        height=800,\n",
    "        showlegend=False,\n",
    "        legend=dict(orientation='h', yanchor='bottom', y=1.02, xanchor='right', x=1),\n",
    "        hovermode='x unified',\n",
    "        title_text=f\"{SYMBOL} ({DUREE_JOURS}d @ {INTERVAL}) - Close, MA {MA_PERIOD}, Diff\",\n",
    "        margin=dict(l=60, r=60, t=80, b=120),\n",
    "    )\n",
    "\n",
    "    # Axis labels: primary Y = Price, secondary Y = Diff\n",
    "    fig.update_yaxes(title_text='Price', row=1, col=1, secondary_y=False)\n",
    "    fig.update_yaxes(title_text='Diff', row=1, col=1, secondary_y=True)\n",
    "\n",
    "    # Configure X-axis appearance for datetime subplot\n",
    "    # augmenter title_standoff pour réserver plus d'espace vertical pour le label\n",
    "    date_xargs = dict(type='date', tickformat=\"%Y-%m-%d\\n%H:%M\", tickangle=-45, tickfont=dict(size=10), nticks=8, ticks='outside', showgrid=False, showticklabels=True, title_standoff=40)\n",
    "    try:\n",
    "        x0 = df_btc.index.min()\n",
    "        x1 = df_btc.index.max()\n",
    "        fig.update_xaxes(range=[x0, x1], title_text='Time', **date_xargs, row=1, col=1)\n",
    "    except Exception:\n",
    "        # Fallback: still apply formatting without range\n",
    "        fig.update_xaxes(title_text='Time', **date_xargs, row=1, col=1)\n",
    "\n",
    "    # Affichage simple\n",
    "    try:\n",
    "        fig.show(renderer='vscode')\n",
    "    except Exception as e:\n",
    "        print(\"Erreur: impossible d'afficher la figure avec le renderer 'vscode'.\")\n",
    "        print(\"Détail: \", str(e))\n"
   ]
  }
 ],
 "metadata": {
  "kernelspec": {
   "display_name": "venv",
   "language": "python",
   "name": "python3"
  },
  "language_info": {
   "codemirror_mode": {
    "name": "ipython",
    "version": 3
   },
   "file_extension": ".py",
   "mimetype": "text/x-python",
   "name": "python",
   "nbconvert_exporter": "python",
   "pygments_lexer": "ipython3",
   "version": "3.13.5"
  }
 },
 "nbformat": 4,
 "nbformat_minor": 4
}
