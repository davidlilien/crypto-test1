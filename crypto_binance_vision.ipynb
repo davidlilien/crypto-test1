{
 "cells": [
  {
   "cell_type": "markdown",
   "metadata": {},
   "source": [
    "# Analyse Cryptomonnaie avec Binance Vision\n",
    "\n",
    "Ce notebook utilise Binance Vision pour télécharger de gros datasets historiques de cryptomonnaies."
   ]
  },
  {
   "cell_type": "code",
   "execution_count": 35,
   "metadata": {},
   "outputs": [
    {
     "name": "stdout",
     "output_type": "stream",
     "text": [
      "Configuration:\n",
      "- Symbole: BTCUSDT\n",
      "- Durée d'analyse: 5 jours\n",
      "- Intervalle: 1h\n",
      "- Date de fin: 2025-08-31\n",
      "- Source: Binance Vision (données historiques)\n",
      "\n"
     ]
    }
   ],
   "source": [
    "# PARAMÈTRES DE CONFIGURATION\n",
    "\n",
    "# Durée d'analyse (en jours) - Binance Vision est optimisé pour de grandes périodes\n",
    "DUREE_JOURS = 5\n",
    "\n",
    "# Intervalle des données\n",
    "# Options: 1s, 1m, 3m, 5m, 15m, 30m, 1h, 2h, 4h, 6h, 8h, 12h, 1d, 3d, 1w, 1M\n",
    "INTERVAL = '1h'\n",
    "\n",
    "# Symbole à analyser\n",
    "SYMBOL = 'BTCUSDT'\n",
    "\n",
    "# Date de fin (format YYYY-MM-DD) — par défaut aujourd'hui\n",
    "from datetime import datetime\n",
    "END_DATE = \"2025-08-31\"\n",
    "\n",
    "if END_DATE == None:\n",
    "  END_DATE = datetime.now().strftime('%Y-%m-%d')\n",
    "\n",
    "print(f\"Configuration:\")\n",
    "print(f\"- Symbole: {SYMBOL}\")\n",
    "print(f\"- Durée d'analyse: {DUREE_JOURS} jours\")\n",
    "print(f\"- Intervalle: {INTERVAL}\")\n",
    "print(f\"- Date de fin: {END_DATE}\")\n",
    "print(f\"- Source: Binance Vision (données historiques)\")\n",
    "print()"
   ]
  },
  {
   "cell_type": "code",
   "execution_count": 36,
   "metadata": {},
   "outputs": [
    {
     "name": "stdout",
     "output_type": "stream",
     "text": [
      "Fonctions chargées avec succès.\n"
     ]
    }
   ],
   "source": [
    "# IMPORTS ET FONCTIONS\n",
    "\n",
    "import pandas as pd\n",
    "import requests\n",
    "from datetime import datetime, timedelta\n",
    "import time\n",
    "import os\n",
    "import zipfile\n",
    "from io import BytesIO\n",
    "import warnings\n",
    "warnings.filterwarnings('ignore')\n",
    "\n",
    "def download_binance_vision_data(symbol=SYMBOL, interval=INTERVAL, days_back=DUREE_JOURS, end_date_str=None):\n",
    "    \"\"\"\n",
    "    Télécharge les données historiques depuis Binance Vision pour de gros datasets.\n",
    "    Cette version parallélise les téléchargements journaliers avec ThreadPoolExecutor\n",
    "    pour accélérer la récupération tout en conservant les logs et la robustesse.\n",
    "\n",
    "    Paramètres:\n",
    "    - symbol, interval, days_back: inchangés\n",
    "    - end_date_str: optionnel, chaîne 'YYYY-MM-DD'. Si fournie, la fenêtre de téléchargement\n",
    "      sera calculée depuis cette date (inclusive) vers l'arrière `days_back` jours.\n",
    "      Si None, on utilise la valeur globale `END_DATE` si définie, sinon la date courante.\n",
    "    \"\"\"\n",
    "    # Résolution de la date de fin\n",
    "    if end_date_str is None:\n",
    "        try:\n",
    "            end_date_str = END_DATE  # variable globale définie dans la cellule de config\n",
    "        except NameError:\n",
    "            end_date_str = None\n",
    "\n",
    "    if end_date_str:\n",
    "        try:\n",
    "            end_date = datetime.strptime(end_date_str, '%Y-%m-%d')\n",
    "        except Exception:\n",
    "            print(f\"Format END_DATE invalide: {end_date_str}. Utilisation de datetime.now().\")\n",
    "            end_date = datetime.now()\n",
    "    else:\n",
    "        end_date = datetime.now()\n",
    "\n",
    "    print(f\"Utilisation de Binance Vision pour télécharger {symbol} - {interval}\")\n",
    "    print(f\"Période: {days_back} jours (fin: {end_date.strftime('%Y-%m-%d')})\")\n",
    "    print()\n",
    "\n",
    "    # Calculer la date de début\n",
    "    start_date = end_date - timedelta(days=days_back)\n",
    "\n",
    "    # Construire la liste des dates à télécharger\n",
    "    dates = []\n",
    "    current_date = start_date\n",
    "    while current_date <= end_date:\n",
    "        dates.append(current_date.strftime('%Y-%m-%d'))\n",
    "        current_date += timedelta(days=1)\n",
    "\n",
    "    all_data = []\n",
    "    success_count = 0\n",
    "    total_periods = 0\n",
    "\n",
    "    from concurrent.futures import ThreadPoolExecutor, as_completed\n",
    "\n",
    "    def fetch_for_date(date_str):\n",
    "        \"\"\"Télécharge et retourne un tuple (date_str, df_day or None, error_message or None, periods_count)\"\"\"\n",
    "        url = f\"https://data.binance.vision/data/spot/daily/klines/{symbol}/{interval}/{symbol}-{interval}-{date_str}.zip\"\n",
    "        try:\n",
    "            # Petite trace locale (renvoyée pour agrégation)\n",
    "            resp = requests.get(url, timeout=30)\n",
    "            if resp.status_code == 200:\n",
    "                with zipfile.ZipFile(BytesIO(resp.content)) as zip_file:\n",
    "                    csv_filename = f\"{symbol}-{interval}-{date_str}.csv\"\n",
    "                    if csv_filename in zip_file.namelist():\n",
    "                        csv_content = zip_file.read(csv_filename)\n",
    "                        df_day = pd.read_csv(BytesIO(csv_content), header=None, names=[\n",
    "                            'timestamp', 'open', 'high', 'low', 'close', 'volume',\n",
    "                            'close_time', 'quote_asset_volume', 'number_of_trades',\n",
    "                            'taker_buy_base_asset_volume', 'taker_buy_quote_asset_volume', 'ignore'\n",
    "                        ])\n",
    "                        return (date_str, df_day, None, len(df_day))\n",
    "                    else:\n",
    "                        return (date_str, None, 'CSV not found in ZIP', 0)\n",
    "            else:\n",
    "                return (date_str, None, f'HTTP {resp.status_code}', 0)\n",
    "        except requests.exceptions.RequestException:\n",
    "            return (date_str, None, 'Network error', 0)\n",
    "        except zipfile.BadZipFile:\n",
    "            return (date_str, None, 'Bad ZIP', 0)\n",
    "        except Exception as e:\n",
    "            return (date_str, None, str(e)[:200], 0)\n",
    "\n",
    "    # Paramètres de parallélisme: limiter le nombre de threads raisonnablement\n",
    "    max_workers = min(12, max(4, len(dates)))\n",
    "\n",
    "    print(f\"Lancement des téléchargements en parallèle ({len(dates)} jours, up to {max_workers} workers)\")\n",
    "\n",
    "    with ThreadPoolExecutor(max_workers=max_workers) as exe:\n",
    "        future_to_date = {exe.submit(fetch_for_date, d): d for d in dates}\n",
    "        for fut in as_completed(future_to_date):\n",
    "            date_str = future_to_date[fut]\n",
    "            print(f\"Téléchargement: {date_str}\", end=\" \")\n",
    "            try:\n",
    "                d, df_day, err, periods = fut.result()\n",
    "                if df_day is not None:\n",
    "                    all_data.append(df_day)\n",
    "                    success_count += 1\n",
    "                    total_periods += periods\n",
    "                    print(f\"✓ ({periods} périodes)\")\n",
    "                else:\n",
    "                    print(f\"⚠ {err}\")\n",
    "            except Exception as e:\n",
    "                print(f\"✗ Erreur: {str(e)[:80]}\")\n",
    "\n",
    "    # Petit délai global pour rester poli si nécessaire\n",
    "    time.sleep(0.1)\n",
    "\n",
    "    print(f\"\\nRésumé du téléchargement:\")\n",
    "    print(f\"- Jours avec succès: {success_count}/{len(dates)}\")\n",
    "    print(f\"- Total des périodes: {total_periods}\")\n",
    "\n",
    "    if all_data:\n",
    "        # Combiner toutes les données\n",
    "        combined_df = pd.concat(all_data, ignore_index=True)\n",
    "        return combined_df.to_dict('records')\n",
    "    else:\n",
    "        print(\"Aucune donnée récupérée via Binance Vision\")\n",
    "        return []\n",
    "\n",
    "\n",
    "def create_dataframe(data, symbol_name):\n",
    "    if not data:\n",
    "        print(f\"Aucune donnée disponible pour {symbol_name}\")\n",
    "        return pd.DataFrame()\n",
    "        \n",
    "    df = pd.DataFrame(data, columns=[\n",
    "        'timestamp', 'open', 'high', 'low', 'close', 'volume',\n",
    "        'close_time', 'quote_asset_volume', 'number_of_trades',\n",
    "        'taker_buy_base_asset_volume', 'taker_buy_quote_asset_volume', 'ignore'\n",
    "    ])\n",
    "    \n",
    "    # Conversion des types\n",
    "    for col in ['open', 'high', 'low', 'close', 'volume']:\n",
    "        df[col] = df[col].astype(float)\n",
    "    \n",
    "    # Gestion des timestamps - Binance Vision utilise différents formats\n",
    "    print(\"Conversion des timestamps...\")\n",
    "    timestamp_converted = False\n",
    "    \n",
    "    # Vérifier le format des timestamps en examinant quelques valeurs\n",
    "    sample_timestamps = df['timestamp'].head(3).astype(str)\n",
    "    print(f\"Échantillon de timestamps: {list(sample_timestamps)}\")\n",
    "    \n",
    "    try:\n",
    "        # Essai avec millisecondes (format standard)\n",
    "        df['timestamp'] = pd.to_datetime(df['timestamp'], unit='ms')\n",
    "        timestamp_converted = True\n",
    "        print(\"✓ Timestamps convertis depuis millisecondes\")\n",
    "    except (ValueError, pd.errors.OutOfBoundsDatetime, OverflowError):\n",
    "        try:\n",
    "            # Essai avec microsecondes (nouveau format depuis janvier 2025)\n",
    "            print(\"⚠ Tentative conversion depuis microsecondes...\")\n",
    "            df['timestamp'] = pd.to_datetime(df['timestamp'], unit='us')\n",
    "            timestamp_converted = True\n",
    "            print(\"✓ Timestamps convertis depuis microsecondes\")\n",
    "        except (ValueError, pd.errors.OutOfBoundsDatetime, OverflowError):\n",
    "            try:\n",
    "                # Essai avec secondes\n",
    "                print(\"⚠ Tentative conversion depuis secondes...\")\n",
    "                df['timestamp'] = pd.to_datetime(df['timestamp'], unit='s')\n",
    "                timestamp_converted = True\n",
    "                print(\"✓ Timestamps convertis depuis secondes\")\n",
    "            except (ValueError, pd.errors.OutOfBoundsDatetime, OverflowError):\n",
    "                try:\n",
    "                    # Si les valeurs sont trop grandes, diviser par 1000000 (microsecondes vers secondes)\n",
    "                    print(\"⚠ Tentative correction des timestamps (division par 1M)...\")\n",
    "                    df['timestamp'] = pd.to_datetime(df['timestamp'] / 1000000, unit='s')\n",
    "                    timestamp_converted = True\n",
    "                    print(\"✓ Timestamps corrigés et convertis\")\n",
    "                except (ValueError, pd.errors.OutOfBoundsDatetime, OverflowError):\n",
    "                    print(\"✗ Impossible de convertir les timestamps\")\n",
    "\n",
    "    if not timestamp_converted:\n",
    "        print(f\"✗ Erreur: Impossible de traiter les timestamps pour {symbol_name}\")\n",
    "        return pd.DataFrame()\n",
    "    \n",
    "    # Vérifier la plausibilité des dates\n",
    "    min_date = df['timestamp'].min()\n",
    "    max_date = df['timestamp'].max()\n",
    "    \n",
    "    if min_date.year < 2009 or max_date.year > 2030:\n",
    "        print(f\"⚠ Dates suspectes détectées: {min_date} à {max_date}\")\n",
    "    \n",
    "    df.set_index('timestamp', inplace=True)\n",
    "    \n",
    "    # Supprimer les doublons et trier\n",
    "    df = df[~df.index.duplicated(keep='first')].sort_index()\n",
    "    \n",
    "    # Affichage des informations adaptées à l'intervalle\n",
    "    if len(df) > 0:\n",
    "        print(f\"\\nDonnées {symbol_name} traitées:\")\n",
    "        print(f\"Période: {df.index.min().strftime('%Y-%m-%d %H:%M')} à {df.index.max().strftime('%Y-%m-%d %H:%M')}\")\n",
    "        print(f\"Nombre de périodes ({INTERVAL}): {len(df):,}\")\n",
    "        \n",
    "        # Calculs selon l'intervalle\n",
    "        if INTERVAL.endswith('s'):\n",
    "            seconds_per_period = int(INTERVAL[:-1])\n",
    "            minutes = len(df) * seconds_per_period / 60\n",
    "            hours = minutes / 60\n",
    "            days = hours / 24\n",
    "            print(f\"Équivalent: {minutes:,.0f} minutes, {hours:,.1f} heures, {days:.1f} jours\")\n",
    "        elif INTERVAL.endswith('m'):\n",
    "            minutes_per_period = int(INTERVAL[:-1])\n",
    "            hours = len(df) * minutes_per_period / 60\n",
    "            days = hours / 24\n",
    "            print(f\"Équivalent: {hours:,.1f} heures, {days:.1f} jours\")\n",
    "        elif INTERVAL.endswith('h'):\n",
    "            hours_per_period = int(INTERVAL[:-1])\n",
    "            hours = len(df) * hours_per_period\n",
    "            days = hours / 24\n",
    "            print(f\"Équivalent: {hours:,.1f} heures, {days:.1f} jours\")\n",
    "        elif INTERVAL == '1d':\n",
    "            print(f\"Équivalent: {len(df)} jours\")\n",
    "        \n",
    "        print(f\"Prix minimum: ${df['low'].min():.2f}\")\n",
    "        print(f\"Prix maximum: ${df['high'].max():.2f}\")\n",
    "        print(f\"Volume total: {df['volume'].sum():,.2f} {symbol_name.replace('USDT', '')}\")\n",
    "    \n",
    "    return df\n",
    "\n",
    "print(\"Fonctions chargées avec succès.\")"
   ]
  },
  {
   "cell_type": "code",
   "execution_count": 37,
   "metadata": {},
   "outputs": [
    {
     "name": "stdout",
     "output_type": "stream",
     "text": [
      "=== Récupération BTCUSDT via Binance Vision ===\n",
      "\n",
      "Utilisation de Binance Vision pour télécharger BTCUSDT - 1h\n",
      "Période: 5 jours (fin: 2025-08-31)\n",
      "\n",
      "Lancement des téléchargements en parallèle (6 jours, up to 6 workers)\n",
      "Téléchargement: 2025-08-29 ✓ (24 périodes)\n",
      "Téléchargement: 2025-08-30 ✓ (24 périodes)\n",
      "Téléchargement: 2025-08-31 ✓ (24 périodes)\n",
      "Téléchargement: 2025-08-28 ✓ (24 périodes)\n",
      "Téléchargement: 2025-08-26 ✓ (24 périodes)\n",
      "Téléchargement: 2025-08-27 ✓ (24 périodes)\n",
      "\n",
      "Résumé du téléchargement:\n",
      "- Jours avec succès: 6/6\n",
      "- Total des périodes: 144\n",
      "Conversion des timestamps...\n",
      "Échantillon de timestamps: ['1756425600000000', '1756429200000000', '1756432800000000']\n",
      "⚠ Tentative conversion depuis microsecondes...\n",
      "✓ Timestamps convertis depuis microsecondes\n",
      "\n",
      "Données BTCUSDT traitées:\n",
      "Période: 2025-08-26 00:00 à 2025-08-31 23:00\n",
      "Nombre de périodes (1h): 144\n",
      "Équivalent: 144.0 heures, 6.0 jours\n",
      "Prix minimum: $107350.10\n",
      "Prix maximum: $113485.90\n",
      "Volume total: 85,727.54 BTC\n",
      "\n",
      "Premières lignes BTCUSDT (intervalle 1h):\n",
      "                          open       high        low      close      volume  \\\n",
      "timestamp                                                                     \n",
      "2025-08-26 00:00:00  110111.98  110111.98  108854.19  109100.23  2132.52683   \n",
      "2025-08-26 01:00:00  109100.24  109910.68  108666.66  109897.20  1090.85402   \n",
      "2025-08-26 02:00:00  109897.21  110026.14  109505.04  109710.96   531.88497   \n",
      "2025-08-26 03:00:00  109710.96  109927.99  109432.00  109879.56   400.12624   \n",
      "2025-08-26 04:00:00  109879.57  110235.29  109879.57  110100.01   466.51131   \n",
      "\n",
      "                           close_time  quote_asset_volume  number_of_trades  \\\n",
      "timestamp                                                                     \n",
      "2025-08-26 00:00:00  1756169999999999        2.333663e+08            484512   \n",
      "2025-08-26 01:00:00  1756173599999999        1.193494e+08            305347   \n",
      "2025-08-26 02:00:00  1756177199999999        5.838928e+07            185941   \n",
      "2025-08-26 03:00:00  1756180799999999        4.390678e+07            121920   \n",
      "2025-08-26 04:00:00  1756184399999999        5.135076e+07            118873   \n",
      "\n",
      "                     taker_buy_base_asset_volume  \\\n",
      "timestamp                                          \n",
      "2025-08-26 00:00:00                    918.00878   \n",
      "2025-08-26 01:00:00                    605.62839   \n",
      "2025-08-26 02:00:00                    240.43375   \n",
      "2025-08-26 03:00:00                    218.99554   \n",
      "2025-08-26 04:00:00                    262.75770   \n",
      "\n",
      "                     taker_buy_quote_asset_volume  ignore  \n",
      "timestamp                                                  \n",
      "2025-08-26 00:00:00                  1.004644e+08       0  \n",
      "2025-08-26 01:00:00                  6.628742e+07       0  \n",
      "2025-08-26 02:00:00                  2.639689e+07       0  \n",
      "2025-08-26 03:00:00                  2.403629e+07       0  \n",
      "2025-08-26 04:00:00                  2.892025e+07       0  \n",
      "\n",
      "Dernières lignes:\n",
      "                          open       high        low      close     volume  \\\n",
      "timestamp                                                                    \n",
      "2025-08-31 19:00:00  109146.62  109167.84  108916.28  108930.00  160.04622   \n",
      "2025-08-31 20:00:00  108930.00  109118.00  108880.00  109117.99  190.53944   \n",
      "2025-08-31 21:00:00  109118.00  109118.00  108957.12  109037.29  156.22084   \n",
      "2025-08-31 22:00:00  109037.30  109230.00  108758.37  108900.46  245.89578   \n",
      "2025-08-31 23:00:00  108900.45  108917.36  108076.93  108246.35  697.48233   \n",
      "\n",
      "                           close_time  quote_asset_volume  number_of_trades  \\\n",
      "timestamp                                                                     \n",
      "2025-08-31 19:00:00  1756670399999999        1.745091e+07             34179   \n",
      "2025-08-31 20:00:00  1756673999999999        2.077488e+07             30465   \n",
      "2025-08-31 21:00:00  1756677599999999        1.703374e+07             26559   \n",
      "2025-08-31 22:00:00  1756681199999999        2.680511e+07             56536   \n",
      "2025-08-31 23:00:00  1756684799999999        7.559006e+07            121658   \n",
      "\n",
      "                     taker_buy_base_asset_volume  \\\n",
      "timestamp                                          \n",
      "2025-08-31 19:00:00                     60.91702   \n",
      "2025-08-31 20:00:00                    112.98363   \n",
      "2025-08-31 21:00:00                     77.50066   \n",
      "2025-08-31 22:00:00                    137.43865   \n",
      "2025-08-31 23:00:00                    313.29554   \n",
      "\n",
      "                     taker_buy_quote_asset_volume  ignore  \n",
      "timestamp                                                  \n",
      "2025-08-31 19:00:00                  6.641538e+06       0  \n",
      "2025-08-31 20:00:00                  1.231932e+07       0  \n",
      "2025-08-31 21:00:00                  8.449695e+06       0  \n",
      "2025-08-31 22:00:00                  1.498555e+07       0  \n",
      "2025-08-31 23:00:00                  3.394047e+07       0  \n",
      "Téléchargement: 2025-08-29 ✓ (24 périodes)\n",
      "Téléchargement: 2025-08-30 ✓ (24 périodes)\n",
      "Téléchargement: 2025-08-31 ✓ (24 périodes)\n",
      "Téléchargement: 2025-08-28 ✓ (24 périodes)\n",
      "Téléchargement: 2025-08-26 ✓ (24 périodes)\n",
      "Téléchargement: 2025-08-27 ✓ (24 périodes)\n",
      "\n",
      "Résumé du téléchargement:\n",
      "- Jours avec succès: 6/6\n",
      "- Total des périodes: 144\n",
      "Conversion des timestamps...\n",
      "Échantillon de timestamps: ['1756425600000000', '1756429200000000', '1756432800000000']\n",
      "⚠ Tentative conversion depuis microsecondes...\n",
      "✓ Timestamps convertis depuis microsecondes\n",
      "\n",
      "Données BTCUSDT traitées:\n",
      "Période: 2025-08-26 00:00 à 2025-08-31 23:00\n",
      "Nombre de périodes (1h): 144\n",
      "Équivalent: 144.0 heures, 6.0 jours\n",
      "Prix minimum: $107350.10\n",
      "Prix maximum: $113485.90\n",
      "Volume total: 85,727.54 BTC\n",
      "\n",
      "Premières lignes BTCUSDT (intervalle 1h):\n",
      "                          open       high        low      close      volume  \\\n",
      "timestamp                                                                     \n",
      "2025-08-26 00:00:00  110111.98  110111.98  108854.19  109100.23  2132.52683   \n",
      "2025-08-26 01:00:00  109100.24  109910.68  108666.66  109897.20  1090.85402   \n",
      "2025-08-26 02:00:00  109897.21  110026.14  109505.04  109710.96   531.88497   \n",
      "2025-08-26 03:00:00  109710.96  109927.99  109432.00  109879.56   400.12624   \n",
      "2025-08-26 04:00:00  109879.57  110235.29  109879.57  110100.01   466.51131   \n",
      "\n",
      "                           close_time  quote_asset_volume  number_of_trades  \\\n",
      "timestamp                                                                     \n",
      "2025-08-26 00:00:00  1756169999999999        2.333663e+08            484512   \n",
      "2025-08-26 01:00:00  1756173599999999        1.193494e+08            305347   \n",
      "2025-08-26 02:00:00  1756177199999999        5.838928e+07            185941   \n",
      "2025-08-26 03:00:00  1756180799999999        4.390678e+07            121920   \n",
      "2025-08-26 04:00:00  1756184399999999        5.135076e+07            118873   \n",
      "\n",
      "                     taker_buy_base_asset_volume  \\\n",
      "timestamp                                          \n",
      "2025-08-26 00:00:00                    918.00878   \n",
      "2025-08-26 01:00:00                    605.62839   \n",
      "2025-08-26 02:00:00                    240.43375   \n",
      "2025-08-26 03:00:00                    218.99554   \n",
      "2025-08-26 04:00:00                    262.75770   \n",
      "\n",
      "                     taker_buy_quote_asset_volume  ignore  \n",
      "timestamp                                                  \n",
      "2025-08-26 00:00:00                  1.004644e+08       0  \n",
      "2025-08-26 01:00:00                  6.628742e+07       0  \n",
      "2025-08-26 02:00:00                  2.639689e+07       0  \n",
      "2025-08-26 03:00:00                  2.403629e+07       0  \n",
      "2025-08-26 04:00:00                  2.892025e+07       0  \n",
      "\n",
      "Dernières lignes:\n",
      "                          open       high        low      close     volume  \\\n",
      "timestamp                                                                    \n",
      "2025-08-31 19:00:00  109146.62  109167.84  108916.28  108930.00  160.04622   \n",
      "2025-08-31 20:00:00  108930.00  109118.00  108880.00  109117.99  190.53944   \n",
      "2025-08-31 21:00:00  109118.00  109118.00  108957.12  109037.29  156.22084   \n",
      "2025-08-31 22:00:00  109037.30  109230.00  108758.37  108900.46  245.89578   \n",
      "2025-08-31 23:00:00  108900.45  108917.36  108076.93  108246.35  697.48233   \n",
      "\n",
      "                           close_time  quote_asset_volume  number_of_trades  \\\n",
      "timestamp                                                                     \n",
      "2025-08-31 19:00:00  1756670399999999        1.745091e+07             34179   \n",
      "2025-08-31 20:00:00  1756673999999999        2.077488e+07             30465   \n",
      "2025-08-31 21:00:00  1756677599999999        1.703374e+07             26559   \n",
      "2025-08-31 22:00:00  1756681199999999        2.680511e+07             56536   \n",
      "2025-08-31 23:00:00  1756684799999999        7.559006e+07            121658   \n",
      "\n",
      "                     taker_buy_base_asset_volume  \\\n",
      "timestamp                                          \n",
      "2025-08-31 19:00:00                     60.91702   \n",
      "2025-08-31 20:00:00                    112.98363   \n",
      "2025-08-31 21:00:00                     77.50066   \n",
      "2025-08-31 22:00:00                    137.43865   \n",
      "2025-08-31 23:00:00                    313.29554   \n",
      "\n",
      "                     taker_buy_quote_asset_volume  ignore  \n",
      "timestamp                                                  \n",
      "2025-08-31 19:00:00                  6.641538e+06       0  \n",
      "2025-08-31 20:00:00                  1.231932e+07       0  \n",
      "2025-08-31 21:00:00                  8.449695e+06       0  \n",
      "2025-08-31 22:00:00                  1.498555e+07       0  \n",
      "2025-08-31 23:00:00                  3.394047e+07       0  \n"
     ]
    }
   ],
   "source": [
    "# TÉLÉCHARGEMENT DES DONNÉES\n",
    "\n",
    "print(f\"=== Récupération {SYMBOL} via Binance Vision ===\\n\")\n",
    "\n",
    "# Téléchargement des données\n",
    "btc_data = download_binance_vision_data(SYMBOL, INTERVAL, DUREE_JOURS)\n",
    "\n",
    "# Création du DataFrame\n",
    "df_btc = create_dataframe(btc_data, SYMBOL)\n",
    "\n",
    "if len(df_btc) > 0:\n",
    "    print(f\"\\nPremières lignes {SYMBOL} (intervalle {INTERVAL}):\")\n",
    "    print(df_btc.head())\n",
    "    \n",
    "    print(f\"\\nDernières lignes:\")\n",
    "    print(df_btc.tail())\n",
    "else:\n",
    "    print(f\"\\n⚠ Aucune donnée disponible pour {SYMBOL}\")\n",
    "    print(\"Suggestions:\")\n",
    "    print(\"- Vérifiez que le symbole est correct (ex: BTCUSDT, ETHUSDT)\")\n",
    "    print(\"- Essayez avec une période plus récente\")\n",
    "    print(\"- Certains intervalles peuvent ne pas être disponibles pour toutes les dates\")"
   ]
  },
  {
   "cell_type": "code",
   "execution_count": 38,
   "metadata": {},
   "outputs": [
    {
     "data": {
      "application/vnd.plotly.v1+json": {
       "config": {
        "plotlyServerURL": "https://plot.ly"
       },
       "data": [
        {
         "line": {
          "color": "#00c851",
          "width": 1
         },
         "mode": "lines",
         "name": "BTCUSDT Close",
         "type": "scatter",
         "x": [
          "2025-08-26T00:00:00.000000000",
          "2025-08-26T01:00:00.000000000",
          "2025-08-26T02:00:00.000000000",
          "2025-08-26T03:00:00.000000000",
          "2025-08-26T04:00:00.000000000",
          "2025-08-26T05:00:00.000000000",
          "2025-08-26T06:00:00.000000000",
          "2025-08-26T07:00:00.000000000",
          "2025-08-26T08:00:00.000000000",
          "2025-08-26T09:00:00.000000000",
          "2025-08-26T10:00:00.000000000",
          "2025-08-26T11:00:00.000000000",
          "2025-08-26T12:00:00.000000000",
          "2025-08-26T13:00:00.000000000",
          "2025-08-26T14:00:00.000000000",
          "2025-08-26T15:00:00.000000000",
          "2025-08-26T16:00:00.000000000",
          "2025-08-26T17:00:00.000000000",
          "2025-08-26T18:00:00.000000000",
          "2025-08-26T19:00:00.000000000",
          "2025-08-26T20:00:00.000000000",
          "2025-08-26T21:00:00.000000000",
          "2025-08-26T22:00:00.000000000",
          "2025-08-26T23:00:00.000000000",
          "2025-08-27T00:00:00.000000000",
          "2025-08-27T01:00:00.000000000",
          "2025-08-27T02:00:00.000000000",
          "2025-08-27T03:00:00.000000000",
          "2025-08-27T04:00:00.000000000",
          "2025-08-27T05:00:00.000000000",
          "2025-08-27T06:00:00.000000000",
          "2025-08-27T07:00:00.000000000",
          "2025-08-27T08:00:00.000000000",
          "2025-08-27T09:00:00.000000000",
          "2025-08-27T10:00:00.000000000",
          "2025-08-27T11:00:00.000000000",
          "2025-08-27T12:00:00.000000000",
          "2025-08-27T13:00:00.000000000",
          "2025-08-27T14:00:00.000000000",
          "2025-08-27T15:00:00.000000000",
          "2025-08-27T16:00:00.000000000",
          "2025-08-27T17:00:00.000000000",
          "2025-08-27T18:00:00.000000000",
          "2025-08-27T19:00:00.000000000",
          "2025-08-27T20:00:00.000000000",
          "2025-08-27T21:00:00.000000000",
          "2025-08-27T22:00:00.000000000",
          "2025-08-27T23:00:00.000000000",
          "2025-08-28T00:00:00.000000000",
          "2025-08-28T01:00:00.000000000",
          "2025-08-28T02:00:00.000000000",
          "2025-08-28T03:00:00.000000000",
          "2025-08-28T04:00:00.000000000",
          "2025-08-28T05:00:00.000000000",
          "2025-08-28T06:00:00.000000000",
          "2025-08-28T07:00:00.000000000",
          "2025-08-28T08:00:00.000000000",
          "2025-08-28T09:00:00.000000000",
          "2025-08-28T10:00:00.000000000",
          "2025-08-28T11:00:00.000000000",
          "2025-08-28T12:00:00.000000000",
          "2025-08-28T13:00:00.000000000",
          "2025-08-28T14:00:00.000000000",
          "2025-08-28T15:00:00.000000000",
          "2025-08-28T16:00:00.000000000",
          "2025-08-28T17:00:00.000000000",
          "2025-08-28T18:00:00.000000000",
          "2025-08-28T19:00:00.000000000",
          "2025-08-28T20:00:00.000000000",
          "2025-08-28T21:00:00.000000000",
          "2025-08-28T22:00:00.000000000",
          "2025-08-28T23:00:00.000000000",
          "2025-08-29T00:00:00.000000000",
          "2025-08-29T01:00:00.000000000",
          "2025-08-29T02:00:00.000000000",
          "2025-08-29T03:00:00.000000000",
          "2025-08-29T04:00:00.000000000",
          "2025-08-29T05:00:00.000000000",
          "2025-08-29T06:00:00.000000000",
          "2025-08-29T07:00:00.000000000",
          "2025-08-29T08:00:00.000000000",
          "2025-08-29T09:00:00.000000000",
          "2025-08-29T10:00:00.000000000",
          "2025-08-29T11:00:00.000000000",
          "2025-08-29T12:00:00.000000000",
          "2025-08-29T13:00:00.000000000",
          "2025-08-29T14:00:00.000000000",
          "2025-08-29T15:00:00.000000000",
          "2025-08-29T16:00:00.000000000",
          "2025-08-29T17:00:00.000000000",
          "2025-08-29T18:00:00.000000000",
          "2025-08-29T19:00:00.000000000",
          "2025-08-29T20:00:00.000000000",
          "2025-08-29T21:00:00.000000000",
          "2025-08-29T22:00:00.000000000",
          "2025-08-29T23:00:00.000000000",
          "2025-08-30T00:00:00.000000000",
          "2025-08-30T01:00:00.000000000",
          "2025-08-30T02:00:00.000000000",
          "2025-08-30T03:00:00.000000000",
          "2025-08-30T04:00:00.000000000",
          "2025-08-30T05:00:00.000000000",
          "2025-08-30T06:00:00.000000000",
          "2025-08-30T07:00:00.000000000",
          "2025-08-30T08:00:00.000000000",
          "2025-08-30T09:00:00.000000000",
          "2025-08-30T10:00:00.000000000",
          "2025-08-30T11:00:00.000000000",
          "2025-08-30T12:00:00.000000000",
          "2025-08-30T13:00:00.000000000",
          "2025-08-30T14:00:00.000000000",
          "2025-08-30T15:00:00.000000000",
          "2025-08-30T16:00:00.000000000",
          "2025-08-30T17:00:00.000000000",
          "2025-08-30T18:00:00.000000000",
          "2025-08-30T19:00:00.000000000",
          "2025-08-30T20:00:00.000000000",
          "2025-08-30T21:00:00.000000000",
          "2025-08-30T22:00:00.000000000",
          "2025-08-30T23:00:00.000000000",
          "2025-08-31T00:00:00.000000000",
          "2025-08-31T01:00:00.000000000",
          "2025-08-31T02:00:00.000000000",
          "2025-08-31T03:00:00.000000000",
          "2025-08-31T04:00:00.000000000",
          "2025-08-31T05:00:00.000000000",
          "2025-08-31T06:00:00.000000000",
          "2025-08-31T07:00:00.000000000",
          "2025-08-31T08:00:00.000000000",
          "2025-08-31T09:00:00.000000000",
          "2025-08-31T10:00:00.000000000",
          "2025-08-31T11:00:00.000000000",
          "2025-08-31T12:00:00.000000000",
          "2025-08-31T13:00:00.000000000",
          "2025-08-31T14:00:00.000000000",
          "2025-08-31T15:00:00.000000000",
          "2025-08-31T16:00:00.000000000",
          "2025-08-31T17:00:00.000000000",
          "2025-08-31T18:00:00.000000000",
          "2025-08-31T19:00:00.000000000",
          "2025-08-31T20:00:00.000000000",
          "2025-08-31T21:00:00.000000000",
          "2025-08-31T22:00:00.000000000",
          "2025-08-31T23:00:00.000000000"
         ],
         "xaxis": "x",
         "y": {
          "bdata": "4XoUrsOi+kAzMzMzk9T6QMP1KFzvyPpAXI/C9XjT+kCPwvUoQOH6QI/C9ShA5/pAFK5H4ULa+kAzMzMz8+36QB+F61Fg4fpA16NwPY7k+kCuR+F6iOj6QB+F61FI0/pAXI/C9Yzo+kD2KFyP6uD6QEjhehRi8fpAexSuRyXG+kAK16NwneT6QOxRuB5B2vpAexSuR3kG+0CuR+F6wCD7QHsUrkeZLftAmpmZmQk++0CPwvUoYFL7QFK4HoUzSftAuB6F68Uv+0DhehSuNyz7QLgehev1IftAZmZmZqIz+0Bcj8L1LD37QBSuR+HCMPtACtejcAEc+0AUrkfhUgj7QI/C9ShACvtArkfheqwN+0C4HoXr8Rf7QOxRuB6hLftAhetRuAYv+0BxPQrX8zf7QKRwPQp/TPtAAAAAAABY+0DD9Shcl1/7QD0K16OUbftAw/UoXLNU+0CkcD0KC137QOxRuB4xcvtApHA9CoM6+0A9CtejGDP7QI/C9SjgKftAhetRuK4u+0AzMzMz+0H7QAAAAADAOPtAj8L1KABY+0BmZmZmXpT7QHE9CtdTjftArkfhetyj+0ApXI/CoZ37QHE9CteHnvtA16NwPY6N+0CuR+F6eJ77QBSuR+HSkPtApHA9Cnel+0AAAAAAAIz7QFyPwvUQoPtArkfhemiC+0CkcD0Kl2z7QHE9Ctc/cPtACtejcFlv+0ApXI/C1VH7QHE9CtfnUftA7FG4HpFZ+0DXo3A9Sm37QGZmZmZue/tApHA9Co9k+0AAAAAA4Df7QOF6FK6/M/tA4XoUroNF+0AAAAAA4Dj7QIXrUbg2LftAMzMzM/cq+0BI4XoUNtz6QB+F61HAw/pAw/UoXMvM+kCPwvUogNv6QFyPwvUs4fpAAAAAAIAI+0DXo3A9IqP6QIXrUbhqavpA4XoUriN2+kCF61G4Gor6QI/C9Sgge/pAZmZmZhZn+kCPwvUoQGv6QK5H4XqsT/pAj8L1KCB6+kBSuB6Fr3X6QGZmZmaWdfpAw/UoXMtw+kBSuB6Ffzv6QI/C9ShgUPpAMzMzM0N5+kAK16NwOXn6QDMzMzOzc/pAAAAAAABy+kCPwvUoxH76QAAAAACAgfpASOF6FFp++kBxPQrXn3j6QI/C9SiAiPpAKVyPwm2E+kDXo3A9Mn/6QHE9Ctdfh/pA4XoUrl+U+kBSuB6F+5D6QMP1KFwLj/pAUrgehTuM+kB7FK5HxZH6QAAAAACAhvpAhetRuMqC+kC4HoXrMX/6QHsUrkcFkfpAexSuR9G0+kCPwvUoULf6QLgeheuNqvpACtejcH2q+kDsUbgeBZH6QJqZmZlNjfpAZmZmZsqK+kCPwvUoRIr6QIXrUbg6nfpAFK5H4bp9+kDhehSuA4H6QI/C9ShcdvpAMzMzM1Nx+kAfhetRIHj6QHsUrkc1e/pApHA9CiuR+kA9CtejrJf6QLgehesdnPpAuB6F66ml+kAAAAAAIJj6QHE9Ctffo/pAPQrXo9Se+kDD9ShcR5b6QJqZmZllbfpA",
          "dtype": "f8"
         },
         "yaxis": "y"
        },
        {
         "line": {
          "color": "blue",
          "width": 1
         },
         "mode": "lines",
         "name": "MA 5 (shifted)",
         "type": "scatter",
         "x": [
          "2025-08-26T00:00:00.000000000",
          "2025-08-26T01:00:00.000000000",
          "2025-08-26T02:00:00.000000000",
          "2025-08-26T03:00:00.000000000",
          "2025-08-26T04:00:00.000000000",
          "2025-08-26T05:00:00.000000000",
          "2025-08-26T06:00:00.000000000",
          "2025-08-26T07:00:00.000000000",
          "2025-08-26T08:00:00.000000000",
          "2025-08-26T09:00:00.000000000",
          "2025-08-26T10:00:00.000000000",
          "2025-08-26T11:00:00.000000000",
          "2025-08-26T12:00:00.000000000",
          "2025-08-26T13:00:00.000000000",
          "2025-08-26T14:00:00.000000000",
          "2025-08-26T15:00:00.000000000",
          "2025-08-26T16:00:00.000000000",
          "2025-08-26T17:00:00.000000000",
          "2025-08-26T18:00:00.000000000",
          "2025-08-26T19:00:00.000000000",
          "2025-08-26T20:00:00.000000000",
          "2025-08-26T21:00:00.000000000",
          "2025-08-26T22:00:00.000000000",
          "2025-08-26T23:00:00.000000000",
          "2025-08-27T00:00:00.000000000",
          "2025-08-27T01:00:00.000000000",
          "2025-08-27T02:00:00.000000000",
          "2025-08-27T03:00:00.000000000",
          "2025-08-27T04:00:00.000000000",
          "2025-08-27T05:00:00.000000000",
          "2025-08-27T06:00:00.000000000",
          "2025-08-27T07:00:00.000000000",
          "2025-08-27T08:00:00.000000000",
          "2025-08-27T09:00:00.000000000",
          "2025-08-27T10:00:00.000000000",
          "2025-08-27T11:00:00.000000000",
          "2025-08-27T12:00:00.000000000",
          "2025-08-27T13:00:00.000000000",
          "2025-08-27T14:00:00.000000000",
          "2025-08-27T15:00:00.000000000",
          "2025-08-27T16:00:00.000000000",
          "2025-08-27T17:00:00.000000000",
          "2025-08-27T18:00:00.000000000",
          "2025-08-27T19:00:00.000000000",
          "2025-08-27T20:00:00.000000000",
          "2025-08-27T21:00:00.000000000",
          "2025-08-27T22:00:00.000000000",
          "2025-08-27T23:00:00.000000000",
          "2025-08-28T00:00:00.000000000",
          "2025-08-28T01:00:00.000000000",
          "2025-08-28T02:00:00.000000000",
          "2025-08-28T03:00:00.000000000",
          "2025-08-28T04:00:00.000000000",
          "2025-08-28T05:00:00.000000000",
          "2025-08-28T06:00:00.000000000",
          "2025-08-28T07:00:00.000000000",
          "2025-08-28T08:00:00.000000000",
          "2025-08-28T09:00:00.000000000",
          "2025-08-28T10:00:00.000000000",
          "2025-08-28T11:00:00.000000000",
          "2025-08-28T12:00:00.000000000",
          "2025-08-28T13:00:00.000000000",
          "2025-08-28T14:00:00.000000000",
          "2025-08-28T15:00:00.000000000",
          "2025-08-28T16:00:00.000000000",
          "2025-08-28T17:00:00.000000000",
          "2025-08-28T18:00:00.000000000",
          "2025-08-28T19:00:00.000000000",
          "2025-08-28T20:00:00.000000000",
          "2025-08-28T21:00:00.000000000",
          "2025-08-28T22:00:00.000000000",
          "2025-08-28T23:00:00.000000000",
          "2025-08-29T00:00:00.000000000",
          "2025-08-29T01:00:00.000000000",
          "2025-08-29T02:00:00.000000000",
          "2025-08-29T03:00:00.000000000",
          "2025-08-29T04:00:00.000000000",
          "2025-08-29T05:00:00.000000000",
          "2025-08-29T06:00:00.000000000",
          "2025-08-29T07:00:00.000000000",
          "2025-08-29T08:00:00.000000000",
          "2025-08-29T09:00:00.000000000",
          "2025-08-29T10:00:00.000000000",
          "2025-08-29T11:00:00.000000000",
          "2025-08-29T12:00:00.000000000",
          "2025-08-29T13:00:00.000000000",
          "2025-08-29T14:00:00.000000000",
          "2025-08-29T15:00:00.000000000",
          "2025-08-29T16:00:00.000000000",
          "2025-08-29T17:00:00.000000000",
          "2025-08-29T18:00:00.000000000",
          "2025-08-29T19:00:00.000000000",
          "2025-08-29T20:00:00.000000000",
          "2025-08-29T21:00:00.000000000",
          "2025-08-29T22:00:00.000000000",
          "2025-08-29T23:00:00.000000000",
          "2025-08-30T00:00:00.000000000",
          "2025-08-30T01:00:00.000000000",
          "2025-08-30T02:00:00.000000000",
          "2025-08-30T03:00:00.000000000",
          "2025-08-30T04:00:00.000000000",
          "2025-08-30T05:00:00.000000000",
          "2025-08-30T06:00:00.000000000",
          "2025-08-30T07:00:00.000000000",
          "2025-08-30T08:00:00.000000000",
          "2025-08-30T09:00:00.000000000",
          "2025-08-30T10:00:00.000000000",
          "2025-08-30T11:00:00.000000000",
          "2025-08-30T12:00:00.000000000",
          "2025-08-30T13:00:00.000000000",
          "2025-08-30T14:00:00.000000000",
          "2025-08-30T15:00:00.000000000",
          "2025-08-30T16:00:00.000000000",
          "2025-08-30T17:00:00.000000000",
          "2025-08-30T18:00:00.000000000",
          "2025-08-30T19:00:00.000000000",
          "2025-08-30T20:00:00.000000000",
          "2025-08-30T21:00:00.000000000",
          "2025-08-30T22:00:00.000000000",
          "2025-08-30T23:00:00.000000000",
          "2025-08-31T00:00:00.000000000",
          "2025-08-31T01:00:00.000000000",
          "2025-08-31T02:00:00.000000000",
          "2025-08-31T03:00:00.000000000",
          "2025-08-31T04:00:00.000000000",
          "2025-08-31T05:00:00.000000000",
          "2025-08-31T06:00:00.000000000",
          "2025-08-31T07:00:00.000000000",
          "2025-08-31T08:00:00.000000000",
          "2025-08-31T09:00:00.000000000",
          "2025-08-31T10:00:00.000000000",
          "2025-08-31T11:00:00.000000000",
          "2025-08-31T12:00:00.000000000",
          "2025-08-31T13:00:00.000000000",
          "2025-08-31T14:00:00.000000000",
          "2025-08-31T15:00:00.000000000",
          "2025-08-31T16:00:00.000000000",
          "2025-08-31T17:00:00.000000000",
          "2025-08-31T18:00:00.000000000",
          "2025-08-31T19:00:00.000000000",
          "2025-08-31T20:00:00.000000000",
          "2025-08-31T21:00:00.000000000",
          "2025-08-31T22:00:00.000000000",
          "2025-08-31T23:00:00.000000000"
         ],
         "xaxis": "x",
         "y": {
          "bdata": "AAAAAAAA+H8AAAAAAAD4f/P91HiZyvpAFtnO90vY+kB2vp8ab9n6QMDKoUXW4PpAGi/dJJ7j+kDC9ShcR+T6QDDdJAaJ5PpAy6FFtiPj+kAGgZVDD+L6QMuhRbb34fpArkfheojk+kBwPQrXp936QAaBlUMf4fpA8KfGS0Pe+kDYo3A9xuX6QFK4HoU/7/pAHoXrUfAD+0BwEoPA0hX7QFuPwvXYLftAIrByaDE7+0Aj2/l+Mj77QJ7vp8brPftA1qNwPU44+0A1XrpJKDL7QGq8dJPAL/tASgwCK/Mv+0DrUbgetSz7QJhuEoOUJ/tAbef7qU0f+0CwcmiRzRX7QNAi2/nWEPtAZTvfT10U+0ATrkfhGhz7QEJg5dA+JftA2s73U88x+0Do+6nxnj77QEa28/2cSPtAnu+nxh9V+0DiehSu31r7QBWuR+EuXvtAQ4ts52tj+0AK16NwAVz7QKVwPQpPUPtAZmZmZr5H+0D6fmq8eD77QAisHFrUNPtAGi/dJHo0+0D4U+Ol2zv7QL10kxgoUftAuB6F6xVk+0A2iUFgqXf7QA0CK4fWi/tAbef7qfGZ+0C28/3UlJj7QPYoXI8CnPtAcD0K1zOY+0CKQWDlxJn7QKabxCAQlvtAWmQ738OZ+0CNl24SJ5T7QEOLbOfnjPtABoGVQ0OC+0AIrBxaiHz7QP7UeOnibPtAJQaBlS9j+0CamZmZYV/7QEjhehTKXvtAJjEIrDRh+0DazvdT82T7QPYoXI++X/tAwMqhRS5Y+0AqXI/COVD7QEjhehTqQvtA2/l+atg3+0B+arx0QzX7QMZLN4nBI/tAbef7qc0J+0Atsp3vL/T6QGIQWDnY4/pABVYOLRbV+kAqXI/C8d36QLXIdr5r1/pAQmDl0L7D+kDrUbgeea/6QI2XbhIPnvpAEFg5tMiB+kCTGARWxnX6QC7dJAbxdfpAJQaBlT9u+kDz/dR4DWv6QOb7qfH2afpATmIQWN1s+kC+nxov+W36QHjpJjHwafpA4E+Nl5Zh+kBANV66TWL6QC2yne8HY/pAEFg5tJxj+kAzMzMzg276QGZmZmbKd/pAkML1KHB5+kCdxCCwdnr6QEJg5dBye/pAK4cW2fJ/+kDjpZvEFIH6QEJg5dCegPpA46WbxGyC+kDGSzeJ+Yf6QIYW2c6rifpA2s73U8uL+kBYObTIZo76QI2XbhJ7kPpA+n5qvLSN+kAFVg4t3or6QJvEILCyh/pAcD0K16eI+kDWo3A9qo/6QPP91HhtmfpAZTvfT2Gh+kB1kxgECqr6QIts5/sJqvpAK4cW2SKi+kDwp8ZLO5n6QBov3STGkvpAMzMzMx+Q+kA730+NQ4z6QH0/NV7OifpAHoXrUbiF+kDYzvdTu4D6QPhT46VPefpADQIrh854+kCamZmZCXz6QPCnxkuzgvpA1qNwPUKL+kAoXI/CXZT6QKrx0k0mmvpA001iEOSd+kA6tMh2Up/6QDvfT40nnvpAm8QgsOaS+kAAAAAAAAD4fwAAAAAAAPh/",
          "dtype": "f8"
         },
         "yaxis": "y"
        },
        {
         "line": {
          "color": "red",
          "width": 1
         },
         "mode": "lines",
         "name": "Close - MA (shifted)",
         "type": "scatter",
         "x": [
          "2025-08-26T00:00:00.000000000",
          "2025-08-26T01:00:00.000000000",
          "2025-08-26T02:00:00.000000000",
          "2025-08-26T03:00:00.000000000",
          "2025-08-26T04:00:00.000000000",
          "2025-08-26T05:00:00.000000000",
          "2025-08-26T06:00:00.000000000",
          "2025-08-26T07:00:00.000000000",
          "2025-08-26T08:00:00.000000000",
          "2025-08-26T09:00:00.000000000",
          "2025-08-26T10:00:00.000000000",
          "2025-08-26T11:00:00.000000000",
          "2025-08-26T12:00:00.000000000",
          "2025-08-26T13:00:00.000000000",
          "2025-08-26T14:00:00.000000000",
          "2025-08-26T15:00:00.000000000",
          "2025-08-26T16:00:00.000000000",
          "2025-08-26T17:00:00.000000000",
          "2025-08-26T18:00:00.000000000",
          "2025-08-26T19:00:00.000000000",
          "2025-08-26T20:00:00.000000000",
          "2025-08-26T21:00:00.000000000",
          "2025-08-26T22:00:00.000000000",
          "2025-08-26T23:00:00.000000000",
          "2025-08-27T00:00:00.000000000",
          "2025-08-27T01:00:00.000000000",
          "2025-08-27T02:00:00.000000000",
          "2025-08-27T03:00:00.000000000",
          "2025-08-27T04:00:00.000000000",
          "2025-08-27T05:00:00.000000000",
          "2025-08-27T06:00:00.000000000",
          "2025-08-27T07:00:00.000000000",
          "2025-08-27T08:00:00.000000000",
          "2025-08-27T09:00:00.000000000",
          "2025-08-27T10:00:00.000000000",
          "2025-08-27T11:00:00.000000000",
          "2025-08-27T12:00:00.000000000",
          "2025-08-27T13:00:00.000000000",
          "2025-08-27T14:00:00.000000000",
          "2025-08-27T15:00:00.000000000",
          "2025-08-27T16:00:00.000000000",
          "2025-08-27T17:00:00.000000000",
          "2025-08-27T18:00:00.000000000",
          "2025-08-27T19:00:00.000000000",
          "2025-08-27T20:00:00.000000000",
          "2025-08-27T21:00:00.000000000",
          "2025-08-27T22:00:00.000000000",
          "2025-08-27T23:00:00.000000000",
          "2025-08-28T00:00:00.000000000",
          "2025-08-28T01:00:00.000000000",
          "2025-08-28T02:00:00.000000000",
          "2025-08-28T03:00:00.000000000",
          "2025-08-28T04:00:00.000000000",
          "2025-08-28T05:00:00.000000000",
          "2025-08-28T06:00:00.000000000",
          "2025-08-28T07:00:00.000000000",
          "2025-08-28T08:00:00.000000000",
          "2025-08-28T09:00:00.000000000",
          "2025-08-28T10:00:00.000000000",
          "2025-08-28T11:00:00.000000000",
          "2025-08-28T12:00:00.000000000",
          "2025-08-28T13:00:00.000000000",
          "2025-08-28T14:00:00.000000000",
          "2025-08-28T15:00:00.000000000",
          "2025-08-28T16:00:00.000000000",
          "2025-08-28T17:00:00.000000000",
          "2025-08-28T18:00:00.000000000",
          "2025-08-28T19:00:00.000000000",
          "2025-08-28T20:00:00.000000000",
          "2025-08-28T21:00:00.000000000",
          "2025-08-28T22:00:00.000000000",
          "2025-08-28T23:00:00.000000000",
          "2025-08-29T00:00:00.000000000",
          "2025-08-29T01:00:00.000000000",
          "2025-08-29T02:00:00.000000000",
          "2025-08-29T03:00:00.000000000",
          "2025-08-29T04:00:00.000000000",
          "2025-08-29T05:00:00.000000000",
          "2025-08-29T06:00:00.000000000",
          "2025-08-29T07:00:00.000000000",
          "2025-08-29T08:00:00.000000000",
          "2025-08-29T09:00:00.000000000",
          "2025-08-29T10:00:00.000000000",
          "2025-08-29T11:00:00.000000000",
          "2025-08-29T12:00:00.000000000",
          "2025-08-29T13:00:00.000000000",
          "2025-08-29T14:00:00.000000000",
          "2025-08-29T15:00:00.000000000",
          "2025-08-29T16:00:00.000000000",
          "2025-08-29T17:00:00.000000000",
          "2025-08-29T18:00:00.000000000",
          "2025-08-29T19:00:00.000000000",
          "2025-08-29T20:00:00.000000000",
          "2025-08-29T21:00:00.000000000",
          "2025-08-29T22:00:00.000000000",
          "2025-08-29T23:00:00.000000000",
          "2025-08-30T00:00:00.000000000",
          "2025-08-30T01:00:00.000000000",
          "2025-08-30T02:00:00.000000000",
          "2025-08-30T03:00:00.000000000",
          "2025-08-30T04:00:00.000000000",
          "2025-08-30T05:00:00.000000000",
          "2025-08-30T06:00:00.000000000",
          "2025-08-30T07:00:00.000000000",
          "2025-08-30T08:00:00.000000000",
          "2025-08-30T09:00:00.000000000",
          "2025-08-30T10:00:00.000000000",
          "2025-08-30T11:00:00.000000000",
          "2025-08-30T12:00:00.000000000",
          "2025-08-30T13:00:00.000000000",
          "2025-08-30T14:00:00.000000000",
          "2025-08-30T15:00:00.000000000",
          "2025-08-30T16:00:00.000000000",
          "2025-08-30T17:00:00.000000000",
          "2025-08-30T18:00:00.000000000",
          "2025-08-30T19:00:00.000000000",
          "2025-08-30T20:00:00.000000000",
          "2025-08-30T21:00:00.000000000",
          "2025-08-30T22:00:00.000000000",
          "2025-08-30T23:00:00.000000000",
          "2025-08-31T00:00:00.000000000",
          "2025-08-31T01:00:00.000000000",
          "2025-08-31T02:00:00.000000000",
          "2025-08-31T03:00:00.000000000",
          "2025-08-31T04:00:00.000000000",
          "2025-08-31T05:00:00.000000000",
          "2025-08-31T06:00:00.000000000",
          "2025-08-31T07:00:00.000000000",
          "2025-08-31T08:00:00.000000000",
          "2025-08-31T09:00:00.000000000",
          "2025-08-31T10:00:00.000000000",
          "2025-08-31T11:00:00.000000000",
          "2025-08-31T12:00:00.000000000",
          "2025-08-31T13:00:00.000000000",
          "2025-08-31T14:00:00.000000000",
          "2025-08-31T15:00:00.000000000",
          "2025-08-31T16:00:00.000000000",
          "2025-08-31T17:00:00.000000000",
          "2025-08-31T18:00:00.000000000",
          "2025-08-31T19:00:00.000000000",
          "2025-08-31T20:00:00.000000000",
          "2025-08-31T21:00:00.000000000",
          "2025-08-31T22:00:00.000000000",
          "2025-08-31T23:00:00.000000000"
         ],
         "xaxis": "x",
         "y": {
          "bdata": "AAAAAAAA+H8AAAAAAAD4fwAAg8DKoTrAAOgmMQhMU8AAZBBYOURfQAA830+Np1lAAAwCK4e2YsAA4noUrldjQACIwMqhRUnAAMAgsHKoNkAAoBov3eRZQABYObTIXm3AALgehesRUEAAMFyPwhVKQABCYOXQQnBAAHWTGAQeeMAA4MzMzIwywABmZmZm/nTAAOh6FK5HREAAfGq8dNtlQAAAcD0K1w/AAMBLN4nBRkAAbOf7qS10QABoke18j2ZAADwK16MQYcAAUI2XbsJXwABkO99PlWvAAODQItt5TUAAcT0K13dwQAD4fmq8XGJAABiDwMphSsAAOIlBYPVqwAAEgZVDW1rAANzO91PDWsAAbD0K16NQwABU46WbxGBAAKgaL91ERsAA3Pl+aqxawADw0k1iEE9AABCDwMoBR0AAhOtRuN5SQABQuB6Fy25AAAArhxZxbcAAoJmZmZkwQICjcD0K8YBAAITrUbh2asAAeukmMcBmwADy0k1i6GXAAFQOLbItV8AA7Hw/NX5YQAC9dJMYaHjAAFK4HoUraMAAMN0kBrV8QABAtvP91DdAAILAyqHVY0AAzKFFtjNUQADYo3A9KkRAADIzMzNLZcAAkBgEVs5SQABItvP99FTAAJQYBFZmZ0AAGi/dJE5gwAAZBFYOKXNAAABU46WbAkAAyHa+n+JvwACYQ4ts50pAAMqhRbZTaEAA4noUrhdrwACuR+F6xGnAAOh8PzWOXsAA+qnx0q1gQABwPQrXr3tAAMhLN4nBaEAAKlyPwll4wADOzMzMVG7AAAwCK4dWa0AAEKwcWuRMQAB+PzVe6mJAAOOlm8SUgEAA5dAi2/l3wIChRbbzC4DAAITAyqGVYMAA2MzMzIxDwABOjZdugmNAgO+nxkswkUAAKFyPwq1owAAEVg4t0onAAF66SQxKZ8AA8tJNYlR0QACElUOLvFRAAPx+arykXMAAAE5iEFgJQAA4tMh2SnrAAILAyqGFakAAUGIQWNleQADc+X5qTGdAAMZLN4lpbkAAd76fGmeDwACe76fGp3LAACPb+X6mdUAArkfhemxlQADMzMzMXFDAAEAK16PAXcAAyPdT4zVRQAD4fmq8NFhAADBeukmMOcAA5NAi2+lgwAA0iUFghV9AADCyne8HQEAA3k+Nl45hwACoyHa+X0LAAA5YObQoYUAA0PdT46VEQACgHFpk+zbAAIBqvHSTN8AA2Pl+apxbQACwSQwCKzPAAKxH4Xp0V8AAHoXrUXhwwADw0k1i0GDAABbZzvdvc0AANF66SYxqQACgRbbzfSBAAL6fGi+1YEAACKwcWmxgwAAAVg4t4lXAADQzMzNTVcAAwMqhRfY/wAAIrBxabHNAAChcj8L1X8AAQAIrhxYSQABIi2znm0fAAGg730/tXcAA2KNwPUpPwADUTWIQ+F3AADgzMzOjV0AAqHA9CndKQADg0CLbeT9AAJRDi2wXX0AA6NAi28lcwADYeOkm4VZAAESLbOfbZ0AAAAAAAAD4fwAAAAAAAPh/",
          "dtype": "f8"
         },
         "yaxis": "y2"
        }
       ],
       "layout": {
        "height": 800,
        "hovermode": "x unified",
        "legend": {
         "orientation": "h",
         "x": 1,
         "xanchor": "right",
         "y": 1.02,
         "yanchor": "bottom"
        },
        "margin": {
         "b": 120,
         "l": 60,
         "r": 60,
         "t": 80
        },
        "shapes": [
         {
          "line": {
           "color": "gray",
           "dash": "dot",
           "width": 1
          },
          "type": "line",
          "x0": 0,
          "x1": 1,
          "xref": "x domain",
          "y0": 0,
          "y1": 0,
          "yref": "y2"
         }
        ],
        "showlegend": false,
        "template": {
         "data": {
          "bar": [
           {
            "error_x": {
             "color": "#2a3f5f"
            },
            "error_y": {
             "color": "#2a3f5f"
            },
            "marker": {
             "line": {
              "color": "#E5ECF6",
              "width": 0.5
             },
             "pattern": {
              "fillmode": "overlay",
              "size": 10,
              "solidity": 0.2
             }
            },
            "type": "bar"
           }
          ],
          "barpolar": [
           {
            "marker": {
             "line": {
              "color": "#E5ECF6",
              "width": 0.5
             },
             "pattern": {
              "fillmode": "overlay",
              "size": 10,
              "solidity": 0.2
             }
            },
            "type": "barpolar"
           }
          ],
          "carpet": [
           {
            "aaxis": {
             "endlinecolor": "#2a3f5f",
             "gridcolor": "white",
             "linecolor": "white",
             "minorgridcolor": "white",
             "startlinecolor": "#2a3f5f"
            },
            "baxis": {
             "endlinecolor": "#2a3f5f",
             "gridcolor": "white",
             "linecolor": "white",
             "minorgridcolor": "white",
             "startlinecolor": "#2a3f5f"
            },
            "type": "carpet"
           }
          ],
          "choropleth": [
           {
            "colorbar": {
             "outlinewidth": 0,
             "ticks": ""
            },
            "type": "choropleth"
           }
          ],
          "contour": [
           {
            "colorbar": {
             "outlinewidth": 0,
             "ticks": ""
            },
            "colorscale": [
             [
              0,
              "#0d0887"
             ],
             [
              0.1111111111111111,
              "#46039f"
             ],
             [
              0.2222222222222222,
              "#7201a8"
             ],
             [
              0.3333333333333333,
              "#9c179e"
             ],
             [
              0.4444444444444444,
              "#bd3786"
             ],
             [
              0.5555555555555556,
              "#d8576b"
             ],
             [
              0.6666666666666666,
              "#ed7953"
             ],
             [
              0.7777777777777778,
              "#fb9f3a"
             ],
             [
              0.8888888888888888,
              "#fdca26"
             ],
             [
              1,
              "#f0f921"
             ]
            ],
            "type": "contour"
           }
          ],
          "contourcarpet": [
           {
            "colorbar": {
             "outlinewidth": 0,
             "ticks": ""
            },
            "type": "contourcarpet"
           }
          ],
          "heatmap": [
           {
            "colorbar": {
             "outlinewidth": 0,
             "ticks": ""
            },
            "colorscale": [
             [
              0,
              "#0d0887"
             ],
             [
              0.1111111111111111,
              "#46039f"
             ],
             [
              0.2222222222222222,
              "#7201a8"
             ],
             [
              0.3333333333333333,
              "#9c179e"
             ],
             [
              0.4444444444444444,
              "#bd3786"
             ],
             [
              0.5555555555555556,
              "#d8576b"
             ],
             [
              0.6666666666666666,
              "#ed7953"
             ],
             [
              0.7777777777777778,
              "#fb9f3a"
             ],
             [
              0.8888888888888888,
              "#fdca26"
             ],
             [
              1,
              "#f0f921"
             ]
            ],
            "type": "heatmap"
           }
          ],
          "histogram": [
           {
            "marker": {
             "pattern": {
              "fillmode": "overlay",
              "size": 10,
              "solidity": 0.2
             }
            },
            "type": "histogram"
           }
          ],
          "histogram2d": [
           {
            "colorbar": {
             "outlinewidth": 0,
             "ticks": ""
            },
            "colorscale": [
             [
              0,
              "#0d0887"
             ],
             [
              0.1111111111111111,
              "#46039f"
             ],
             [
              0.2222222222222222,
              "#7201a8"
             ],
             [
              0.3333333333333333,
              "#9c179e"
             ],
             [
              0.4444444444444444,
              "#bd3786"
             ],
             [
              0.5555555555555556,
              "#d8576b"
             ],
             [
              0.6666666666666666,
              "#ed7953"
             ],
             [
              0.7777777777777778,
              "#fb9f3a"
             ],
             [
              0.8888888888888888,
              "#fdca26"
             ],
             [
              1,
              "#f0f921"
             ]
            ],
            "type": "histogram2d"
           }
          ],
          "histogram2dcontour": [
           {
            "colorbar": {
             "outlinewidth": 0,
             "ticks": ""
            },
            "colorscale": [
             [
              0,
              "#0d0887"
             ],
             [
              0.1111111111111111,
              "#46039f"
             ],
             [
              0.2222222222222222,
              "#7201a8"
             ],
             [
              0.3333333333333333,
              "#9c179e"
             ],
             [
              0.4444444444444444,
              "#bd3786"
             ],
             [
              0.5555555555555556,
              "#d8576b"
             ],
             [
              0.6666666666666666,
              "#ed7953"
             ],
             [
              0.7777777777777778,
              "#fb9f3a"
             ],
             [
              0.8888888888888888,
              "#fdca26"
             ],
             [
              1,
              "#f0f921"
             ]
            ],
            "type": "histogram2dcontour"
           }
          ],
          "mesh3d": [
           {
            "colorbar": {
             "outlinewidth": 0,
             "ticks": ""
            },
            "type": "mesh3d"
           }
          ],
          "parcoords": [
           {
            "line": {
             "colorbar": {
              "outlinewidth": 0,
              "ticks": ""
             }
            },
            "type": "parcoords"
           }
          ],
          "pie": [
           {
            "automargin": true,
            "type": "pie"
           }
          ],
          "scatter": [
           {
            "fillpattern": {
             "fillmode": "overlay",
             "size": 10,
             "solidity": 0.2
            },
            "type": "scatter"
           }
          ],
          "scatter3d": [
           {
            "line": {
             "colorbar": {
              "outlinewidth": 0,
              "ticks": ""
             }
            },
            "marker": {
             "colorbar": {
              "outlinewidth": 0,
              "ticks": ""
             }
            },
            "type": "scatter3d"
           }
          ],
          "scattercarpet": [
           {
            "marker": {
             "colorbar": {
              "outlinewidth": 0,
              "ticks": ""
             }
            },
            "type": "scattercarpet"
           }
          ],
          "scattergeo": [
           {
            "marker": {
             "colorbar": {
              "outlinewidth": 0,
              "ticks": ""
             }
            },
            "type": "scattergeo"
           }
          ],
          "scattergl": [
           {
            "marker": {
             "colorbar": {
              "outlinewidth": 0,
              "ticks": ""
             }
            },
            "type": "scattergl"
           }
          ],
          "scattermap": [
           {
            "marker": {
             "colorbar": {
              "outlinewidth": 0,
              "ticks": ""
             }
            },
            "type": "scattermap"
           }
          ],
          "scattermapbox": [
           {
            "marker": {
             "colorbar": {
              "outlinewidth": 0,
              "ticks": ""
             }
            },
            "type": "scattermapbox"
           }
          ],
          "scatterpolar": [
           {
            "marker": {
             "colorbar": {
              "outlinewidth": 0,
              "ticks": ""
             }
            },
            "type": "scatterpolar"
           }
          ],
          "scatterpolargl": [
           {
            "marker": {
             "colorbar": {
              "outlinewidth": 0,
              "ticks": ""
             }
            },
            "type": "scatterpolargl"
           }
          ],
          "scatterternary": [
           {
            "marker": {
             "colorbar": {
              "outlinewidth": 0,
              "ticks": ""
             }
            },
            "type": "scatterternary"
           }
          ],
          "surface": [
           {
            "colorbar": {
             "outlinewidth": 0,
             "ticks": ""
            },
            "colorscale": [
             [
              0,
              "#0d0887"
             ],
             [
              0.1111111111111111,
              "#46039f"
             ],
             [
              0.2222222222222222,
              "#7201a8"
             ],
             [
              0.3333333333333333,
              "#9c179e"
             ],
             [
              0.4444444444444444,
              "#bd3786"
             ],
             [
              0.5555555555555556,
              "#d8576b"
             ],
             [
              0.6666666666666666,
              "#ed7953"
             ],
             [
              0.7777777777777778,
              "#fb9f3a"
             ],
             [
              0.8888888888888888,
              "#fdca26"
             ],
             [
              1,
              "#f0f921"
             ]
            ],
            "type": "surface"
           }
          ],
          "table": [
           {
            "cells": {
             "fill": {
              "color": "#EBF0F8"
             },
             "line": {
              "color": "white"
             }
            },
            "header": {
             "fill": {
              "color": "#C8D4E3"
             },
             "line": {
              "color": "white"
             }
            },
            "type": "table"
           }
          ]
         },
         "layout": {
          "annotationdefaults": {
           "arrowcolor": "#2a3f5f",
           "arrowhead": 0,
           "arrowwidth": 1
          },
          "autotypenumbers": "strict",
          "coloraxis": {
           "colorbar": {
            "outlinewidth": 0,
            "ticks": ""
           }
          },
          "colorscale": {
           "diverging": [
            [
             0,
             "#8e0152"
            ],
            [
             0.1,
             "#c51b7d"
            ],
            [
             0.2,
             "#de77ae"
            ],
            [
             0.3,
             "#f1b6da"
            ],
            [
             0.4,
             "#fde0ef"
            ],
            [
             0.5,
             "#f7f7f7"
            ],
            [
             0.6,
             "#e6f5d0"
            ],
            [
             0.7,
             "#b8e186"
            ],
            [
             0.8,
             "#7fbc41"
            ],
            [
             0.9,
             "#4d9221"
            ],
            [
             1,
             "#276419"
            ]
           ],
           "sequential": [
            [
             0,
             "#0d0887"
            ],
            [
             0.1111111111111111,
             "#46039f"
            ],
            [
             0.2222222222222222,
             "#7201a8"
            ],
            [
             0.3333333333333333,
             "#9c179e"
            ],
            [
             0.4444444444444444,
             "#bd3786"
            ],
            [
             0.5555555555555556,
             "#d8576b"
            ],
            [
             0.6666666666666666,
             "#ed7953"
            ],
            [
             0.7777777777777778,
             "#fb9f3a"
            ],
            [
             0.8888888888888888,
             "#fdca26"
            ],
            [
             1,
             "#f0f921"
            ]
           ],
           "sequentialminus": [
            [
             0,
             "#0d0887"
            ],
            [
             0.1111111111111111,
             "#46039f"
            ],
            [
             0.2222222222222222,
             "#7201a8"
            ],
            [
             0.3333333333333333,
             "#9c179e"
            ],
            [
             0.4444444444444444,
             "#bd3786"
            ],
            [
             0.5555555555555556,
             "#d8576b"
            ],
            [
             0.6666666666666666,
             "#ed7953"
            ],
            [
             0.7777777777777778,
             "#fb9f3a"
            ],
            [
             0.8888888888888888,
             "#fdca26"
            ],
            [
             1,
             "#f0f921"
            ]
           ]
          },
          "colorway": [
           "#636efa",
           "#EF553B",
           "#00cc96",
           "#ab63fa",
           "#FFA15A",
           "#19d3f3",
           "#FF6692",
           "#B6E880",
           "#FF97FF",
           "#FECB52"
          ],
          "font": {
           "color": "#2a3f5f"
          },
          "geo": {
           "bgcolor": "white",
           "lakecolor": "white",
           "landcolor": "#E5ECF6",
           "showlakes": true,
           "showland": true,
           "subunitcolor": "white"
          },
          "hoverlabel": {
           "align": "left"
          },
          "hovermode": "closest",
          "mapbox": {
           "style": "light"
          },
          "paper_bgcolor": "white",
          "plot_bgcolor": "#E5ECF6",
          "polar": {
           "angularaxis": {
            "gridcolor": "white",
            "linecolor": "white",
            "ticks": ""
           },
           "bgcolor": "#E5ECF6",
           "radialaxis": {
            "gridcolor": "white",
            "linecolor": "white",
            "ticks": ""
           }
          },
          "scene": {
           "xaxis": {
            "backgroundcolor": "#E5ECF6",
            "gridcolor": "white",
            "gridwidth": 2,
            "linecolor": "white",
            "showbackground": true,
            "ticks": "",
            "zerolinecolor": "white"
           },
           "yaxis": {
            "backgroundcolor": "#E5ECF6",
            "gridcolor": "white",
            "gridwidth": 2,
            "linecolor": "white",
            "showbackground": true,
            "ticks": "",
            "zerolinecolor": "white"
           },
           "zaxis": {
            "backgroundcolor": "#E5ECF6",
            "gridcolor": "white",
            "gridwidth": 2,
            "linecolor": "white",
            "showbackground": true,
            "ticks": "",
            "zerolinecolor": "white"
           }
          },
          "shapedefaults": {
           "line": {
            "color": "#2a3f5f"
           }
          },
          "ternary": {
           "aaxis": {
            "gridcolor": "white",
            "linecolor": "white",
            "ticks": ""
           },
           "baxis": {
            "gridcolor": "white",
            "linecolor": "white",
            "ticks": ""
           },
           "bgcolor": "#E5ECF6",
           "caxis": {
            "gridcolor": "white",
            "linecolor": "white",
            "ticks": ""
           }
          },
          "title": {
           "x": 0.05
          },
          "xaxis": {
           "automargin": true,
           "gridcolor": "white",
           "linecolor": "white",
           "ticks": "",
           "title": {
            "standoff": 15
           },
           "zerolinecolor": "white",
           "zerolinewidth": 2
          },
          "yaxis": {
           "automargin": true,
           "gridcolor": "white",
           "linecolor": "white",
           "ticks": "",
           "title": {
            "standoff": 15
           },
           "zerolinecolor": "white",
           "zerolinewidth": 2
          }
         }
        },
        "title": {
         "text": "BTCUSDT (5d @ 1h) - Close, MA 5, Diff"
        },
        "xaxis": {
         "anchor": "y",
         "domain": [
          0,
          0.94
         ],
         "nticks": 8,
         "range": [
          "2025-08-26T00:00:00",
          "2025-08-31T23:00:00"
         ],
         "showgrid": false,
         "showticklabels": true,
         "tickangle": -45,
         "tickfont": {
          "size": 10
         },
         "tickformat": "%Y-%m-%d\n%H:%M",
         "ticks": "outside",
         "title": {
          "standoff": 40,
          "text": "Time"
         },
         "type": "date"
        },
        "yaxis": {
         "anchor": "x",
         "domain": [
          0,
          1
         ],
         "title": {
          "text": "Price"
         }
        },
        "yaxis2": {
         "anchor": "x",
         "overlaying": "y",
         "side": "right",
         "title": {
          "text": "Diff"
         }
        }
       }
      }
     },
     "metadata": {},
     "output_type": "display_data"
    }
   ],
   "source": [
    "# VISUALISATION INTERACTIVE\n",
    "\n",
    "import plotly.graph_objects as go\n",
    "from plotly.subplots import make_subplots\n",
    "import numpy as np\n",
    "\n",
    "# Paramètre de moyenne mobile (modifiable)\n",
    "MA_PERIOD = 5\n",
    "\n",
    "if len(df_btc) > 0:\n",
    "    # Calculer la moyenne mobile sur les MA_PERIOD dernières périodes\n",
    "    df_btc[f'ma_{MA_PERIOD}'] = df_btc['close'].rolling(window=MA_PERIOD).mean()\n",
    "    # Décalage vers la gauche pour aligner (la fin des données n'est pas importante)\n",
    "    decalage = MA_PERIOD // 2\n",
    "    df_btc[f'ma_{MA_PERIOD}_shifted'] = df_btc[f'ma_{MA_PERIOD}'].shift(-decalage)\n",
    "\n",
    "    # Calculer la différence entre close et la MA décalée\n",
    "    df_btc['diff_close_ma'] = df_btc['close'] - df_btc[f'ma_{MA_PERIOD}_shifted']\n",
    "\n",
    "    # (FFT supprimée — nous conservons seulement la série des différences)\n",
    "    difference_values = df_btc['diff_close_ma'].dropna().values\n",
    "\n",
    "    # --- Création d'un seul subplot avec deux axes Y (price + diff) ---\n",
    "    fig = make_subplots(\n",
    "        rows=1,\n",
    "        cols=1,\n",
    "        shared_xaxes=True,\n",
    "        specs=[[{\"secondary_y\": True}]],\n",
    "    )\n",
    "\n",
    "    # Prix + MA sur l'axe Y principal\n",
    "    fig.add_trace(\n",
    "        go.Scatter(x=df_btc.index, y=df_btc['close'], mode='lines', name=f\"{SYMBOL} Close\", line=dict(color='#00c851', width=1)),\n",
    "        row=1,\n",
    "        col=1,\n",
    "        secondary_y=False,\n",
    "    )\n",
    "    fig.add_trace(\n",
    "        go.Scatter(x=df_btc.index, y=df_btc[f'ma_{MA_PERIOD}_shifted'], mode='lines', name=f\"MA {MA_PERIOD} (shifted)\", line=dict(color='blue', width=1)),\n",
    "        row=1,\n",
    "        col=1,\n",
    "        secondary_y=False,\n",
    "    )\n",
    "\n",
    "    # Différence sur l'axe Y secondaire\n",
    "    fig.add_trace(\n",
    "        go.Scatter(x=df_btc.index, y=df_btc['diff_close_ma'], mode='lines', name='Close - MA (shifted)', line=dict(color='red', width=1)),\n",
    "        row=1,\n",
    "        col=1,\n",
    "        secondary_y=True,\n",
    "    )\n",
    "\n",
    "    # Ajouter une ligne horizontale fine et pointillée (plus serrée) à y=0 sur l'axe Y secondaire\n",
    "    try:\n",
    "        # prefer add_hline when available; use 'dot' pour points serrés et width=1\n",
    "        fig.add_hline(y=0, line=dict(color='gray', dash='dot', width=1), row=1, col=1, secondary_y=True)\n",
    "    except Exception:\n",
    "        # Fallback: ajouter comme shape en référant explicitement à yaxis secondaire (y2)\n",
    "        try:\n",
    "            fig.add_shape(\n",
    "                type='line',\n",
    "                x0=df_btc.index.min(), x1=df_btc.index.max(),\n",
    "                y0=0, y1=0,\n",
    "                xref='x', yref='y2',\n",
    "                line=dict(color='gray', dash='dot', width=1),\n",
    "                layer='below'\n",
    "            )\n",
    "        except Exception:\n",
    "            # Si tout échoue, on ignore silencieusement pour ne pas briser l'affichage\n",
    "            pass\n",
    "\n",
    "    # Layout improvements\n",
    "    fig.update_layout(\n",
    "        height=800,\n",
    "        showlegend=False,\n",
    "        legend=dict(orientation='h', yanchor='bottom', y=1.02, xanchor='right', x=1),\n",
    "        hovermode='x unified',\n",
    "        title_text=f\"{SYMBOL} ({DUREE_JOURS}d @ {INTERVAL}) - Close, MA {MA_PERIOD}, Diff\",\n",
    "        margin=dict(l=60, r=60, t=80, b=120),\n",
    "    )\n",
    "\n",
    "    # Axis labels: primary Y = Price, secondary Y = Diff\n",
    "    fig.update_yaxes(title_text='Price', row=1, col=1, secondary_y=False)\n",
    "    fig.update_yaxes(title_text='Diff', row=1, col=1, secondary_y=True)\n",
    "\n",
    "    # Configure X-axis appearance for datetime subplot\n",
    "    # augmenter title_standoff pour réserver plus d'espace vertical pour le label\n",
    "    date_xargs = dict(type='date', tickformat=\"%Y-%m-%d\\n%H:%M\", tickangle=-45, tickfont=dict(size=10), nticks=8, ticks='outside', showgrid=False, showticklabels=True, title_standoff=40)\n",
    "    try:\n",
    "        x0 = df_btc.index.min()\n",
    "        x1 = df_btc.index.max()\n",
    "        fig.update_xaxes(range=[x0, x1], title_text='Time', **date_xargs, row=1, col=1)\n",
    "    except Exception:\n",
    "        # Fallback: still apply formatting without range\n",
    "        fig.update_xaxes(title_text='Time', **date_xargs, row=1, col=1)\n",
    "\n",
    "    # Affichage simple\n",
    "    try:\n",
    "        fig.show(renderer='vscode')\n",
    "    except Exception as e:\n",
    "        print(\"Erreur: impossible d'afficher la figure avec le renderer 'vscode'.\")\n",
    "        print(\"Détail: \", str(e))\n"
   ]
  }
 ],
 "metadata": {
  "kernelspec": {
   "display_name": "venv",
   "language": "python",
   "name": "python3"
  },
  "language_info": {
   "codemirror_mode": {
    "name": "ipython",
    "version": 3
   },
   "file_extension": ".py",
   "mimetype": "text/x-python",
   "name": "python",
   "nbconvert_exporter": "python",
   "pygments_lexer": "ipython3",
   "version": "3.13.5"
  }
 },
 "nbformat": 4,
 "nbformat_minor": 4
}
